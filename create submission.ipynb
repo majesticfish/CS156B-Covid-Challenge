{
 "cells": [
  {
   "cell_type": "code",
   "execution_count": 1,
   "metadata": {
    "collapsed": true
   },
   "outputs": [],
   "source": [
    "import numpy as np\n",
    "import pandas as pd\n",
    "from datetime import datetime\n",
    "\n",
    "def days_between(d1, d2):\n",
    "    d1 = datetime.strptime(d1, \"%Y-%m-%d\")\n",
    "    d2 = datetime.strptime(d2, \"%Y-%m-%d\")\n",
    "    return abs((d2 - d1).days)\n",
    "\n",
    "def create_prediction(date_fips, num_predictions=1):\n",
    "    return 1.0\n",
    "\n",
    "def create_submission(name='', prediction_start_date='2020-04-01', prediction_end_date='2020-06-30'):\n",
    "    df = pd.DataFrame(np.array([['id', '10.0', '20.0', '30.0', '40.0', '50.0', '60.0', '70.0', '80.0', '90.0']]))\n",
    "    submission=pd.read_csv('sample_submission.csv', sep=',',header=None)\n",
    "    if (prediction_start_date > '2020-04-01'):      # we're not getting graded on past prediction dates, so just fill with 0\n",
    "        days_difference = days_between(prediction_start_date, '2020-04-01')\n",
    "        submission_subset = pd.DataFrame(submission[1:1+3223*days_difference])\n",
    "        submission = pd.DataFrame(submission[2+3223*days_difference:])\n",
    "        print(submission)\n",
    "        sub = df.append(submission_subset, ignore_index=True)\n",
    "    \n",
    "    predictions = np.zeros([1,10])\n",
    "    for index, row in submission.iterrows():\n",
    "        date_fips = row[0]\n",
    "        pred = create_prediction(date_fips, 1)\n",
    "        pred_interval_scaling = [0.3, 0.55, 0.75, 0.9, 1.0, 1.1, 1.25, 1.45, 1.7]\n",
    "        preds = np.multiply(pred_interval_scaling, pred)\n",
    "        l = [date_fips]\n",
    "        l.extend(preds)\n",
    "        predictions = np.concatenate((predictions, [np.array(l)]))\n",
    "    predictions = predictions[1:]\n",
    "    pred_df = pd.DataFrame(predictions)\n",
    "    sub = sub.append(pred_df, ignore_index=True)\n",
    "    if name == '':\n",
    "        name = str(datetime.now()) + '.csv'\n",
    "    print(name)\n",
    "    csv = sub.to_csv(name, index=False, header=False)\n",
    "    return csv"
   ]
  },
  {
   "cell_type": "code",
   "execution_count": null,
   "metadata": {
    "collapsed": true
   },
   "outputs": [],
   "source": []
  }
 ],
 "metadata": {
  "bento_stylesheets": {
   "bento/extensions/flow/main.css": true,
   "bento/extensions/kernel_selector/main.css": true,
   "bento/extensions/kernel_ui/main.css": true,
   "bento/extensions/new_kernel/main.css": true,
   "bento/extensions/system_usage/main.css": true,
   "bento/extensions/theme/main.css": true
  },
  "kernelspec": {
   "display_name": "Python 3",
   "language": "python",
   "name": "bento_kernel_default"
  },
  "language_info": {
   "codemirror_mode": {
    "name": "ipython",
    "version": 3
   },
   "file_extension": ".py",
   "mimetype": "text/x-python",
   "name": "python",
   "nbconvert_exporter": "python",
   "pygments_lexer": "ipython3",
   "version": "3.7.5+"
  }
 },
 "nbformat": 4,
 "nbformat_minor": 2
}
