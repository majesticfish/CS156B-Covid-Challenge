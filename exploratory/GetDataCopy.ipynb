{
 "cells": [
  {
   "cell_type": "code",
   "execution_count": 2,
   "metadata": {},
   "outputs": [],
   "source": [
    "import numpy as np\n",
    "import pandas as pd\n",
    "import matplotlib.pyplot as plt\n",
    "import git\n",
    "import math\n",
    "import os\n",
    "import statsmodels.api as sm\n",
    "from statsmodels.tsa.arima_model import ARIMA\n",
    "from statsmodels.tsa.stattools import pacf\n",
    "from pandas.plotting import autocorrelation_plot\n",
    "from datetime import datetime\n",
    "import numpy as np\n",
    "import pandas as pd\n",
    "import lightgbm as lgb\n",
    "import statsmodels.tsa.stattools as ts\n",
    "\n",
    "from sklearn.metrics import mean_squared_error\n",
    "from sklearn.model_selection import GridSearchCV\n",
    "\n",
    "repo = git.Repo(\"./\", search_parent_directories=True)\n",
    "homedir = repo.working_dir"
   ]
  },
  {
   "cell_type": "code",
   "execution_count": 3,
   "metadata": {},
   "outputs": [],
   "source": [
    "df_jhu = pd.read_csv(f\"{homedir}/data/us/aggregate_jhu.csv\")\n",
    "df_berk = pd.read_csv(f\"{homedir}/data/us/aggregate_berkeley.csv\")"
   ]
  },
  {
   "cell_type": "code",
   "execution_count": 4,
   "metadata": {},
   "outputs": [],
   "source": [
    "# Get rid of the aggregate country data\n",
    "df_jhu = df_jhu.drop([0])\n",
    "df_jhu['FIPS'] = df_jhu['FIPS'].map(lambda f : str(f))"
   ]
  },
  {
   "cell_type": "code",
   "execution_count": 5,
   "metadata": {},
   "outputs": [],
   "source": [
    "def alter(fips):\n",
    "    if len(fips) == 4:\n",
    "        return '0' + fips\n",
    "    return fips\n",
    "df_jhu['FIPS'] = df_jhu['FIPS'].map(alter)\n",
    "df_jhu = df_jhu.set_index('FIPS')\n",
    "df_jhu['fips'] = df_jhu.index.map(lambda s : int(s))"
   ]
  },
  {
   "cell_type": "code",
   "execution_count": 6,
   "metadata": {},
   "outputs": [],
   "source": [
    "features = ['State', 'Area_Name','POP_ESTIMATE_2018', 'Area in square miles - Land area', 'Density per square mile of land area - Population', 'Total_Male', 'Total_Female', 'Total_age0to17', \n",
    "            'Total_age18to64','Total_age65plus', 'Active Physicians per 100000 Population 2018 (AAMC)', 'Active General Surgeons per 100000 Population 2018 (AAMC)',\n",
    "           'Non-profit hospital beds per 1000 people (2019)', 'Employed_2018', 'Unemployment_rate_2018'\n",
    "           , 'Total hospital beds per 1000 people (2019)', 'Total nurse practitioners (2019)',\n",
    "           'Total Hospitals (2019)','fips']"
   ]
  },
  {
   "cell_type": "code",
   "execution_count": 7,
   "metadata": {},
   "outputs": [],
   "source": [
    "# gets list of all fips numbers\n",
    "def get_fips():\n",
    "    Y = pd.read_csv(f\"{homedir}/data/us/covid/deaths.csv\")\n",
    "    return set(Y.countyFIPS.values)\n",
    "\n",
    "def get_date(datestr, formatstr='%Y-%m-%d'):\n",
    "    return datetime.strptime(datestr, formatstr)"
   ]
  },
  {
   "cell_type": "code",
   "execution_count": 179,
   "metadata": {},
   "outputs": [],
   "source": [
    "class CumDeathCounter:\n",
    "    def __init__(self):\n",
    "        self.df = pd.read_csv(f\"{homedir}/data/us/covid/nyt_us_counties.csv\")\n",
    "        self.df = self.df.iloc[np.where(~pd.isna(self.df['fips']))]\n",
    "        self.df = self.d\n",
    "        fips = self.df.fips.unique()\n",
    "\n",
    "        self.cache = {}\n",
    "        for fip in fips:\n",
    "            self.cache[fip] = self.get_cum_deaths(fip)\n",
    "    def get_cum_deaths(self, fips):\n",
    "        df_county = self.df[self.df.fips == fips]\n",
    "        X = df_county.date.map(lambda day: (get_date(day) - get_date('2020-01-01')).days).values\n",
    "        y_deaths = df_county.deaths.values\n",
    "        return (X, y_deaths)\n",
    "    def getY(self, fips):\n",
    "        return self.cache[fips]\n",
    "class CumCaseCounter:\n",
    "    def __init__(self):\n",
    "        self.df = pd.read_csv(f\"{homedir}/data/us/covid/nyt_us_counties.csv\")\n",
    "        self.df = self.df.iloc[np.where(~pd.isna(self.df['fips']))]\n",
    "        self.df['fips'] = self.df['fips'].map(lambda fip : int(fip))\n",
    "        fips = self.df.fips.unique()\n",
    "\n",
    "        self.cache = {}\n",
    "        for fip in fips:\n",
    "            self.cache[fip] = self.get_cum_cases(fip)\n",
    "    def get_cum_cases(self, fips):\n",
    "        df_county = self.df[self.df.fips == fips]\n",
    "        X = df_county.date.map(lambda day: (get_date(day) - get_date('2020-01-01')).days).values\n",
    "        y_cases = df_county.cases.values\n",
    "        return (X, y_cases)\n",
    "    def getY(self, state):\n",
    "        return self.cache[state]\n",
    "class DeltaCounter:\n",
    "    def __init__(self, counter):\n",
    "        self.counter = counter\n",
    "    def getY(self, fips):\n",
    "        X, y = self.counter.getY(fips)\n",
    "        y_true = [y[0]]\n",
    "        for i in range(1, len(y)):\n",
    "            y_true.append(y[i] - y[i-1])\n",
    "        return X, y_true\n",
    "class RatioCounter:\n",
    "    def __init__(self, counter):\n",
    "        self.counter = counter\n",
    "    def getY(self, state, avg_period=5):\n",
    "        X_raw, y_raw = self.counter.getY(state)\n",
    "        y = []\n",
    "        running_sum = 0.0\n",
    "        running_time = 0\n",
    "        for i in range(len(X_raw)):\n",
    "            if y_raw[i] == 0:\n",
    "                y.append(0)\n",
    "            elif running_sum == 0:\n",
    "                y.append(1) # if this is the first case we define the signal as 1\n",
    "            else:\n",
    "                avg = running_sum/running_time\n",
    "                y.append(y_raw[i]/avg)\n",
    "            if running_time == avg_period:\n",
    "                running_sum = running_sum + y_raw[i] - y_raw[i - avg_period]\n",
    "            else:\n",
    "                running_sum = running_sum + y_raw[i]\n",
    "                running_time = running_time + 1    \n",
    "            if running_sum == 0:\n",
    "                running_time = 1\n",
    "        return (X_raw, np.array(y))"
   ]
  },
  {
   "cell_type": "code",
   "execution_count": 65,
   "metadata": {},
   "outputs": [],
   "source": [
    "cum_death_counter = CumDeathCounter()\n",
    "cum_case_counter = CumCaseCounter()\n",
    "delta_death_counter = DeltaCounter(cum_death_counter)\n",
    "delta_case_counter = DeltaCounter(cum_case_counter)\n",
    "delta_death_ratio_counter = RatioCounter(delta_death_counter)\n",
    "delta_case_ratio_counter = RatiCounter(delta_case_counter)"
   ]
  },
  {
   "cell_type": "code",
   "execution_count": 72,
   "metadata": {},
   "outputs": [
    {
     "name": "stderr",
     "output_type": "stream",
     "text": [
      "/home/sean/anaconda3/lib/python3.7/site-packages/ipykernel_launcher.py:5: SettingWithCopyWarning: \n",
      "A value is trying to be set on a copy of a slice from a DataFrame.\n",
      "Try using .loc[row_indexer,col_indexer] = value instead\n",
      "\n",
      "See the caveats in the documentation: http://pandas.pydata.org/pandas-docs/stable/indexing.html#indexing-view-versus-copy\n",
      "  \"\"\"\n"
     ]
    }
   ],
   "source": [
    "data_dir = f'{homedir}/data/us/mobility'\n",
    "# Data contains information about states and counties with states listed before their respective counties\n",
    "df_mob = pd.read_csv(os.path.join(data_dir, 'DL-us-mobility-daterow.csv'))\n",
    "counties = df_mob[df_mob['admin_level'] == 2]\n",
    "counties['fips'] = counties['fips'].map(lambda f: int(f));\n",
    "def get_mobility(fips):\n",
    "    data = counties[counties['fips'] == fips]\n",
    "    t = data['date'].map(lambda d: (get_date(d) - get_date('2020-01-01')).days)\n",
    "    y = data['m50_index']\n",
    "    return (t.values, y.values)"
   ]
  },
  {
   "cell_type": "markdown",
   "metadata": {},
   "source": [
    "## Simple OLS"
   ]
  },
  {
   "cell_type": "code",
   "execution_count": 73,
   "metadata": {},
   "outputs": [],
   "source": [
    "df = df_jhu[features]"
   ]
  },
  {
   "cell_type": "code",
   "execution_count": 115,
   "metadata": {},
   "outputs": [],
   "source": [
    "def get_XY(features, delta_y, look_back_y, y_generator):\n",
    "    df = df_jhu[features]\n",
    "    df = df[df.fips % 1000 != 0] # remove aggregate states\n",
    "    df = df[df.State != 'PR']   # peurto rico has some weird data...\n",
    "    df = df[df.POP_ESTIMATE_2018 > 1000] # restrict to large counties since getting lots of data is difficult\n",
    "\n",
    "    # fill out missing data\n",
    "    df.at['02158', 'Area in square miles - Land area'] = 19673\n",
    "    df.at['02158', 'Density per square mile of land area - Population'] = 0.44\n",
    "    df.at['46102', 'Area in square miles - Land area'] = 2097\n",
    "    df.at['46102', 'Density per square mile of land area - Population'] = 6.5\n",
    "\n",
    "    n, d = df.shape\n",
    "    col_names = []\n",
    "    for i in range(5):\n",
    "        col_name = \"y at t = -%d\" %i\n",
    "        col_names.append(col_name)\n",
    "        df[col_name] = np.zeros(n)\n",
    "    X = []\n",
    "    Y = []\n",
    "    for fips in df.index:\n",
    "        base = df.loc[fips].values\n",
    "        try:\n",
    "            t, ys = y_generator.getY(int(fips))\n",
    "        except KeyError:\n",
    "            continue\n",
    "        if len(ys) == 0:\n",
    "            X.append(base)\n",
    "            Y.append(0)\n",
    "            continue\n",
    "        for j in range(-1, -len(ys), -int(delta_y/2)):\n",
    "            base = df.loc[fips].values\n",
    "            Y.append(ys[j])\n",
    "            for i in range(look_back_y):\n",
    "                if j - look_back_y - i >= -len(ys):\n",
    "                    base[-look_back_y + i] = ys[j - look_back_y - i]\n",
    "            X.append(base)\n",
    "    df_new = pd.DataFrame(X, columns = df.columns)\n",
    "    df_new['target'] = Y\n",
    "    return df_new"
   ]
  },
  {
   "cell_type": "code",
   "execution_count": 268,
   "metadata": {},
   "outputs": [],
   "source": [
    "df_new = get_XY(features, 10, 14, delta_death_counter)"
   ]
  },
  {
   "cell_type": "code",
   "execution_count": 269,
   "metadata": {},
   "outputs": [
    {
     "data": {
      "text/plain": [
       "(array([1.6342e+04, 1.5600e+02, 4.9000e+01, 1.7000e+01, 1.0000e+01,\n",
       "        1.3000e+01, 6.0000e+00, 6.0000e+00, 1.0000e+00, 1.0000e+00]),\n",
       " array([-3. ,  5.8, 14.6, 23.4, 32.2, 41. , 49.8, 58.6, 67.4, 76.2, 85. ]),\n",
       " <a list of 10 Patch objects>)"
      ]
     },
     "execution_count": 269,
     "metadata": {},
     "output_type": "execute_result"
    },
    {
     "data": {
      "image/png": "[encoded data removed]",
      "text/plain": [
       "<Figure size 432x288 with 1 Axes>"
      ]
     },
     "metadata": {
      "needs_background": "light"
     },
     "output_type": "display_data"
    }
   ],
   "source": [
    "X = df_new.iloc[:,2:-1].values\n",
    "y = df_new['target'].values\n",
    "plt.hist(y)"
   ]
  },
  {
   "cell_type": "code",
   "execution_count": 270,
   "metadata": {},
   "outputs": [
    {
     "name": "stdout",
     "output_type": "stream",
     "text": [
      "                            OLS Regression Results                            \n",
      "==============================================================================\n",
      "Dep. Variable:                      y   R-squared:                       0.420\n",
      "Model:                            OLS   Adj. R-squared:                  0.419\n",
      "Method:                 Least Squares   F-statistic:                     396.0\n",
      "Date:                Fri, 24 Apr 2020   Prob (F-statistic):               0.00\n",
      "Time:                        00:12:17   Log-Likelihood:                -26345.\n",
      "No. Observations:               10956   AIC:                         5.273e+04\n",
      "Df Residuals:                   10936   BIC:                         5.288e+04\n",
      "Df Model:                          20                                         \n",
      "Covariance Type:            nonrobust                                         \n",
      "==============================================================================\n",
      "                 coef    std err          t      P>|t|      [0.025      0.975]\n",
      "------------------------------------------------------------------------------\n",
      "x1          5.338e-06   3.97e-07     13.448      0.000    4.56e-06    6.12e-06\n",
      "x2         -3.944e-06   7.79e-06     -0.507      0.612   -1.92e-05    1.13e-05\n",
      "x3             0.0006   2.65e-05     23.262      0.000       0.001       0.001\n",
      "x4         -4.923e-05   4.04e-06    -12.181      0.000   -5.72e-05   -4.13e-05\n",
      "x5          5.457e-05   3.96e-06     13.776      0.000    4.68e-05    6.23e-05\n",
      "x6          1.316e-05   2.18e-06      6.030      0.000    8.88e-06    1.74e-05\n",
      "x7         -1.897e-05   1.51e-06    -12.557      0.000   -2.19e-05    -1.6e-05\n",
      "x8          1.115e-05   1.74e-06      6.416      0.000    7.74e-06    1.46e-05\n",
      "x9            -0.0085      0.000    -20.030      0.000      -0.009      -0.008\n",
      "x10            0.2839      0.016     18.240      0.000       0.253       0.314\n",
      "x11            0.1808      0.025      7.116      0.000       0.131       0.231\n",
      "x12        -8.265e-07   3.88e-07     -2.129      0.033   -1.59e-06   -6.54e-08\n",
      "x13           -0.0491      0.013     -3.819      0.000      -0.074      -0.024\n",
      "x14            0.0530      0.027      1.961      0.050    1.38e-05       0.106\n",
      "x15           -0.0033      0.000     -6.984      0.000      -0.004      -0.002\n",
      "x16            0.0057      0.016      0.356      0.721      -0.026       0.037\n",
      "x17        -1.351e-05   2.45e-06     -5.516      0.000   -1.83e-05   -8.71e-06\n",
      "x18            0.1005      0.079      1.278      0.201      -0.054       0.254\n",
      "x19            1.7112      0.126     13.628      0.000       1.465       1.957\n",
      "x20            1.0674      0.118      9.064      0.000       0.837       1.298\n",
      "x21           -0.5211      0.114     -4.574      0.000      -0.744      -0.298\n",
      "x22            1.5337      0.179      8.591      0.000       1.184       1.884\n",
      "==============================================================================\n",
      "Omnibus:                    17701.783   Durbin-Watson:                   1.013\n",
      "Prob(Omnibus):                  0.000   Jarque-Bera (JB):         18591451.360\n",
      "Skew:                          10.450   Prob(JB):                         0.00\n",
      "Kurtosis:                     203.722   Cond. No.                     5.45e+16\n",
      "==============================================================================\n",
      "\n",
      "Warnings:\n",
      "[1] Standard Errors assume that the covariance matrix of the errors is correctly specified.\n",
      "[2] The smallest eigenvalue is 2.78e-18. This might indicate that there are\n",
      "strong multicollinearity problems or that the design matrix is singular.\n",
      "R squared (out sample) is 2.096213\n"
     ]
    }
   ],
   "source": [
    "train_num = int(y.shape[0] * 0.66)\n",
    "X_test = X[train_num:,:]\n",
    "y_test = y[train_num:]\n",
    "X_train = X[:train_num,:]\n",
    "y_train = y[:train_num]\n",
    "model = sm.OLS(y_train,X_train)\n",
    "result = model.fit()\n",
    "print(result.summary())\n",
    "\n",
    "def Rsquare(pred, actual):   \n",
    "    ybar = np.sum(actual)/len(actual)          # or sum(y)/len(y)\n",
    "    ssreg = np.sum((pred-ybar)**2)   # or sum([ (yihat - ybar)**2 for yihat in yhat])\n",
    "    sstot = np.sum((actual - ybar)**2)    # or sum([ (yi - ybar)**2 for yi in y])\n",
    "    return ssreg/sstot\n",
    "print(\"R squared (out sample) is %f\" % (Rsquare(result.predict(X_test), y_test)))"
   ]
  },
  {
   "cell_type": "code",
   "execution_count": 265,
   "metadata": {},
   "outputs": [
    {
     "data": {
      "text/plain": [
       "<matplotlib.collections.PathCollection at 0x7fae205dd1d0>"
      ]
     },
     "execution_count": 265,
     "metadata": {},
     "output_type": "execute_result"
    },
    {
     "data": {
      "image/png": "[encoded data removed]",
      "text/plain": [
       "<Figure size 432x288 with 1 Axes>"
      ]
     },
     "metadata": {
      "needs_background": "light"
     },
     "output_type": "display_data"
    }
   ],
   "source": [
    "plt.scatter(result.predict(X_train), y_train)"
   ]
  },
  {
   "cell_type": "markdown",
   "metadata": {},
   "source": [
    "## LightGBM"
   ]
  },
  {
   "cell_type": "code",
   "execution_count": 148,
   "metadata": {},
   "outputs": [
    {
     "name": "stdout",
     "output_type": "stream",
     "text": [
      "[1]\tvalid_0's l2: 1.77883\n",
      "Training until validation scores don't improve for 10 rounds\n",
      "[2]\tvalid_0's l2: 1.65296\n",
      "[3]\tvalid_0's l2: 1.547\n",
      "[4]\tvalid_0's l2: 1.46095\n",
      "[5]\tvalid_0's l2: 1.37345\n",
      "[6]\tvalid_0's l2: 1.29918\n",
      "[7]\tvalid_0's l2: 1.25126\n",
      "[8]\tvalid_0's l2: 1.19903\n",
      "[9]\tvalid_0's l2: 1.15558\n",
      "[10]\tvalid_0's l2: 1.10853\n",
      "[11]\tvalid_0's l2: 1.08326\n",
      "[12]\tvalid_0's l2: 1.05558\n",
      "[13]\tvalid_0's l2: 1.04349\n",
      "[14]\tvalid_0's l2: 1.03201\n",
      "[15]\tvalid_0's l2: 1.02503\n",
      "[16]\tvalid_0's l2: 1.03945\n",
      "[17]\tvalid_0's l2: 1.04447\n",
      "[18]\tvalid_0's l2: 1.06869\n",
      "[19]\tvalid_0's l2: 1.08302\n",
      "[20]\tvalid_0's l2: 1.09034\n",
      "[21]\tvalid_0's l2: 1.10876\n",
      "[22]\tvalid_0's l2: 1.13747\n",
      "[23]\tvalid_0's l2: 1.1778\n",
      "[24]\tvalid_0's l2: 1.19223\n",
      "[25]\tvalid_0's l2: 1.21813\n",
      "Early stopping, best iteration is:\n",
      "[15]\tvalid_0's l2: 1.02503\n",
      "R squared (in sample) is 0.178331\n",
      "R squared (out sample) is 0.526505\n"
     ]
    },
    {
     "data": {
      "text/plain": [
       "<matplotlib.collections.PathCollection at 0x7fae31443780>"
      ]
     },
     "execution_count": 148,
     "metadata": {},
     "output_type": "execute_result"
    },
    {
     "data": {
      "image/png": "[encoded data removed]",
      "text/plain": [
       "<Figure size 432x288 with 1 Axes>"
      ]
     },
     "metadata": {
      "needs_background": "light"
     },
     "output_type": "display_data"
    }
   ],
   "source": [
    "gbm = lgb.LGBMRegressor(num_leaves=50,\n",
    "                        learning_rate=0.05,\n",
    "                        n_estimators=2000);\n",
    "gbm.fit(X_train, y_train,\n",
    "        eval_set=[(X_test, y_test)],\n",
    "        eval_metric='l2',\n",
    "        early_stopping_rounds=10);\n",
    "pred_train = gbm.predict(X_train, num_iteration=gbm.best_iteration_)\n",
    "print(\"R squared (in sample) is %f\" % Rsquare(pred_train, y_train))\n",
    "pred_test = gbm.predict(X_test, num_iteration=gbm.best_iteration_)\n",
    "print(\"R squared (out sample) is %f\" % Rsquare(pred_test, y_test))\n",
    "plt.scatter(pred_test, y_test)"
   ]
  },
  {
   "cell_type": "markdown",
   "metadata": {},
   "source": [
    "## Augmented Dickey Fuller Test for Stationary Time Series"
   ]
  },
  {
   "cell_type": "code",
   "execution_count": 150,
   "metadata": {},
   "outputs": [
    {
     "name": "stdout",
     "output_type": "stream",
     "text": [
      "Augmented Dickey-Fuller Test Results:\n",
      "ADF Test Statistic            NaN\n",
      "P-Value                       NaN\n",
      "# Lags Used              0.000000\n",
      "# Observations Used     33.000000\n",
      "Critical Value (1%)     -3.646135\n",
      "Critical Value (5%)     -2.954127\n",
      "Critical Value (10%)    -2.615968\n",
      "dtype: float64\n"
     ]
    },
    {
     "name": "stderr",
     "output_type": "stream",
     "text": [
      "/home/sean/anaconda3/lib/python3.7/site-packages/statsmodels/regression/linear_model.py:846: RuntimeWarning: divide by zero encountered in log\n",
      "  llf = -nobs2*np.log(2*np.pi) - nobs2*np.log(ssr / nobs) - nobs2\n",
      "/home/sean/anaconda3/lib/python3.7/site-packages/statsmodels/base/model.py:1100: RuntimeWarning: invalid value encountered in true_divide\n",
      "  return self.params / self.bse\n"
     ]
    }
   ],
   "source": [
    "X, y = delta_death_counter.getY(17001)\n",
    "adfTest = ts.adfuller(y, autolag='AIC')\n",
    "dfResults = pd.Series(adfTest[0:4], index=['ADF Test Statistic','P-Value','# Lags Used','# Observations Used'])\n",
    "#Add Critical Values\n",
    "for key,value in adfTest[4].items():\n",
    "    dfResults['Critical Value (%s)'%key] = value\n",
    "print('Augmented Dickey-Fuller Test Results:')\n",
    "print(dfResults)"
   ]
  },
  {
   "cell_type": "markdown",
   "metadata": {},
   "source": [
    "Conclude: time series is stationary"
   ]
  },
  {
   "cell_type": "code",
   "execution_count": 151,
   "metadata": {},
   "outputs": [
    {
     "ename": "KeyError",
     "evalue": "0",
     "output_type": "error",
     "traceback": [
      "\u001b[0;31m---------------------------------------------------------------------------\u001b[0m",
      "\u001b[0;31mKeyError\u001b[0m                                  Traceback (most recent call last)",
      "\u001b[0;32m<ipython-input-151-33106b01165c>\u001b[0m in \u001b[0;36m<module>\u001b[0;34m\u001b[0m\n\u001b[1;32m      3\u001b[0m \u001b[0mnon_stationary\u001b[0m \u001b[0;34m=\u001b[0m \u001b[0;36m0\u001b[0m\u001b[0;34m\u001b[0m\u001b[0;34m\u001b[0m\u001b[0m\n\u001b[1;32m      4\u001b[0m \u001b[0;32mfor\u001b[0m \u001b[0mfips\u001b[0m \u001b[0;32min\u001b[0m \u001b[0mfips_list\u001b[0m\u001b[0;34m:\u001b[0m\u001b[0;34m\u001b[0m\u001b[0;34m\u001b[0m\u001b[0m\n\u001b[0;32m----> 5\u001b[0;31m     \u001b[0mX\u001b[0m\u001b[0;34m,\u001b[0m \u001b[0my\u001b[0m \u001b[0;34m=\u001b[0m \u001b[0mdelta_death_ratio_counter\u001b[0m\u001b[0;34m.\u001b[0m\u001b[0mgetY\u001b[0m\u001b[0;34m(\u001b[0m\u001b[0mfips\u001b[0m\u001b[0;34m)\u001b[0m\u001b[0;34m\u001b[0m\u001b[0;34m\u001b[0m\u001b[0m\n\u001b[0m\u001b[1;32m      6\u001b[0m     \u001b[0;32mif\u001b[0m \u001b[0mlen\u001b[0m\u001b[0;34m(\u001b[0m\u001b[0my\u001b[0m\u001b[0;34m)\u001b[0m \u001b[0;34m<\u001b[0m \u001b[0;36m6\u001b[0m\u001b[0;34m:\u001b[0m\u001b[0;34m\u001b[0m\u001b[0;34m\u001b[0m\u001b[0m\n\u001b[1;32m      7\u001b[0m         \u001b[0;32mcontinue\u001b[0m\u001b[0;34m\u001b[0m\u001b[0;34m\u001b[0m\u001b[0m\n",
      "\u001b[0;32m<ipython-input-64-2a5ecb535e1e>\u001b[0m in \u001b[0;36mgetY\u001b[0;34m(self, state, avg_period)\u001b[0m\n\u001b[1;32m     46\u001b[0m         \u001b[0mself\u001b[0m\u001b[0;34m.\u001b[0m\u001b[0mcounter\u001b[0m \u001b[0;34m=\u001b[0m \u001b[0mcounter\u001b[0m\u001b[0;34m\u001b[0m\u001b[0;34m\u001b[0m\u001b[0m\n\u001b[1;32m     47\u001b[0m     \u001b[0;32mdef\u001b[0m \u001b[0mgetY\u001b[0m\u001b[0;34m(\u001b[0m\u001b[0mself\u001b[0m\u001b[0;34m,\u001b[0m \u001b[0mstate\u001b[0m\u001b[0;34m,\u001b[0m \u001b[0mavg_period\u001b[0m\u001b[0;34m=\u001b[0m\u001b[0;36m5\u001b[0m\u001b[0;34m)\u001b[0m\u001b[0;34m:\u001b[0m\u001b[0;34m\u001b[0m\u001b[0;34m\u001b[0m\u001b[0m\n\u001b[0;32m---> 48\u001b[0;31m         \u001b[0mX_raw\u001b[0m\u001b[0;34m,\u001b[0m \u001b[0my_raw\u001b[0m \u001b[0;34m=\u001b[0m \u001b[0mself\u001b[0m\u001b[0;34m.\u001b[0m\u001b[0mcounter\u001b[0m\u001b[0;34m.\u001b[0m\u001b[0mgetY\u001b[0m\u001b[0;34m(\u001b[0m\u001b[0mstate\u001b[0m\u001b[0;34m)\u001b[0m\u001b[0;34m\u001b[0m\u001b[0;34m\u001b[0m\u001b[0m\n\u001b[0m\u001b[1;32m     49\u001b[0m         \u001b[0my\u001b[0m \u001b[0;34m=\u001b[0m \u001b[0;34m[\u001b[0m\u001b[0;34m]\u001b[0m\u001b[0;34m\u001b[0m\u001b[0;34m\u001b[0m\u001b[0m\n\u001b[1;32m     50\u001b[0m         \u001b[0mrunning_sum\u001b[0m \u001b[0;34m=\u001b[0m \u001b[0;36m0.0\u001b[0m\u001b[0;34m\u001b[0m\u001b[0;34m\u001b[0m\u001b[0m\n",
      "\u001b[0;32m<ipython-input-64-2a5ecb535e1e>\u001b[0m in \u001b[0;36mgetY\u001b[0;34m(self, fips)\u001b[0m\n\u001b[1;32m     37\u001b[0m         \u001b[0mself\u001b[0m\u001b[0;34m.\u001b[0m\u001b[0mcounter\u001b[0m \u001b[0;34m=\u001b[0m \u001b[0mcounter\u001b[0m\u001b[0;34m\u001b[0m\u001b[0;34m\u001b[0m\u001b[0m\n\u001b[1;32m     38\u001b[0m     \u001b[0;32mdef\u001b[0m \u001b[0mgetY\u001b[0m\u001b[0;34m(\u001b[0m\u001b[0mself\u001b[0m\u001b[0;34m,\u001b[0m \u001b[0mfips\u001b[0m\u001b[0;34m)\u001b[0m\u001b[0;34m:\u001b[0m\u001b[0;34m\u001b[0m\u001b[0;34m\u001b[0m\u001b[0m\n\u001b[0;32m---> 39\u001b[0;31m         \u001b[0mX\u001b[0m\u001b[0;34m,\u001b[0m \u001b[0my\u001b[0m \u001b[0;34m=\u001b[0m \u001b[0mself\u001b[0m\u001b[0;34m.\u001b[0m\u001b[0mcounter\u001b[0m\u001b[0;34m.\u001b[0m\u001b[0mgetY\u001b[0m\u001b[0;34m(\u001b[0m\u001b[0mfips\u001b[0m\u001b[0;34m)\u001b[0m\u001b[0;34m\u001b[0m\u001b[0;34m\u001b[0m\u001b[0m\n\u001b[0m\u001b[1;32m     40\u001b[0m         \u001b[0my_true\u001b[0m \u001b[0;34m=\u001b[0m \u001b[0;34m[\u001b[0m\u001b[0my\u001b[0m\u001b[0;34m[\u001b[0m\u001b[0;36m0\u001b[0m\u001b[0;34m]\u001b[0m\u001b[0;34m]\u001b[0m\u001b[0;34m\u001b[0m\u001b[0;34m\u001b[0m\u001b[0m\n\u001b[1;32m     41\u001b[0m         \u001b[0;32mfor\u001b[0m \u001b[0mi\u001b[0m \u001b[0;32min\u001b[0m \u001b[0mrange\u001b[0m\u001b[0;34m(\u001b[0m\u001b[0;36m1\u001b[0m\u001b[0;34m,\u001b[0m \u001b[0mlen\u001b[0m\u001b[0;34m(\u001b[0m\u001b[0my\u001b[0m\u001b[0;34m)\u001b[0m\u001b[0;34m)\u001b[0m\u001b[0;34m:\u001b[0m\u001b[0;34m\u001b[0m\u001b[0;34m\u001b[0m\u001b[0m\n",
      "\u001b[0;32m<ipython-input-64-2a5ecb535e1e>\u001b[0m in \u001b[0;36mgetY\u001b[0;34m(self, fips)\u001b[0m\n\u001b[1;32m     15\u001b[0m         \u001b[0;32mreturn\u001b[0m \u001b[0;34m(\u001b[0m\u001b[0mX\u001b[0m\u001b[0;34m,\u001b[0m \u001b[0my_deaths\u001b[0m\u001b[0;34m)\u001b[0m\u001b[0;34m\u001b[0m\u001b[0;34m\u001b[0m\u001b[0m\n\u001b[1;32m     16\u001b[0m     \u001b[0;32mdef\u001b[0m \u001b[0mgetY\u001b[0m\u001b[0;34m(\u001b[0m\u001b[0mself\u001b[0m\u001b[0;34m,\u001b[0m \u001b[0mfips\u001b[0m\u001b[0;34m)\u001b[0m\u001b[0;34m:\u001b[0m\u001b[0;34m\u001b[0m\u001b[0;34m\u001b[0m\u001b[0m\n\u001b[0;32m---> 17\u001b[0;31m         \u001b[0;32mreturn\u001b[0m \u001b[0mself\u001b[0m\u001b[0;34m.\u001b[0m\u001b[0mcache\u001b[0m\u001b[0;34m[\u001b[0m\u001b[0mfips\u001b[0m\u001b[0;34m]\u001b[0m\u001b[0;34m\u001b[0m\u001b[0;34m\u001b[0m\u001b[0m\n\u001b[0m\u001b[1;32m     18\u001b[0m \u001b[0;32mclass\u001b[0m \u001b[0mCumCaseCounter\u001b[0m\u001b[0;34m:\u001b[0m\u001b[0;34m\u001b[0m\u001b[0;34m\u001b[0m\u001b[0m\n\u001b[1;32m     19\u001b[0m     \u001b[0;32mdef\u001b[0m \u001b[0m__init__\u001b[0m\u001b[0;34m(\u001b[0m\u001b[0mself\u001b[0m\u001b[0;34m)\u001b[0m\u001b[0;34m:\u001b[0m\u001b[0;34m\u001b[0m\u001b[0;34m\u001b[0m\u001b[0m\n",
      "\u001b[0;31mKeyError\u001b[0m: 0"
     ]
    }
   ],
   "source": [
    "fips_list = get_fips()\n",
    "stationary = 0\n",
    "non_stationary = 0\n",
    "for fips in fips_list:\n",
    "    X, y = delta_death_ratio_counter.getY(fips)\n",
    "    if len(y) < 6:\n",
    "        continue\n",
    "    adfTest = ts.adfuller(y, maxlag=4)\n",
    "    if adfTest[1] > 0.05:\n",
    "            non_stationary += 1\n",
    "    else:\n",
    "            stationary += 1\n",
    "\n",
    "print (\"stationary %d, non-stat %d\" % (stationary, non_stationary))"
   ]
  },
  {
   "cell_type": "markdown",
   "metadata": {},
   "source": [
    "## ARIMA Model"
   ]
  },
  {
   "cell_type": "code",
   "execution_count": 178,
   "metadata": {},
   "outputs": [
    {
     "data": {
      "text/plain": [
       "[<matplotlib.lines.Line2D at 0x7fb86b2d0908>]"
      ]
     },
     "execution_count": 178,
     "metadata": {},
     "output_type": "execute_result"
    },
    {
     "data": {
      "image/png": "[encoded data removed]",
      "text/plain": [
       "<Figure size 432x288 with 1 Axes>"
      ]
     },
     "metadata": {
      "needs_background": "light"
     },
     "output_type": "display_data"
    }
   ],
   "source": [
    "# some counties: King (53033), NYC (36061), Chicago (17031), LA (6037), Wayne, MI (26163), Queens(36059), King (nyc) (36047)\n",
    "X, y = get_cum_deaths(53033)\n",
    "plt.plot(X,y)"
   ]
  },
  {
   "cell_type": "code",
   "execution_count": 179,
   "metadata": {},
   "outputs": [
    {
     "data": {
      "text/plain": [
       "<matplotlib.axes._subplots.AxesSubplot at 0x7fb86b36c2b0>"
      ]
     },
     "execution_count": 179,
     "metadata": {},
     "output_type": "execute_result"
    },
    {
     "data": {
      "image/png": "[encoded data removed]",
      "text/plain": [
       "<Figure size 432x288 with 1 Axes>"
      ]
     },
     "metadata": {
      "needs_background": "light"
     },
     "output_type": "display_data"
    }
   ],
   "source": [
    "autocorrelation_plot(y)"
   ]
  },
  {
   "cell_type": "code",
   "execution_count": 180,
   "metadata": {},
   "outputs": [
    {
     "data": {
      "text/plain": [
       "[<matplotlib.lines.Line2D at 0x7fb86cd1fa20>]"
      ]
     },
     "execution_count": 180,
     "metadata": {},
     "output_type": "execute_result"
    },
    {
     "data": {
      "image/png": "[encoded data removed]",
      "text/plain": [
       "<Figure size 432x288 with 1 Axes>"
      ]
     },
     "metadata": {
      "needs_background": "light"
     },
     "output_type": "display_data"
    }
   ],
   "source": [
    "plt.plot(pacf(y))"
   ]
  },
  {
   "cell_type": "code",
   "execution_count": 181,
   "metadata": {
    "scrolled": true
   },
   "outputs": [
    {
     "name": "stdout",
     "output_type": "stream",
     "text": [
      "                             ARIMA Model Results                              \n",
      "==============================================================================\n",
      "Dep. Variable:                   D2.y   No. Observations:                   46\n",
      "Model:                 ARIMA(5, 2, 1)   Log Likelihood                -125.876\n",
      "Method:                       css-mle   S.D. of innovations              3.563\n",
      "Date:                Fri, 17 Apr 2020   AIC                            267.753\n",
      "Time:                        18:19:04   BIC                            282.382\n",
      "Sample:                             2   HQIC                           273.233\n",
      "                                                                              \n",
      "==============================================================================\n",
      "                 coef    std err          z      P>|z|      [0.025      0.975]\n",
      "------------------------------------------------------------------------------\n",
      "const          0.2213      0.049      4.557      0.000       0.126       0.316\n",
      "ar.L1.D2.y     0.0198      0.158      0.125      0.901      -0.290       0.329\n",
      "ar.L2.D2.y     0.3093      0.147      2.100      0.042       0.021       0.598\n",
      "ar.L3.D2.y    -0.2108      0.137     -1.534      0.133      -0.480       0.059\n",
      "ar.L4.D2.y    -0.2303      0.165     -1.400      0.170      -0.553       0.092\n",
      "ar.L5.D2.y     0.2664      0.175      1.520      0.137      -0.077       0.610\n",
      "ma.L1.D2.y    -1.0000      0.087    -11.472      0.000      -1.171      -0.829\n",
      "                                    Roots                                    \n",
      "=============================================================================\n",
      "                  Real          Imaginary           Modulus         Frequency\n",
      "-----------------------------------------------------------------------------\n",
      "AR.1           -1.0351           -0.5982j            1.1956           -0.4166\n",
      "AR.2           -1.0351           +0.5982j            1.1956            0.4166\n",
      "AR.3            0.6983           -1.1043j            1.3066           -0.1603\n",
      "AR.4            0.6983           +1.1043j            1.3066            0.1603\n",
      "AR.5            1.5383           -0.0000j            1.5383           -0.0000\n",
      "MA.1            1.0000           +0.0000j            1.0000            0.0000\n",
      "-----------------------------------------------------------------------------\n"
     ]
    },
    {
     "data": {
      "image/png": "[encoded data removed]",
      "text/plain": [
       "<Figure size 432x288 with 1 Axes>"
      ]
     },
     "metadata": {
      "needs_background": "light"
     },
     "output_type": "display_data"
    },
    {
     "data": {
      "image/png": "[encoded data removed]",
      "text/plain": [
       "<Figure size 432x288 with 1 Axes>"
      ]
     },
     "metadata": {
      "needs_background": "light"
     },
     "output_type": "display_data"
    },
    {
     "name": "stdout",
     "output_type": "stream",
     "text": [
      "               0\n",
      "count  46.000000\n",
      "mean    0.189914\n",
      "std     3.687064\n",
      "min    -9.290565\n",
      "25%    -1.935161\n",
      "50%     0.021684\n",
      "75%     1.919813\n",
      "max    11.847360\n"
     ]
    }
   ],
   "source": [
    "model = ARIMA(y, order=(5,2,1))\n",
    "model_fit = model.fit(disp=0)\n",
    "print(model_fit.summary())\n",
    "residuals = pd.DataFrame(model_fit.resid)\n",
    "residuals.plot()\n",
    "plt.show()\n",
    "residuals.plot(kind='kde')\n",
    "plt.show()\n",
    "print(residuals.describe())"
   ]
  },
  {
   "cell_type": "code",
   "execution_count": 182,
   "metadata": {},
   "outputs": [
    {
     "data": {
      "text/plain": [
       "[<matplotlib.lines.Line2D at 0x7fb86c71a2b0>]"
      ]
     },
     "execution_count": 182,
     "metadata": {},
     "output_type": "execute_result"
    },
    {
     "data": {
      "image/png": "[encoded data removed]",
      "text/plain": [
       "<Figure size 432x288 with 1 Axes>"
      ]
     },
     "metadata": {
      "needs_background": "light"
     },
     "output_type": "display_data"
    }
   ],
   "source": [
    "train_sz = int(len(y) * .75)\n",
    "train_y, test_y = y[:-5], y[-5:]\n",
    "plt.plot(train_y)"
   ]
  },
  {
   "cell_type": "code",
   "execution_count": 185,
   "metadata": {},
   "outputs": [
    {
     "data": {
      "image/png": "[encoded data removed]",
      "text/plain": [
       "<Figure size 432x288 with 1 Axes>"
      ]
     },
     "metadata": {
      "needs_background": "light"
     },
     "output_type": "display_data"
    }
   ],
   "source": [
    "model= ARIMA(train_y, order=(5,2,1))\n",
    "model_fit = model.fit(disp=0)\n",
    "pred = model_fit.forecast(5)[0]\n",
    "plt.plot(test_y)\n",
    "plt.plot(pred, color='red')\n",
    "plt.show()"
   ]
  },
  {
   "cell_type": "markdown",
   "metadata": {},
   "source": [
    "# Doing Shit, But on States"
   ]
  },
  {
   "cell_type": "code",
   "execution_count": 205,
   "metadata": {},
   "outputs": [],
   "source": [
    "class CumDeathCounterStates:\n",
    "    def __init__(self):\n",
    "        self.df = pd.read_csv(f\"{homedir}/data/us/covid/nyt_us_states.csv\")\n",
    "        states = self.df.state.unique()\n",
    "\n",
    "        self.cache = {}\n",
    "        for state in states:\n",
    "            self.cache[state] = self.get_cum_deaths(state)\n",
    "    def get_cum_deaths(self, state_name):\n",
    "        df_state = self.df[self.df.state == state_name]\n",
    "        X = df_state.date.map(lambda day: (get_date(day) - get_date('2020-01-01')).days).values\n",
    "        y_deaths = df_state.deaths.values\n",
    "        return (X, y_deaths)\n",
    "    def getY(self, state):\n",
    "        return self.cache[state]\n",
    "class CumCaseCounterStates:\n",
    "    def __init__(self):\n",
    "        self.df = pd.read_csv(f\"{homedir}/data/us/covid/nyt_us_states.csv\")\n",
    "        states = self.df.state.unique()\n",
    "\n",
    "        self.cache = {}\n",
    "        for state in states:\n",
    "            self.cache[state] = self.get_cum_cases(state)\n",
    "    def get_cum_cases(self, state_name):\n",
    "        df_state = self.df[self.df.state == state_name]\n",
    "        X = df_state.date.map(lambda day: (get_date(day) - get_date('2020-01-01')).days).values\n",
    "        y_cases = df_state.cases.values\n",
    "        return (X, y_cases)\n",
    "    def getY(self, state):\n",
    "        return self.cache[state]\n",
    "class DeltaCounterStates:\n",
    "    def __init__(self, cumDeathCounterStates):\n",
    "        self.cumDeathCounterStates = cumDeathCounterStates\n",
    "    def getY(self, state):\n",
    "        X, y = self.cumDeathCounterStates.getY(state)\n",
    "        y_true = [y[0]]\n",
    "        for i in range(1, len(y)):\n",
    "            y_true.append(y[i] - y[i-1])\n",
    "        return X, y_true\n",
    "class RatioCounterStates:\n",
    "    def __init__(self, counter):\n",
    "        self.counter = counter\n",
    "    def getY(self, state, avg_period=5):\n",
    "        X_raw, y_raw = self.counter.getY(state)\n",
    "        y = []\n",
    "        running_sum = 0.0\n",
    "        running_time = 0\n",
    "        for i in range(len(X_raw)):\n",
    "            if y_raw[i] == 0:\n",
    "                y.append(0)\n",
    "            elif running_sum == 0:\n",
    "                y.append(1) # if this is the first case we define the signal as 1\n",
    "            else:\n",
    "                avg = running_sum/running_time\n",
    "                y.append(y_raw[i]/avg)\n",
    "            if running_time == avg_period:\n",
    "                running_sum = running_sum + y_raw[i] - y_raw[i - avg_period]\n",
    "            else:\n",
    "                running_sum = running_sum + y_raw[i]\n",
    "                running_time = running_time + 1    \n",
    "            if running_sum == 0:\n",
    "                running_time = 1\n",
    "        \n",
    "        offset = 0\n",
    "        while y[offset] == 0:\n",
    "            offset += 1\n",
    "            if offset == len(y):\n",
    "                return (X_raw, np.array(y))\n",
    "        return X_raw[offset:], y[offset:]"
   ]
  },
  {
   "cell_type": "code",
   "execution_count": 206,
   "metadata": {},
   "outputs": [],
   "source": [
    "cumDeathCounterStates = CumDeathCounterStates()\n",
    "cumCaseCounterStates = CumCaseCounterStates()\n",
    "deltaDeathCounterStates = DeltaCounterStates(cumDeathCounterStates)\n",
    "deltaCaseCounterStates = DeltaCounterStates(cumCaseCounterStates)\n",
    "ratioCounterStates = RatioCounterStates(deltaDeathCounterStates)"
   ]
  },
  {
   "cell_type": "markdown",
   "metadata": {},
   "source": [
    "## Are State Daily Death Ratios Stationary (ADF, Again)"
   ]
  },
  {
   "cell_type": "code",
   "execution_count": 213,
   "metadata": {},
   "outputs": [
    {
     "name": "stdout",
     "output_type": "stream",
     "text": [
      "Florida\n",
      "Rhode Island\n",
      "Maryland\n",
      "Nevada\n",
      "Minnesota\n",
      "South Carolina\n",
      "Wyoming\n",
      "Virgin Islands\n",
      "West Virginia\n",
      "stationary 47, non-stat 9\n"
     ]
    }
   ],
   "source": [
    "states_list = pd.read_csv(f\"{homedir}/data/us/covid/nyt_us_states.csv\").state.unique()\n",
    "stationary = 0\n",
    "non_stationary = 0\n",
    "for state in states_list:\n",
    "    X, y = ratioCounterStates.getY(state,1)\n",
    "    if len(y) < 6:\n",
    "        continue\n",
    "    adfTest = ts.adfuller(y, maxlag=4)\n",
    "    if adfTest[1] > 0.05:\n",
    "            non_stationary += 1\n",
    "            print(state)\n",
    "    else:\n",
    "            stationary += 1\n",
    "\n",
    "print (\"stationary %d, non-stat %d\" % (stationary, non_stationary))"
   ]
  },
  {
   "cell_type": "code",
   "execution_count": 241,
   "metadata": {},
   "outputs": [
    {
     "data": {
      "text/plain": [
       "[<matplotlib.lines.Line2D at 0x7fae202619b0>]"
      ]
     },
     "execution_count": 241,
     "metadata": {},
     "output_type": "execute_result"
    },
    {
     "data": {
      "image/png": "[encoded data removed]",
      "text/plain": [
       "<Figure size 432x288 with 1 Axes>"
      ]
     },
     "metadata": {
      "needs_background": "light"
     },
     "output_type": "display_data"
    }
   ],
   "source": [
    "X,y = ratioCounterStates.getY(\"California\",1)\n",
    "plt.plot(X,y)"
   ]
  },
  {
   "cell_type": "code",
   "execution_count": 242,
   "metadata": {},
   "outputs": [
    {
     "data": {
      "text/plain": [
       "<matplotlib.axes._subplots.AxesSubplot at 0x7fae3182f048>"
      ]
     },
     "execution_count": 242,
     "metadata": {},
     "output_type": "execute_result"
    },
    {
     "data": {
      "image/png": "[encoded data removed]",
      "text/plain": [
       "<Figure size 432x288 with 1 Axes>"
      ]
     },
     "metadata": {
      "needs_background": "light"
     },
     "output_type": "display_data"
    }
   ],
   "source": [
    "autocorrelation_plot(y)"
   ]
  },
  {
   "cell_type": "code",
   "execution_count": 243,
   "metadata": {},
   "outputs": [
    {
     "data": {
      "text/plain": [
       "[<matplotlib.lines.Line2D at 0x7fae31954278>]"
      ]
     },
     "execution_count": 243,
     "metadata": {},
     "output_type": "execute_result"
    },
    {
     "data": {
      "image/png": "[encoded data removed]",
      "text/plain": [
       "<Figure size 432x288 with 1 Axes>"
      ]
     },
     "metadata": {
      "needs_background": "light"
     },
     "output_type": "display_data"
    }
   ],
   "source": [
    "plt.plot(pacf(y))"
   ]
  },
  {
   "cell_type": "code",
   "execution_count": 254,
   "metadata": {},
   "outputs": [
    {
     "name": "stderr",
     "output_type": "stream",
     "text": [
      "/home/sean/anaconda3/lib/python3.7/site-packages/statsmodels/tsa/tsatools.py:674: RuntimeWarning: invalid value encountered in double_scalars\n",
      "  tmp[kiter] = (macoefs[kiter]-b *macoefs[j-kiter-1])/(1-b**2)\n",
      "/home/sean/anaconda3/lib/python3.7/site-packages/statsmodels/tsa/tsatools.py:676: RuntimeWarning: divide by zero encountered in true_divide\n",
      "  invmacoefs = -np.log((1-macoefs)/(1+macoefs))\n",
      "/home/sean/anaconda3/lib/python3.7/site-packages/statsmodels/tsa/tsatools.py:650: RuntimeWarning: invalid value encountered in true_divide\n",
      "  newparams = ((1-np.exp(-params))/(1+np.exp(-params))).copy()\n",
      "/home/sean/anaconda3/lib/python3.7/site-packages/statsmodels/tsa/tsatools.py:651: RuntimeWarning: invalid value encountered in true_divide\n",
      "  tmp = ((1-np.exp(-params))/(1+np.exp(-params))).copy()\n",
      "/home/sean/anaconda3/lib/python3.7/site-packages/statsmodels/tools/numdiff.py:243: RuntimeWarning: invalid value encountered in add\n",
      "  **kwargs)).imag/2./hess[i, j]\n",
      "/home/sean/anaconda3/lib/python3.7/site-packages/statsmodels/tools/numdiff.py:243: RuntimeWarning: invalid value encountered in multiply\n",
      "  **kwargs)).imag/2./hess[i, j]\n",
      "/home/sean/anaconda3/lib/python3.7/site-packages/statsmodels/tsa/tsatools.py:650: RuntimeWarning: invalid value encountered in exp\n",
      "  newparams = ((1-np.exp(-params))/(1+np.exp(-params))).copy()\n",
      "/home/sean/anaconda3/lib/python3.7/site-packages/statsmodels/tsa/tsatools.py:651: RuntimeWarning: invalid value encountered in exp\n",
      "  tmp = ((1-np.exp(-params))/(1+np.exp(-params))).copy()\n",
      "/home/sean/anaconda3/lib/python3.7/site-packages/statsmodels/base/model.py:488: HessianInversionWarning: Inverting hessian failed, no bse or cov_params available\n",
      "  'available', HessianInversionWarning)\n"
     ]
    },
    {
     "data": {
      "image/png": "[encoded data removed]",
      "text/plain": [
       "<Figure size 432x288 with 1 Axes>"
      ]
     },
     "metadata": {
      "needs_background": "light"
     },
     "output_type": "display_data"
    }
   ],
   "source": [
    "train_sz = int(.66*len(y))\n",
    "y_train = y[:train_sz]\n",
    "y_test = y[train_sz:]\n",
    "\n",
    "model= ARIMA(y_train, order=(7,0,3))\n",
    "model_fit = model.fit(disp=1)\n",
    "pred = model_fit.forecast(len(y) - train_sz)[0]\n",
    "plt.plot(y_test)\n",
    "plt.plot(pred, color='red')\n",
    "plt.show()"
   ]
  },
  {
   "cell_type": "code",
   "execution_count": 253,
   "metadata": {},
   "outputs": [
    {
     "data": {
      "text/html": [
       "<div>\n",
       "<style scoped>\n",
       "    .dataframe tbody tr th:only-of-type {\n",
       "        vertical-align: middle;\n",
       "    }\n",
       "\n",
       "    .dataframe tbody tr th {\n",
       "        vertical-align: top;\n",
       "    }\n",
       "\n",
       "    .dataframe thead th {\n",
       "        text-align: right;\n",
       "    }\n",
       "</style>\n",
       "<table border=\"1\" class=\"dataframe\">\n",
       "  <thead>\n",
       "    <tr style=\"text-align: right;\">\n",
       "      <th></th>\n",
       "      <th>State</th>\n",
       "      <th>Area_Name</th>\n",
       "      <th>POP_ESTIMATE_2018</th>\n",
       "      <th>Area in square miles - Land area</th>\n",
       "      <th>Density per square mile of land area - Population</th>\n",
       "      <th>Total_Male</th>\n",
       "      <th>Total_Female</th>\n",
       "      <th>Total_age0to17</th>\n",
       "      <th>Total_age18to64</th>\n",
       "      <th>Total_age65plus</th>\n",
       "      <th>Active Physicians per 100000 Population 2018 (AAMC)</th>\n",
       "      <th>Active General Surgeons per 100000 Population 2018 (AAMC)</th>\n",
       "      <th>Non-profit hospital beds per 1000 people (2019)</th>\n",
       "      <th>Employed_2018</th>\n",
       "      <th>Unemployment_rate_2018</th>\n",
       "      <th>Total hospital beds per 1000 people (2019)</th>\n",
       "      <th>Total nurse practitioners (2019)</th>\n",
       "      <th>Total Hospitals (2019)</th>\n",
       "      <th>fips</th>\n",
       "    </tr>\n",
       "    <tr>\n",
       "      <th>FIPS</th>\n",
       "      <th></th>\n",
       "      <th></th>\n",
       "      <th></th>\n",
       "      <th></th>\n",
       "      <th></th>\n",
       "      <th></th>\n",
       "      <th></th>\n",
       "      <th></th>\n",
       "      <th></th>\n",
       "      <th></th>\n",
       "      <th></th>\n",
       "      <th></th>\n",
       "      <th></th>\n",
       "      <th></th>\n",
       "      <th></th>\n",
       "      <th></th>\n",
       "      <th></th>\n",
       "      <th></th>\n",
       "      <th></th>\n",
       "    </tr>\n",
       "  </thead>\n",
       "  <tbody>\n",
       "    <tr>\n",
       "      <th>01000</th>\n",
       "      <td>AL</td>\n",
       "      <td>Alabama</td>\n",
       "      <td>4887871</td>\n",
       "      <td>50645.33</td>\n",
       "      <td>94.4</td>\n",
       "      <td>NaN</td>\n",
       "      <td>NaN</td>\n",
       "      <td>NaN</td>\n",
       "      <td>NaN</td>\n",
       "      <td>NaN</td>\n",
       "      <td>217.1</td>\n",
       "      <td>7.6</td>\n",
       "      <td>0.8</td>\n",
       "      <td>2112347.0</td>\n",
       "      <td>3.9</td>\n",
       "      <td>3.1</td>\n",
       "      <td>2537.0</td>\n",
       "      <td>101.0</td>\n",
       "      <td>1000</td>\n",
       "    </tr>\n",
       "    <tr>\n",
       "      <th>02000</th>\n",
       "      <td>AK</td>\n",
       "      <td>Alaska</td>\n",
       "      <td>737438</td>\n",
       "      <td>570640.95</td>\n",
       "      <td>1.2</td>\n",
       "      <td>NaN</td>\n",
       "      <td>NaN</td>\n",
       "      <td>NaN</td>\n",
       "      <td>NaN</td>\n",
       "      <td>NaN</td>\n",
       "      <td>276.9</td>\n",
       "      <td>9.6</td>\n",
       "      <td>1.5</td>\n",
       "      <td>333375.0</td>\n",
       "      <td>6.6</td>\n",
       "      <td>2.2</td>\n",
       "      <td>480.0</td>\n",
       "      <td>21.0</td>\n",
       "      <td>2000</td>\n",
       "    </tr>\n",
       "    <tr>\n",
       "      <th>04000</th>\n",
       "      <td>AZ</td>\n",
       "      <td>Arizona</td>\n",
       "      <td>7171646</td>\n",
       "      <td>113594.08</td>\n",
       "      <td>56.3</td>\n",
       "      <td>NaN</td>\n",
       "      <td>NaN</td>\n",
       "      <td>NaN</td>\n",
       "      <td>NaN</td>\n",
       "      <td>NaN</td>\n",
       "      <td>242.0</td>\n",
       "      <td>6.9</td>\n",
       "      <td>1.3</td>\n",
       "      <td>3273550.0</td>\n",
       "      <td>4.8</td>\n",
       "      <td>1.9</td>\n",
       "      <td>3403.0</td>\n",
       "      <td>83.0</td>\n",
       "      <td>4000</td>\n",
       "    </tr>\n",
       "    <tr>\n",
       "      <th>05000</th>\n",
       "      <td>AR</td>\n",
       "      <td>Arkansas</td>\n",
       "      <td>3013825</td>\n",
       "      <td>52035.48</td>\n",
       "      <td>56.0</td>\n",
       "      <td>NaN</td>\n",
       "      <td>NaN</td>\n",
       "      <td>NaN</td>\n",
       "      <td>NaN</td>\n",
       "      <td>NaN</td>\n",
       "      <td>207.6</td>\n",
       "      <td>7.0</td>\n",
       "      <td>2.2</td>\n",
       "      <td>1301459.0</td>\n",
       "      <td>3.7</td>\n",
       "      <td>3.2</td>\n",
       "      <td>1305.0</td>\n",
       "      <td>88.0</td>\n",
       "      <td>5000</td>\n",
       "    </tr>\n",
       "    <tr>\n",
       "      <th>06000</th>\n",
       "      <td>CA</td>\n",
       "      <td>California</td>\n",
       "      <td>39557045</td>\n",
       "      <td>155779.22</td>\n",
       "      <td>239.1</td>\n",
       "      <td>NaN</td>\n",
       "      <td>NaN</td>\n",
       "      <td>NaN</td>\n",
       "      <td>NaN</td>\n",
       "      <td>NaN</td>\n",
       "      <td>279.6</td>\n",
       "      <td>7.2</td>\n",
       "      <td>1.2</td>\n",
       "      <td>18582802.0</td>\n",
       "      <td>4.2</td>\n",
       "      <td>1.8</td>\n",
       "      <td>15414.0</td>\n",
       "      <td>359.0</td>\n",
       "      <td>6000</td>\n",
       "    </tr>\n",
       "  </tbody>\n",
       "</table>\n",
       "</div>"
      ],
      "text/plain": [
       "      State   Area_Name  POP_ESTIMATE_2018  Area in square miles - Land area  \\\n",
       "FIPS                                                                           \n",
       "01000    AL     Alabama            4887871                          50645.33   \n",
       "02000    AK      Alaska             737438                         570640.95   \n",
       "04000    AZ     Arizona            7171646                         113594.08   \n",
       "05000    AR    Arkansas            3013825                          52035.48   \n",
       "06000    CA  California           39557045                         155779.22   \n",
       "\n",
       "       Density per square mile of land area - Population  Total_Male  \\\n",
       "FIPS                                                                   \n",
       "01000                                               94.4         NaN   \n",
       "02000                                                1.2         NaN   \n",
       "04000                                               56.3         NaN   \n",
       "05000                                               56.0         NaN   \n",
       "06000                                              239.1         NaN   \n",
       "\n",
       "       Total_Female  Total_age0to17  Total_age18to64  Total_age65plus  \\\n",
       "FIPS                                                                    \n",
       "01000           NaN             NaN              NaN              NaN   \n",
       "02000           NaN             NaN              NaN              NaN   \n",
       "04000           NaN             NaN              NaN              NaN   \n",
       "05000           NaN             NaN              NaN              NaN   \n",
       "06000           NaN             NaN              NaN              NaN   \n",
       "\n",
       "       Active Physicians per 100000 Population 2018 (AAMC)  \\\n",
       "FIPS                                                         \n",
       "01000                                              217.1     \n",
       "02000                                              276.9     \n",
       "04000                                              242.0     \n",
       "05000                                              207.6     \n",
       "06000                                              279.6     \n",
       "\n",
       "       Active General Surgeons per 100000 Population 2018 (AAMC)  \\\n",
       "FIPS                                                               \n",
       "01000                                                7.6           \n",
       "02000                                                9.6           \n",
       "04000                                                6.9           \n",
       "05000                                                7.0           \n",
       "06000                                                7.2           \n",
       "\n",
       "       Non-profit hospital beds per 1000 people (2019)  Employed_2018  \\\n",
       "FIPS                                                                    \n",
       "01000                                              0.8      2112347.0   \n",
       "02000                                              1.5       333375.0   \n",
       "04000                                              1.3      3273550.0   \n",
       "05000                                              2.2      1301459.0   \n",
       "06000                                              1.2     18582802.0   \n",
       "\n",
       "       Unemployment_rate_2018  Total hospital beds per 1000 people (2019)  \\\n",
       "FIPS                                                                        \n",
       "01000                     3.9                                         3.1   \n",
       "02000                     6.6                                         2.2   \n",
       "04000                     4.8                                         1.9   \n",
       "05000                     3.7                                         3.2   \n",
       "06000                     4.2                                         1.8   \n",
       "\n",
       "       Total nurse practitioners (2019)  Total Hospitals (2019)  fips  \n",
       "FIPS                                                                   \n",
       "01000                            2537.0                   101.0  1000  \n",
       "02000                             480.0                    21.0  2000  \n",
       "04000                            3403.0                    83.0  4000  \n",
       "05000                            1305.0                    88.0  5000  \n",
       "06000                           15414.0                   359.0  6000  "
      ]
     },
     "execution_count": 253,
     "metadata": {},
     "output_type": "execute_result"
    }
   ],
   "source": [
    "df = df_jhu[features]\n",
    "df = df[df.fips % 1000 == 0] # remove aggregate states\n",
    "df.head()"
   ]
  },
  {
   "cell_type": "code",
   "execution_count": null,
   "metadata": {},
   "outputs": [],
   "source": []
  }
 ],
 "metadata": {
  "kernelspec": {
   "display_name": "Python 3",
   "language": "python",
   "name": "python3"
  },
  "language_info": {
   "codemirror_mode": {
    "name": "ipython",
    "version": 3
   },
   "file_extension": ".py",
   "mimetype": "text/x-python",
   "name": "python",
   "nbconvert_exporter": "python",
   "pygments_lexer": "ipython3",
   "version": "3.7.3"
  }
 },
 "nbformat": 4,
 "nbformat_minor": 2
}
