{
 "cells": [
  {
   "cell_type": "code",
   "execution_count": 3,
   "metadata": {},
   "outputs": [],
   "source": [
    "import numpy as np\n",
    "import pandas as pd\n",
    "import matplotlib.pyplot as plt\n",
    "import git\n",
    "import math\n",
    "import os\n",
    "import statsmodels.api as sm\n",
    "from statsmodels.tsa.arima_model import ARIMA\n",
    "from statsmodels.tsa.stattools import pacf\n",
    "from pandas.plotting import autocorrelation_plot\n",
    "from datetime import datetime\n",
    "import numpy as np\n",
    "import pandas as pd\n",
    "import lightgbm as lgb\n",
    "import statsmodels.tsa.stattools as ts\n",
    "\n",
    "from sklearn.metrics import mean_squared_error\n",
    "from sklearn.model_selection import GridSearchCV\n",
    "\n",
    "repo = git.Repo(\"./\", search_parent_directories=True)\n",
    "homedir = repo.working_dir"
   ]
  },
  {
   "cell_type": "code",
   "execution_count": 8,
   "metadata": {},
   "outputs": [],
   "source": [
    "df_jhu = pd.read_csv(f\"{homedir}/data/us/aggregate_jhu.csv\")\n",
    "df_berk = pd.read_csv(f\"{homedir}/data/us/aggregate_berkeley.csv\")\n",
    "# Get rid of the aggregate country data\n",
    "df_jhu = df_jhu.drop([0])\n",
    "df_jhu['FIPS'] = df_jhu['FIPS'].map(lambda f : str(f))"
   ]
  },
  {
   "cell_type": "code",
   "execution_count": 9,
   "metadata": {},
   "outputs": [],
   "source": [
    "def alter(fips):\n",
    "    if len(fips) == 4:\n",
    "        return '0' + fips\n",
    "    return fips\n",
    "df_jhu['FIPS'] = df_jhu['FIPS'].map(alter)\n",
    "df_jhu = df_jhu.set_index('FIPS')\n",
    "df_jhu['fips'] = df_jhu.index.map(lambda s : int(s))"
   ]
  },
  {
   "cell_type": "code",
   "execution_count": 10,
   "metadata": {},
   "outputs": [],
   "source": [
    "features = ['State', 'Area_Name','POP_ESTIMATE_2018', 'Area in square miles - Land area', 'Density per square mile of land area - Population', 'Total_Male', 'Total_Female', 'Total_age0to17', \n",
    "            'Total_age18to64','Total_age65plus', 'Active Physicians per 100000 Population 2018 (AAMC)', 'Active General Surgeons per 100000 Population 2018 (AAMC)',\n",
    "           'Non-profit hospital beds per 1000 people (2019)', 'Employed_2018', 'Unemployment_rate_2018'\n",
    "           , 'Total hospital beds per 1000 people (2019)', 'Total nurse practitioners (2019)',\n",
    "           'Total Hospitals (2019)','fips']"
   ]
  },
  {
   "cell_type": "code",
   "execution_count": 11,
   "metadata": {},
   "outputs": [],
   "source": [
    "# gets list of all fips numbers\n",
    "def get_fips():\n",
    "    Y = pd.read_csv(f\"{homedir}/data/us/covid/deaths.csv\")\n",
    "    return set(Y.countyFIPS.values)\n",
    "\n",
    "def get_date(datestr, formatstr='%Y-%m-%d'):\n",
    "    return datetime.strptime(datestr, formatstr)"
   ]
  },
  {
   "cell_type": "code",
   "execution_count": 12,
   "metadata": {},
   "outputs": [],
   "source": [
    "class CumDeathCounter():\n",
    "    def __init__(self):\n",
    "        self.cum_deaths = pd.read_csv(f\"{homedir}/data/us/covid/deaths.csv\")\n",
    "        self.cum_deaths = self.cum_deaths.iloc[1:]\n",
    "        fips_list = self.cum_deaths.countyFIPS.values\n",
    "        \n",
    "        self.cache = {}\n",
    "        for fips in fips_list:\n",
    "            self.cache[fips] = self.get_cum_deaths(fips)\n",
    "    def get_cum_deaths(self, fips, clip_zeros=False):\n",
    "        idx = self.cum_deaths.index[self.cum_deaths['countyFIPS'] == fips].values[0]\n",
    "        county_deaths = self.cum_deaths.loc[self.cum_deaths['countyFIPS'] == fips]\n",
    "        dates = pd.to_datetime(county_deaths.columns[4:].values).map(lambda dt : str(dt))\n",
    "        X = np.array([(get_date(d[:10]) - get_date('2020-01-01')).days for d in dates])\n",
    "        y = []\n",
    "        for i in range(4, len(county_deaths.columns)):\n",
    "            y.append(county_deaths.loc[idx,county_deaths.columns[i]])\n",
    "        if not clip_zeros:\n",
    "            return X, y\n",
    "        for i in range(len(y)):\n",
    "            if y[i] != 0:\n",
    "                return X[i:], y[i:]\n",
    "    def getY(self, fips):\n",
    "        return self.cache[fips]\n",
    "class CumCaseCounter():\n",
    "    def __init__(self):\n",
    "        self.cum_cases = pd.read_csv(f\"{homedir}/data/us/covid/confirmed_cases.csv\")\n",
    "        self.cum_cases = self.cum_cases.iloc[1:]\n",
    "        self.cum_cases = self.cum_cases.iloc[:, :-1]\n",
    "        \n",
    "        fips_list = self.cum_cases.countyFIPS.values\n",
    "        \n",
    "        self.cache = {}\n",
    "        for fips in fips_list:\n",
    "            self.cache[fips] = self.get_cum_cases(fips)\n",
    "        \n",
    "    def get_cum_cases(self, fips,clip_zeros=False):\n",
    "        idx = self.cum_cases.index[self.cum_cases['countyFIPS'] == fips].values[0]\n",
    "        county_cases = self.cum_cases.loc[self.cum_cases['countyFIPS'] == fips]\n",
    "        dates = pd.to_datetime(county_cases.columns[4:].values).map(lambda dt : str(dt))\n",
    "        X = np.array([(get_date(d[:10]) - get_date('2020-01-01')).days for d in dates])\n",
    "        y = []\n",
    "        for i in range(4, len(county_cases.columns)):\n",
    "            y.append(county_cases.loc[idx,county_cases.columns[i]])\n",
    "        if not clip_zeros:\n",
    "            return X, y\n",
    "        for i in range(len(y)):\n",
    "            if y[i] != 0:\n",
    "                return X[i:], y[i:]\n",
    "    def getY(self, fips):\n",
    "        return self.cache[fips]"
   ]
  },
  {
   "cell_type": "code",
   "execution_count": 13,
   "metadata": {},
   "outputs": [],
   "source": [
    "cum_death_counter = CumDeathCounter()\n",
    "cum_case_counter = CumCaseCounter()"
   ]
  },
  {
   "cell_type": "code",
   "execution_count": 14,
   "metadata": {},
   "outputs": [
    {
     "name": "stderr",
     "output_type": "stream",
     "text": [
      "/home/sean/anaconda3/lib/python3.7/site-packages/ipykernel_launcher.py:89: SettingWithCopyWarning: \n",
      "A value is trying to be set on a copy of a slice from a DataFrame.\n",
      "Try using .loc[row_indexer,col_indexer] = value instead\n",
      "\n",
      "See the caveats in the documentation: http://pandas.pydata.org/pandas-docs/stable/indexing.html#indexing-view-versus-copy\n"
     ]
    }
   ],
   "source": [
    "NYT_counties_daily = pd.read_csv(f\"{homedir}/data/us/covid/nyt_us_counties_daily.csv\")\n",
    "# Gets the number of deaths per day of a given county along with the time, counted in days\n",
    "# since Jan 1st\n",
    "class DeltaDeathsCounter:\n",
    "    def __init__(self, CumDeathsCounter):\n",
    "        self.CumDeathsCounter = CumDeathsCounter\n",
    "    def getY(self, fips):\n",
    "        (X, y_cum) = self.CumDeathsCounter.getY(fips)\n",
    "        y_delta = [0]\n",
    "        for i in range(1, len(y_cum)):\n",
    "            y_delta.append(y_cum[i] - y_cum[i-1])\n",
    "        return X, y_delta\n",
    "\n",
    "class DeltaCaseCounter:\n",
    "    def __init__(self, CumCaseCounter):\n",
    "        self.CumCaseCounter = CumCaseCounter\n",
    "    def getY(self, fips):\n",
    "        (X, y_cum) = self.CumCaseCounter.getY(fips)\n",
    "        y_delta = [0]\n",
    "        for i in range(1, len(y_cum)):\n",
    "            y_delta.append(y_cum[i] - y_cum[i-1])\n",
    "        return X, y_delta\n",
    "def get_delta_cases(fips, clip_zeros=False):\n",
    "    Y_county = NYT_counties_daily.loc[NYT_counties_daily['fips'] == fips, :]\n",
    "    Y_county.head()\n",
    "    start_date = '2020-01-01'\n",
    "    Y_county['time'] =  Y_county['date'].map(lambda d : (get_date(d) - get_date(start_date)).days)\n",
    "    X, y = (Y_county.time.values, Y_county.cases.values)\n",
    "    if not clip_zeros:\n",
    "        return X, y\n",
    "    for i in range(len(y)):\n",
    "        if y[i] != 0:\n",
    "            break\n",
    "    return X[i:], y[i:]\n",
    "class DeltaDeathRatioCounter:\n",
    "    def __init__(self, deltaDeathCounter):\n",
    "        self.deltaDeathCounter = deltaDeathCounter\n",
    "    # returns an X, y where y[i] is the number of deaths on day i divided by the running average\n",
    "    def getY(self, fips, avg_period=5):\n",
    "        X_raw, y_raw = self.deltaDeathCounter.getY(fips)\n",
    "        y = []\n",
    "        running_sum = 0.0\n",
    "        running_time = 0\n",
    "        for i in range(len(X_raw)):\n",
    "            if y_raw[i] == 0:\n",
    "                y.append(0)\n",
    "            elif running_sum == 0:\n",
    "                y.append(1) # if this is the first case we define the signal as 1\n",
    "            else:\n",
    "                avg = running_sum/running_time\n",
    "                y.append(y_raw[i]/avg)\n",
    "            if running_time == avg_period:\n",
    "                running_sum = running_sum + y_raw[i] - y_raw[i - avg_period]\n",
    "            else:\n",
    "                running_sum = running_sum + y_raw[i]\n",
    "                running_time = running_time + 1    \n",
    "            if running_sum == 0:\n",
    "                running_time = 1\n",
    "        return (X_raw, np.array(y))\n",
    "class DeltaCaseRatioCounter:\n",
    "    def __init__(self, deltaCaseCounter):\n",
    "        self.deltaCaseCounter = deltaCaseCounter\n",
    "    def getY(self, fips, clip_zeros=False, avg_period=5):\n",
    "        X_raw, y_raw = self.deltaCaseCounter.getY(fips, clip_zeros)\n",
    "        y = []\n",
    "        running_sum = 0.0\n",
    "        running_time = 0\n",
    "        for i in range(len(X_raw)):\n",
    "            if y_raw[i] == 0:\n",
    "                y.append(0)\n",
    "            elif running_sum == 0:\n",
    "                y.append(1) # if this is the first case we define the signal as 1\n",
    "            else:\n",
    "                avg = running_sum/running_time\n",
    "                y.append(y_raw[i]/avg)\n",
    "            if running_time == avg_period:\n",
    "                running_sum = running_sum + y_raw[i] - y_raw[i - avg_period]\n",
    "            else:\n",
    "                running_sum = running_sum + y_raw[i]\n",
    "                running_time = running_time + 1    \n",
    "            if running_sum == 0:\n",
    "                running_time = 1\n",
    "        return (X_raw, np.array(y))\n",
    "\n",
    "data_dir = f'{homedir}/data/us/mobility'\n",
    "# Data contains information about states and counties with states listed before their respective counties\n",
    "df_mob = pd.read_csv(os.path.join(data_dir, 'DL-us-mobility-daterow.csv'))\n",
    "counties = df_mob[df_mob['admin_level'] == 2]\n",
    "counties['fips'] = counties['fips'].map(lambda f: int(f));\n",
    "def get_mobility(fips):\n",
    "    data = counties[counties['fips'] == fips]\n",
    "    t = data['date'].map(lambda d: (get_date(d) - get_date('2020-01-01')).days)\n",
    "    y = data['m50_index']\n",
    "    return (t.values, y.values)"
   ]
  },
  {
   "cell_type": "code",
   "execution_count": 15,
   "metadata": {},
   "outputs": [],
   "source": [
    "delta_death_counter = DeltaDeathsCounter(cum_death_counter)\n",
    "delta_case_counter = DeltaCaseCounter(cum_case_counter)\n",
    "delta_death_ratio_counter = DeltaDeathRatioCounter(delta_death_counter)\n",
    "delta_case_ratio_counter = DeltaCaseRatioCounter(delta_case_counter)"
   ]
  },
  {
   "cell_type": "markdown",
   "metadata": {},
   "source": [
    "## Simple OLS"
   ]
  },
  {
   "cell_type": "code",
   "execution_count": 14,
   "metadata": {},
   "outputs": [
    {
     "data": {
      "text/plain": [
       "array([218022, 1589.78, 114.6, 105657.0, 112365.0, 47110.0, 126341.0,\n",
       "       44571.0, 217.1, 7.6, 0.8, 90456.0, 3.6, 3.1, 113.1621137,\n",
       "       4.505074295, 1003], dtype=object)"
      ]
     },
     "execution_count": 14,
     "metadata": {},
     "output_type": "execute_result"
    }
   ],
   "source": [
    "df = df_jhu[features]"
   ]
  },
  {
   "cell_type": "code",
   "execution_count": 16,
   "metadata": {},
   "outputs": [],
   "source": [
    "def get_XY(features, delta_y, look_back_y, y_generator):\n",
    "    df = df_jhu[features]\n",
    "    df = df[df.fips % 1000 != 0] # remove aggregate states\n",
    "    df = df[df.State != 'PR']   # peurto rico has some weird data...\n",
    "    df = df[df.POP_ESTIMATE_2018 > 1000] # restrict to large counties since getting lots of data is difficult\n",
    "\n",
    "    # fill out missing data\n",
    "    df.at['02158', 'Area in square miles - Land area'] = 19673\n",
    "    df.at['02158', 'Density per square mile of land area - Population'] = 0.44\n",
    "    df.at['46102', 'Area in square miles - Land area'] = 2097\n",
    "    df.at['46102', 'Density per square mile of land area - Population'] = 6.5\n",
    "\n",
    "    n, d = df.shape\n",
    "    col_names = []\n",
    "    for i in range(5):\n",
    "        col_name = \"y at t = -%d\" %i\n",
    "        col_names.append(col_name)\n",
    "        df[col_name] = np.zeros(n)\n",
    "    X = []\n",
    "    Y = []\n",
    "    for fips in df.index:\n",
    "        base = df.loc[fips].values\n",
    "        t, ys = y_generator.getY(int(fips))\n",
    "        if len(ys) == 0:\n",
    "            X.append(base)\n",
    "            Y.append(0)\n",
    "            continue\n",
    "        for j in range(-1, -len(ys), -delta_y):\n",
    "            base = df.loc[fips].values\n",
    "            Y.append(ys[j])\n",
    "            for i in range(look_back_y):\n",
    "                if j - look_back_y - i >= -len(ys):\n",
    "                    base[-look_back_y + i] = ys[j - look_back_y - i]\n",
    "            X.append(base)\n",
    "    df_new = pd.DataFrame(X, columns = df.columns)\n",
    "    df_new['target'] = Y\n",
    "    return df_new"
   ]
  },
  {
   "cell_type": "code",
   "execution_count": 17,
   "metadata": {},
   "outputs": [
    {
     "data": {
      "text/plain": [
       "(59014,)"
      ]
     },
     "execution_count": 17,
     "metadata": {},
     "output_type": "execute_result"
    }
   ],
   "source": [
    "df_new = get_XY(features, 5, 5, delta_death_counter)\n",
    "X = df_new.iloc[:,2:-1]\n",
    "y = df_new['target']\n",
    "y.shape"
   ]
  },
  {
   "cell_type": "code",
   "execution_count": 19,
   "metadata": {},
   "outputs": [
    {
     "name": "stdout",
     "output_type": "stream",
     "text": [
      "                            OLS Regression Results                            \n",
      "==============================================================================\n",
      "Dep. Variable:                 target   R-squared:                       0.575\n",
      "Model:                            OLS   Adj. R-squared:                  0.575\n",
      "Method:                 Least Squares   F-statistic:                     2632.\n",
      "Date:                Fri, 24 Apr 2020   Prob (F-statistic):               0.00\n",
      "Time:                        10:33:55   Log-Likelihood:                -82924.\n",
      "No. Observations:               38949   AIC:                         1.659e+05\n",
      "Df Residuals:                   38929   BIC:                         1.661e+05\n",
      "Df Model:                          20                                         \n",
      "Covariance Type:            nonrobust                                         \n",
      "=============================================================================================================================\n",
      "                                                                coef    std err          t      P>|t|      [0.025      0.975]\n",
      "-----------------------------------------------------------------------------------------------------------------------------\n",
      "POP_ESTIMATE_2018                                         -1.367e-07   2.88e-07     -0.474      0.635   -7.02e-07    4.29e-07\n",
      "Area in square miles - Land area                           2.561e-07    2.5e-06      0.102      0.918   -4.64e-06    5.16e-06\n",
      "Density per square mile of land area - Population          6.251e-05   6.88e-06      9.084      0.000     4.9e-05     7.6e-05\n",
      "Total_Male                                                -4.252e-06    2.4e-06     -1.771      0.077   -8.96e-06    4.55e-07\n",
      "Total_Female                                               4.115e-06   2.37e-06      1.736      0.083   -5.32e-07    8.76e-06\n",
      "Total_age0to17                                             -2.82e-06    1.3e-06     -2.166      0.030   -5.37e-06   -2.69e-07\n",
      "Total_age18to64                                             7.24e-06   1.19e-06      6.081      0.000    4.91e-06    9.57e-06\n",
      "Total_age65plus                                           -4.556e-06    9.3e-07     -4.901      0.000   -6.38e-06   -2.73e-06\n",
      "Active Physicians per 100000 Population 2018 (AAMC)          -0.0002      0.000     -0.727      0.467      -0.001       0.000\n",
      "Active General Surgeons per 100000 Population 2018 (AAMC) -8.039e-05      0.013     -0.006      0.995      -0.025       0.025\n",
      "Non-profit hospital beds per 1000 people (2019)               0.0193      0.022      0.877      0.380      -0.024       0.062\n",
      "Employed_2018                                             -1.002e-05   1.26e-06     -7.951      0.000   -1.25e-05   -7.55e-06\n",
      "Unemployment_rate_2018                                       -0.0030      0.007     -0.434      0.664      -0.017       0.011\n",
      "Total hospital beds per 1000 people (2019)                   -0.0037      0.019     -0.198      0.843      -0.041       0.033\n",
      "Total nurse practitioners (2019)                              0.0051      0.000     16.789      0.000       0.004       0.006\n",
      "Total Hospitals (2019)                                       -0.0085      0.007     -1.163      0.245      -0.023       0.006\n",
      "fips                                                        3.27e-07   1.17e-06      0.279      0.781   -1.97e-06    2.63e-06\n",
      "y at t = -0                                                   0.2154      0.007     30.194      0.000       0.201       0.229\n",
      "y at t = -1                                                   0.9798      0.010    101.809      0.000       0.961       0.999\n",
      "y at t = -2                                                   0.0647      0.006     11.083      0.000       0.053       0.076\n",
      "y at t = -3                                                  -0.1425      0.005    -27.229      0.000      -0.153      -0.132\n",
      "y at t = -4                                                  -0.4654      0.010    -46.059      0.000      -0.485      -0.446\n",
      "==============================================================================\n",
      "Omnibus:                    38359.962   Durbin-Watson:                   1.972\n",
      "Prob(Omnibus):                  0.000   Jarque-Bera (JB):       7714242400.668\n",
      "Skew:                           2.829   Prob(JB):                         0.00\n",
      "Kurtosis:                    2183.232   Cond. No.                     8.93e+16\n",
      "==============================================================================\n",
      "\n",
      "Warnings:\n",
      "[1] Standard Errors assume that the covariance matrix of the errors is correctly specified.\n",
      "[2] The smallest eigenvalue is 1.62e-18. This might indicate that there are\n",
      "strong multicollinearity problems or that the design matrix is singular.\n",
      "R squared is 0.573264\n"
     ]
    }
   ],
   "source": [
    "train_num = int(y.shape[0] * 0.66)\n",
    "X_test = X.iloc[train_num:]\n",
    "y_test = y.iloc[train_num:]\n",
    "X_train = X.iloc[:train_num]\n",
    "y_train = y.iloc[:train_num]\n",
    "model = sm.OLS(y_train,X_train)\n",
    "result = model.fit()\n",
    "print(result.summary())\n",
    "\n",
    "\n",
    "def Rsquare(pred, actual):   \n",
    "    ybar = np.sum(actual)/len(actual)          # or sum(y)/len(y)\n",
    "    ssreg = np.sum((pred-ybar)**2)   # or sum([ (yihat - ybar)**2 for yihat in yhat])\n",
    "    sstot = np.sum((actual - ybar)**2)    # or sum([ (yi - ybar)**2 for yi in y])\n",
    "    return ssreg/sstot\n",
    "print(\"R squared is %f\" % (Rsquare(result.predict(X_train), y_train)))"
   ]
  },
  {
   "cell_type": "code",
   "execution_count": 21,
   "metadata": {},
   "outputs": [
    {
     "data": {
      "text/plain": [
       "<matplotlib.collections.PathCollection at 0x7f82b713d7f0>"
      ]
     },
     "execution_count": 21,
     "metadata": {},
     "output_type": "execute_result"
    },
    {
     "data": {
      "image/png": "[encoded data removed]",
      "text/plain": [
       "<Figure size 432x288 with 1 Axes>"
      ]
     },
     "metadata": {
      "needs_background": "light"
     },
     "output_type": "display_data"
    }
   ],
   "source": [
    "plt.scatter(result.predict(X_train), y_train)"
   ]
  },
  {
   "cell_type": "markdown",
   "metadata": {},
   "source": [
    "## LightGBM"
   ]
  },
  {
   "cell_type": "code",
   "execution_count": 23,
   "metadata": {},
   "outputs": [
    {
     "name": "stdout",
     "output_type": "stream",
     "text": [
      "[1]\tvalid_0's l2: 0.251507\n",
      "Training until validation scores don't improve for 10 rounds\n",
      "[2]\tvalid_0's l2: 0.238041\n",
      "[3]\tvalid_0's l2: 0.227136\n",
      "[4]\tvalid_0's l2: 0.217965\n",
      "[5]\tvalid_0's l2: 0.211112\n",
      "[6]\tvalid_0's l2: 0.206962\n",
      "[7]\tvalid_0's l2: 0.204949\n",
      "[8]\tvalid_0's l2: 0.202558\n",
      "[9]\tvalid_0's l2: 0.201155\n",
      "[10]\tvalid_0's l2: 0.200405\n",
      "[11]\tvalid_0's l2: 0.197515\n",
      "[12]\tvalid_0's l2: 0.201498\n",
      "[13]\tvalid_0's l2: 0.202485\n",
      "[14]\tvalid_0's l2: 0.204682\n",
      "[15]\tvalid_0's l2: 0.207585\n",
      "[16]\tvalid_0's l2: 0.20987\n",
      "[17]\tvalid_0's l2: 0.214026\n",
      "[18]\tvalid_0's l2: 0.21772\n",
      "[19]\tvalid_0's l2: 0.221565\n",
      "[20]\tvalid_0's l2: 0.225678\n",
      "Did not meet early stopping. Best iteration is:\n",
      "[11]\tvalid_0's l2: 0.197515\n",
      "R squared (in sample) is 0.105965\n",
      "R squared (out sample) is 0.376146\n"
     ]
    },
    {
     "data": {
      "text/plain": [
       "<matplotlib.collections.PathCollection at 0x7f82a84856d8>"
      ]
     },
     "execution_count": 23,
     "metadata": {},
     "output_type": "execute_result"
    },
    {
     "data": {
      "image/png": "[encoded data removed]",
      "text/plain": [
       "<Figure size 432x288 with 1 Axes>"
      ]
     },
     "metadata": {
      "needs_background": "light"
     },
     "output_type": "display_data"
    }
   ],
   "source": [
    "gbm = lgb.LGBMRegressor(num_leaves=50,\n",
    "                        learning_rate=0.05,\n",
    "                        n_estimators=20);\n",
    "gbm.fit(X_train, y_train,\n",
    "        eval_set=[(X_test, y_test)],\n",
    "        eval_metric='l2',\n",
    "        early_stopping_rounds=10);\n",
    "pred_train = gbm.predict(X_train, num_iteration=gbm.best_iteration_)\n",
    "print(\"R squared (in sample) is %f\" % Rsquare(pred_train, y_train))\n",
    "pred_test = gbm.predict(X_test, num_iteration=gbm.best_iteration_)\n",
    "print(\"R squared (out sample) is %f\" % Rsquare(pred_test, y_test))\n",
    "plt.scatter(pred_test, y_test)"
   ]
  },
  {
   "cell_type": "markdown",
   "metadata": {},
   "source": [
    "## Augmented Dickey Fuller Test for Stationary Time Series"
   ]
  },
  {
   "cell_type": "code",
   "execution_count": 55,
   "metadata": {},
   "outputs": [
    {
     "name": "stdout",
     "output_type": "stream",
     "text": [
      "Augmented Dickey-Fuller Test Results:\n",
      "ADF Test Statistic      -0.441649\n",
      "P-Value                  0.902909\n",
      "# Lags Used              2.000000\n",
      "# Observations Used     44.000000\n",
      "Critical Value (1%)     -3.588573\n",
      "Critical Value (5%)     -2.929886\n",
      "Critical Value (10%)    -2.603185\n",
      "dtype: float64\n"
     ]
    },
    {
     "name": "stderr",
     "output_type": "stream",
     "text": [
      "/home/sean/anaconda3/lib/python3.7/site-packages/ipykernel_launcher.py:9: SettingWithCopyWarning: \n",
      "A value is trying to be set on a copy of a slice from a DataFrame.\n",
      "Try using .loc[row_indexer,col_indexer] = value instead\n",
      "\n",
      "See the caveats in the documentation: http://pandas.pydata.org/pandas-docs/stable/indexing.html#indexing-view-versus-copy\n",
      "  if __name__ == '__main__':\n"
     ]
    }
   ],
   "source": [
    "X, y = get_delta_deaths(36061)\n",
    "adfTest = ts.adfuller(y, autolag='AIC')\n",
    "dfResults = pd.Series(adfTest[0:4], index=['ADF Test Statistic','P-Value','# Lags Used','# Observations Used'])\n",
    "#Add Critical Values\n",
    "for key,value in adfTest[4].items():\n",
    "    dfResults['Critical Value (%s)'%key] = value\n",
    "print('Augmented Dickey-Fuller Test Results:')\n",
    "print(dfResults)"
   ]
  },
  {
   "cell_type": "markdown",
   "metadata": {},
   "source": [
    "Conclude: time series is stationary"
   ]
  },
  {
   "cell_type": "code",
   "execution_count": 41,
   "metadata": {},
   "outputs": [
    {
     "name": "stderr",
     "output_type": "stream",
     "text": [
      "/home/sean/anaconda3/lib/python3.7/site-packages/ipykernel_launcher.py:9: SettingWithCopyWarning: \n",
      "A value is trying to be set on a copy of a slice from a DataFrame.\n",
      "Try using .loc[row_indexer,col_indexer] = value instead\n",
      "\n",
      "See the caveats in the documentation: http://pandas.pydata.org/pandas-docs/stable/indexing.html#indexing-view-versus-copy\n",
      "  if __name__ == '__main__':\n",
      "/home/sean/anaconda3/lib/python3.7/site-packages/statsmodels/regression/linear_model.py:846: RuntimeWarning: divide by zero encountered in log\n",
      "  llf = -nobs2*np.log(2*np.pi) - nobs2*np.log(ssr / nobs) - nobs2\n",
      "/home/sean/anaconda3/lib/python3.7/site-packages/statsmodels/regression/linear_model.py:1510: RuntimeWarning: divide by zero encountered in double_scalars\n",
      "  return np.dot(wresid, wresid) / self.df_resid\n",
      "/home/sean/anaconda3/lib/python3.7/site-packages/statsmodels/base/model.py:1100: RuntimeWarning: divide by zero encountered in true_divide\n",
      "  return self.params / self.bse\n",
      "/home/sean/anaconda3/lib/python3.7/site-packages/statsmodels/base/model.py:1100: RuntimeWarning: invalid value encountered in true_divide\n",
      "  return self.params / self.bse\n",
      "/home/sean/anaconda3/lib/python3.7/site-packages/statsmodels/base/model.py:1181: RuntimeWarning: invalid value encountered in multiply\n",
      "  cov_p = self.normalized_cov_params * scale\n"
     ]
    },
    {
     "name": "stdout",
     "output_type": "stream",
     "text": [
      "stationary 817, non-stat 200\n"
     ]
    }
   ],
   "source": [
    "fips_list = get_fips()\n",
    "stationary = 0\n",
    "non_stationary = 0\n",
    "for fips in fips_list:\n",
    "    X, y = get_delta_deaths_ratio(fips, clip_zeros=True)\n",
    "    if len(y) < 6:\n",
    "        continue\n",
    "    adfTest = ts.adfuller(y, maxlag=4)\n",
    "    if adfTest[1] > 0.05:\n",
    "            non_stationary += 1\n",
    "    else:\n",
    "            stationary += 1\n",
    "\n",
    "print (\"stationary %d, non-stat %d\" % (stationary, non_stationary))"
   ]
  },
  {
   "cell_type": "markdown",
   "metadata": {},
   "source": [
    "## ARIMA Model"
   ]
  },
  {
   "cell_type": "code",
   "execution_count": 178,
   "metadata": {},
   "outputs": [
    {
     "data": {
      "text/plain": [
       "[<matplotlib.lines.Line2D at 0x7fb86b2d0908>]"
      ]
     },
     "execution_count": 178,
     "metadata": {},
     "output_type": "execute_result"
    },
    {
     "data": {
      "image/png": "[encoded data removed]",
      "text/plain": [
       "<Figure size 432x288 with 1 Axes>"
      ]
     },
     "metadata": {
      "needs_background": "light"
     },
     "output_type": "display_data"
    }
   ],
   "source": [
    "# some counties: King (53033), NYC (36061), Chicago (17031), LA (6037), Wayne, MI (26163), Queens(36059), King (nyc) (36047)\n",
    "X, y = get_cum_deaths(53033)\n",
    "plt.plot(X,y)"
   ]
  },
  {
   "cell_type": "code",
   "execution_count": 179,
   "metadata": {},
   "outputs": [
    {
     "data": {
      "text/plain": [
       "<matplotlib.axes._subplots.AxesSubplot at 0x7fb86b36c2b0>"
      ]
     },
     "execution_count": 179,
     "metadata": {},
     "output_type": "execute_result"
    },
    {
     "data": {
      "image/png": "[encoded data removed]",
      "text/plain": [
       "<Figure size 432x288 with 1 Axes>"
      ]
     },
     "metadata": {
      "needs_background": "light"
     },
     "output_type": "display_data"
    }
   ],
   "source": [
    "autocorrelation_plot(y)"
   ]
  },
  {
   "cell_type": "code",
   "execution_count": 180,
   "metadata": {},
   "outputs": [
    {
     "data": {
      "text/plain": [
       "[<matplotlib.lines.Line2D at 0x7fb86cd1fa20>]"
      ]
     },
     "execution_count": 180,
     "metadata": {},
     "output_type": "execute_result"
    },
    {
     "data": {
      "image/png": "[encoded data removed]",
      "text/plain": [
       "<Figure size 432x288 with 1 Axes>"
      ]
     },
     "metadata": {
      "needs_background": "light"
     },
     "output_type": "display_data"
    }
   ],
   "source": [
    "plt.plot(pacf(y))"
   ]
  },
  {
   "cell_type": "code",
   "execution_count": 181,
   "metadata": {
    "scrolled": true
   },
   "outputs": [
    {
     "name": "stdout",
     "output_type": "stream",
     "text": [
      "                             ARIMA Model Results                              \n",
      "==============================================================================\n",
      "Dep. Variable:                   D2.y   No. Observations:                   46\n",
      "Model:                 ARIMA(5, 2, 1)   Log Likelihood                -125.876\n",
      "Method:                       css-mle   S.D. of innovations              3.563\n",
      "Date:                Fri, 17 Apr 2020   AIC                            267.753\n",
      "Time:                        18:19:04   BIC                            282.382\n",
      "Sample:                             2   HQIC                           273.233\n",
      "                                                                              \n",
      "==============================================================================\n",
      "                 coef    std err          z      P>|z|      [0.025      0.975]\n",
      "------------------------------------------------------------------------------\n",
      "const          0.2213      0.049      4.557      0.000       0.126       0.316\n",
      "ar.L1.D2.y     0.0198      0.158      0.125      0.901      -0.290       0.329\n",
      "ar.L2.D2.y     0.3093      0.147      2.100      0.042       0.021       0.598\n",
      "ar.L3.D2.y    -0.2108      0.137     -1.534      0.133      -0.480       0.059\n",
      "ar.L4.D2.y    -0.2303      0.165     -1.400      0.170      -0.553       0.092\n",
      "ar.L5.D2.y     0.2664      0.175      1.520      0.137      -0.077       0.610\n",
      "ma.L1.D2.y    -1.0000      0.087    -11.472      0.000      -1.171      -0.829\n",
      "                                    Roots                                    \n",
      "=============================================================================\n",
      "                  Real          Imaginary           Modulus         Frequency\n",
      "-----------------------------------------------------------------------------\n",
      "AR.1           -1.0351           -0.5982j            1.1956           -0.4166\n",
      "AR.2           -1.0351           +0.5982j            1.1956            0.4166\n",
      "AR.3            0.6983           -1.1043j            1.3066           -0.1603\n",
      "AR.4            0.6983           +1.1043j            1.3066            0.1603\n",
      "AR.5            1.5383           -0.0000j            1.5383           -0.0000\n",
      "MA.1            1.0000           +0.0000j            1.0000            0.0000\n",
      "-----------------------------------------------------------------------------\n"
     ]
    },
    {
     "data": {
      "image/png": "[encoded data removed]",
      "text/plain": [
       "<Figure size 432x288 with 1 Axes>"
      ]
     },
     "metadata": {
      "needs_background": "light"
     },
     "output_type": "display_data"
    },
    {
     "data": {
      "image/png": "[encoded data removed]",
      "text/plain": [
       "<Figure size 432x288 with 1 Axes>"
      ]
     },
     "metadata": {
      "needs_background": "light"
     },
     "output_type": "display_data"
    },
    {
     "name": "stdout",
     "output_type": "stream",
     "text": [
      "               0\n",
      "count  46.000000\n",
      "mean    0.189914\n",
      "std     3.687064\n",
      "min    -9.290565\n",
      "25%    -1.935161\n",
      "50%     0.021684\n",
      "75%     1.919813\n",
      "max    11.847360\n"
     ]
    }
   ],
   "source": [
    "model = ARIMA(y, order=(5,2,1))\n",
    "model_fit = model.fit(disp=0)\n",
    "print(model_fit.summary())\n",
    "residuals = pd.DataFrame(model_fit.resid)\n",
    "residuals.plot()\n",
    "plt.show()\n",
    "residuals.plot(kind='kde')\n",
    "plt.show()\n",
    "print(residuals.describe())"
   ]
  },
  {
   "cell_type": "code",
   "execution_count": 182,
   "metadata": {},
   "outputs": [
    {
     "data": {
      "text/plain": [
       "[<matplotlib.lines.Line2D at 0x7fb86c71a2b0>]"
      ]
     },
     "execution_count": 182,
     "metadata": {},
     "output_type": "execute_result"
    },
    {
     "data": {
      "image/png": "[encoded data removed]",
      "text/plain": [
       "<Figure size 432x288 with 1 Axes>"
      ]
     },
     "metadata": {
      "needs_background": "light"
     },
     "output_type": "display_data"
    }
   ],
   "source": [
    "train_sz = int(len(y) * .75)\n",
    "train_y, test_y = y[:-5], y[-5:]\n",
    "plt.plot(train_y)"
   ]
  },
  {
   "cell_type": "code",
   "execution_count": 185,
   "metadata": {},
   "outputs": [
    {
     "data": {
      "image/png": "[encoded data removed]",
      "text/plain": [
       "<Figure size 432x288 with 1 Axes>"
      ]
     },
     "metadata": {
      "needs_background": "light"
     },
     "output_type": "display_data"
    }
   ],
   "source": [
    "model= ARIMA(train_y, order=(5,2,1))\n",
    "model_fit = model.fit(disp=0)\n",
    "pred = model_fit.forecast(5)[0]\n",
    "plt.plot(test_y)\n",
    "plt.plot(pred, color='red')\n",
    "plt.show()"
   ]
  },
  {
   "cell_type": "markdown",
   "metadata": {},
   "source": [
    "# Doing Shit, But on States"
   ]
  },
  {
   "cell_type": "code",
   "execution_count": 6,
   "metadata": {},
   "outputs": [],
   "source": [
    "class CumDeathCounterStates:\n",
    "    def __init__(self):\n",
    "        self.df = pd.read_csv(f\"{homedir}/data/us/covid/nyt_us_states.csv\")\n",
    "        states = self.df.state.unique()\n",
    "\n",
    "        self.cache = {}\n",
    "        for state in states:\n",
    "            self.cache[state] = self.get_cum_deaths(state)\n",
    "    def get_cum_deaths(self, state_name):\n",
    "        df_state = self.df[self.df.state == state_name]\n",
    "        X = df_state.date.map(lambda day: (get_date(day) - get_date('2020-01-01')).days).values\n",
    "        y_deaths = df_state.deaths.values\n",
    "        return (X, y_deaths)\n",
    "    def getY(self, state):\n",
    "        return self.cache[state]\n",
    "class CumCaseCounterStates:\n",
    "    def __init__(self):\n",
    "        self.df = pd.read_csv(f\"{homedir}/data/us/covid/nyt_us_states.csv\")\n",
    "        states = self.df.state.unique()\n",
    "\n",
    "        self.cache = {}\n",
    "        for state in states:\n",
    "            self.cache[state] = self.get_cum_cases(state)\n",
    "    def get_cum_cases(self, state_name):\n",
    "        df_state = self.df[self.df.state == state_name]\n",
    "        X = df_state.date.map(lambda day: (get_date(day) - get_date('2020-01-01')).days).values\n",
    "        y_cases = df_state.cases.values\n",
    "        return (X, y_cases)\n",
    "    def getY(self, state):\n",
    "        return self.cache[state]\n",
    "class DeltaCounterStates:\n",
    "    def __init__(self, cumDeathCounterStates):\n",
    "        self.cumDeathCounterStates = cumDeathCounterStates\n",
    "    def getY(self, state):\n",
    "        X, y = self.cumDeathCounterStates.getY(state)\n",
    "        y_true = [y[0]]\n",
    "        for i in range(1, len(y)):\n",
    "            y_true.append(y[i] - y[i-1])\n",
    "        return X, y_true\n",
    "class RatioCounterStates:\n",
    "    def __init__(self, counter):\n",
    "        self.counter = counter\n",
    "    def getY(self, state, avg_period=5):\n",
    "        X_raw, y_raw = self.counter.getY(state)\n",
    "        y = []\n",
    "        running_sum = 0.0\n",
    "        running_time = 0\n",
    "        for i in range(len(X_raw)):\n",
    "            if y_raw[i] == 0:\n",
    "                y.append(0)\n",
    "            elif running_sum == 0:\n",
    "                y.append(1) # if this is the first case we define the signal as 1\n",
    "            else:\n",
    "                avg = running_sum/running_time\n",
    "                y.append(y_raw[i]/avg)\n",
    "            if running_time == avg_period:\n",
    "                running_sum = running_sum + y_raw[i] - y_raw[i - avg_period]\n",
    "            else:\n",
    "                running_sum = running_sum + y_raw[i]\n",
    "                running_time = running_time + 1    \n",
    "            if running_sum == 0:\n",
    "                running_time = 1\n",
    "        return (X_raw, np.array(y))"
   ]
  },
  {
   "cell_type": "code",
   "execution_count": 24,
   "metadata": {},
   "outputs": [],
   "source": [
    "cumDeathCounterStates = CumDeathCounterStates()\n",
    "cumCaseCounterStates = CumCaseCounterStates()\n",
    "deltaDeathCounterStates = DeltaCounterStates(cumDeathCounterStates)\n",
    "deltaCaseCounterStates = DeltaCounterStates(cumCaseCounterStates)\n",
    "ratioCounterStates = RatioCounterStates(deltaDeathCounterStates)"
   ]
  },
  {
   "cell_type": "code",
   "execution_count": 25,
   "metadata": {},
   "outputs": [
    {
     "data": {
      "text/plain": [
       "[<matplotlib.lines.Line2D at 0x7f82a8407d68>]"
      ]
     },
     "execution_count": 25,
     "metadata": {},
     "output_type": "execute_result"
    },
    {
     "data": {
      "image/png": "[encoded data removed]",
      "text/plain": [
       "<Figure size 432x288 with 1 Axes>"
      ]
     },
     "metadata": {
      "needs_background": "light"
     },
     "output_type": "display_data"
    }
   ],
   "source": [
    "X, y = ratioCounterStates.getY(\"Washington\",1)\n",
    "plt.plot(X,y)"
   ]
  },
  {
   "cell_type": "markdown",
   "metadata": {},
   "source": [
    "## Are State Daily Death Ratios Stationary (ADF, Again)"
   ]
  },
  {
   "cell_type": "code",
   "execution_count": null,
   "metadata": {},
   "outputs": [],
   "source": []
  }
 ],
 "metadata": {
  "kernelspec": {
   "display_name": "Python 3",
   "language": "python",
   "name": "python3"
  },
  "language_info": {
   "codemirror_mode": {
    "name": "ipython",
    "version": 3
   },
   "file_extension": ".py",
   "mimetype": "text/x-python",
   "name": "python",
   "nbconvert_exporter": "python",
   "pygments_lexer": "ipython3",
   "version": "3.7.3"
  }
 },
 "nbformat": 4,
 "nbformat_minor": 2
}
