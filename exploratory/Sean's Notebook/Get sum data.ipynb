{
 "cells": [
  {
   "cell_type": "code",
   "execution_count": 2,
   "metadata": {},
   "outputs": [],
   "source": [
    "import numpy as np\n",
    "import pandas as pd\n",
    "import matplotlib.pyplot as plt\n",
    "import git\n",
    "from datetime import datetime\n",
    "repo = git.Repo(\"./\", search_parent_directories=True)\n",
    "homedir = repo.working_dir"
   ]
  },
  {
   "cell_type": "code",
   "execution_count": 3,
   "metadata": {},
   "outputs": [],
   "source": [
    "df_jhu = pd.read_csv(f\"{homedir}/data/us/aggregate_jhu.csv\")\n",
    "df_berk = pd.read_csv(f\"{homedir}/data/us/aggregate_berkeley.csv\")"
   ]
  },
  {
   "cell_type": "code",
   "execution_count": 4,
   "metadata": {},
   "outputs": [],
   "source": [
    "# Get rid of the aggregate country data\n",
    "df_jhu = df_jhu.drop([0])\n",
    "df_jhu['FIPS'] = df_jhu['FIPS'].map(lambda f : str(f))"
   ]
  },
  {
   "cell_type": "code",
   "execution_count": 5,
   "metadata": {},
   "outputs": [],
   "source": [
    "def alter(fips):\n",
    "    if len(fips) == 4:\n",
    "        return '0' + fips\n",
    "    return fips\n",
    "df_jhu['FIPS'] = df_jhu['FIPS'].map(alter)\n",
    "df_jhu = df_jhu.set_index('FIPS')\n",
    "df_jhu['fips'] = df_jhu.index.map(lambda s : int(s))"
   ]
  },
  {
   "cell_type": "code",
   "execution_count": 13,
   "metadata": {},
   "outputs": [],
   "source": [
    "# gets list of all fips numbers\n",
    "def get_fips():\n",
    "    Y = pd.read_csv(f\"{homedir}/data/us/covid/nyt_us_counties_daily.csv\")\n",
    "    return set(Y.fips.values)\n",
    "\n",
    "def get_date(datestr, formatstr='%Y-%m-%d'):\n",
    "    return datetime.strptime(datestr, formatstr)"
   ]
  },
  {
   "cell_type": "code",
   "execution_count": 66,
   "metadata": {},
   "outputs": [],
   "source": [
    "cum_deaths = pd.read_csv(f\"{homedir}/data/us/covid/deaths.csv\")\n",
    "cum_deaths = cum_deaths.iloc[1:]\n",
    "def get_cum_deaths(fips):\n",
    "    idx = cum_deaths.index[cum_deaths['countyFIPS'] == fips].values[0]\n",
    "    county_deaths = cum_deaths.loc[cum_deaths['countyFIPS'] == fips]\n",
    "    county_deaths\n",
    "    dates = pd.to_datetime(county_deaths.columns[4:].values).map(lambda dt : str(dt))\n",
    "    X = np.array([(get_date(d[:10]) - get_date('2020-01-01')).days for d in dates])\n",
    "    y = []\n",
    "    county_deaths.head()\n",
    "    for i in range(4, len(county_deaths.columns)):\n",
    "        y.append(county_deaths.loc[idx,county_deaths.columns[i]])\n",
    "    return X, y"
   ]
  },
  {
   "cell_type": "code",
   "execution_count": 130,
   "metadata": {},
   "outputs": [],
   "source": [
    "NYT_counties_daily = pd.read_csv(f\"{homedir}/data/us/covid/nyt_us_counties_daily.csv\")\n",
    "# Gets the number of deaths per day of a given county along with the time, counted in days\n",
    "# since Jan 1st\n",
    "def get_delta_deaths(fips, clip_zeros=True):\n",
    "    Y_county = NYT_counties_daily.loc[NYT_counties_daily['fips'] == fips, :]\n",
    "    Y_county.head()\n",
    "    start_date = '2020-01-01'\n",
    "    Y_county['time'] =  Y_county['date'].map(lambda d : (get_date(d) - get_date('2020-02-01')).days)\n",
    "    X, y = (Y_county.time.values, Y_county.deaths.values)\n",
    "    if not clip_zeros:\n",
    "        return X, y\n",
    "    for i in range(len(y)):\n",
    "        if y[i] != 0:\n",
    "            break\n",
    "    return X[i:], y[i:]\n",
    "\n",
    "def get_delta_cases(fips, clip_zeros=True):\n",
    "    Y_county = NYT_counties_daily.loc[NYT_counties_daily['fips'] == fips, :]\n",
    "    Y_county.head()\n",
    "    start_date = '2020-01-01'\n",
    "    Y_county['time'] =  Y_county['date'].map(lambda d : (get_date(d) - get_date('2020-02-01')).days)\n",
    "    X, y = (Y_county.time.values, Y_county.cases.values)\n",
    "    if not clip_zeros:\n",
    "        return X, y\n",
    "    for i in range(len(y)):\n",
    "        if y[i] != 0:\n",
    "            break\n",
    "    return X[i:], y[i:]\n",
    "\n",
    "# returns an X, y where y[i] is the number of deaths on day i divided by the running average\n",
    "def get_delta_deaths_ratio(fips, clip_zeros=True, avg_period=5):\n",
    "    X_raw, y_raw = get_delta_deaths(fips, clip_zeros)\n",
    "    y = []\n",
    "    running_sum = 0.0\n",
    "    running_time = 0\n",
    "    for i in range(len(X_raw)):\n",
    "        if y_raw[i] == 0:\n",
    "            y.append(0)\n",
    "        elif running_sum == 0:\n",
    "            y.append(1) # if this is the first case we define the signal as 1\n",
    "        else:\n",
    "            avg = running_sum/running_time\n",
    "            y.append(y_raw[i]/avg)\n",
    "        if running_time == avg_period:\n",
    "            running_sum = running_sum + y_raw[i] - y_raw[i - avg_period]\n",
    "        else:\n",
    "            running_sum = running_sum + y_raw[i]\n",
    "            running_time = running_time + 1    \n",
    "        if running_sum == 0:\n",
    "            running_time = 1\n",
    "    return (X_raw, np.array(y))\n",
    "def get_delta_cases_ratio(fips, clip_zeros=True, avg_period=5):\n",
    "    X_raw, y_raw = get_delta_cases(fips, clip_zeros)\n",
    "    y = []\n",
    "    running_sum = 0.0\n",
    "    running_time = 0\n",
    "    for i in range(len(X_raw)):\n",
    "        if y_raw[i] == 0:\n",
    "            y.append(0)\n",
    "        elif running_sum == 0:\n",
    "            y.append(1) # if this is the first case we define the signal as 1\n",
    "        else:\n",
    "            avg = running_sum/running_time\n",
    "            y.append(y_raw[i]/avg)\n",
    "        if running_time == avg_period:\n",
    "            running_sum = running_sum + y_raw[i] - y_raw[i - avg_period]\n",
    "        else:\n",
    "            running_sum = running_sum + y_raw[i]\n",
    "            running_time = running_time + 1    \n",
    "        if running_sum == 0:\n",
    "            running_time = 1\n",
    "    return (X_raw, np.array(y))"
   ]
  },
  {
   "cell_type": "markdown",
   "metadata": {},
   "source": [
    "## Augmented Dickey Fuller Test for Stationary Time Series"
   ]
  },
  {
   "cell_type": "code",
   "execution_count": 120,
   "metadata": {},
   "outputs": [
    {
     "name": "stdout",
     "output_type": "stream",
     "text": [
      "Augmented Dickey-Fuller Test Results:\n",
      "ADF Test Statistic      -5.444260\n",
      "P-Value                  0.000003\n",
      "# Lags Used              0.000000\n",
      "# Observations Used     34.000000\n",
      "Critical Value (1%)     -3.639224\n",
      "Critical Value (5%)     -2.951230\n",
      "Critical Value (10%)    -2.614447\n",
      "dtype: float64\n"
     ]
    }
   ],
   "source": [
    "import statsmodels.tsa.stattools as ts\n",
    "adfTest = ts.adfuller(y, autolag='AIC')\n",
    "dfResults = pd.Series(adfTest[0:4], index=['ADF Test Statistic','P-Value','# Lags Used','# Observations Used'])\n",
    "#Add Critical Values\n",
    "for key,value in adfTest[4].items():\n",
    "    dfResults['Critical Value (%s)'%key] = value\n",
    "print('Augmented Dickey-Fuller Test Results:')\n",
    "print(dfResults)"
   ]
  },
  {
   "cell_type": "markdown",
   "metadata": {},
   "source": [
    "Conclude: time series is stationary"
   ]
  },
  {
   "cell_type": "code",
   "execution_count": 126,
   "metadata": {},
   "outputs": [
    {
     "name": "stderr",
     "output_type": "stream",
     "text": [
      "/home/sean/anaconda3/lib/python3.7/site-packages/ipykernel_launcher.py:8: SettingWithCopyWarning: \n",
      "A value is trying to be set on a copy of a slice from a DataFrame.\n",
      "Try using .loc[row_indexer,col_indexer] = value instead\n",
      "\n",
      "See the caveats in the documentation: http://pandas.pydata.org/pandas-docs/stable/indexing.html#indexing-view-versus-copy\n",
      "  \n",
      "/home/sean/anaconda3/lib/python3.7/site-packages/statsmodels/regression/linear_model.py:1510: RuntimeWarning: invalid value encountered in double_scalars\n",
      "  return np.dot(wresid, wresid) / self.df_resid\n"
     ]
    },
    {
     "name": "stdout",
     "output_type": "stream",
     "text": [
      "stationary 694, non-stat 200\n"
     ]
    }
   ],
   "source": [
    "fips_list = get_fips()\n",
    "stationary = 0\n",
    "non_stationary = 0\n",
    "for fips in fips_list:\n",
    "    X, y = get_delta_deaths_ratio(fips, clip_zeros=True)\n",
    "    if len(y) < 6:\n",
    "        continue\n",
    "    adfTest = ts.adfuller(y, maxlag=4)\n",
    "    if adfTest[1] > 0.05:\n",
    "            non_stationary += 1\n",
    "    else:\n",
    "            stationary += 1\n",
    "\n",
    "print (\"stationary %d, non-stat %d\" % (stationary, non_stationary))"
   ]
  },
  {
   "cell_type": "markdown",
   "metadata": {},
   "source": [
    "## ARIMA Model"
   ]
  },
  {
   "cell_type": "code",
   "execution_count": 150,
   "metadata": {},
   "outputs": [
    {
     "name": "stderr",
     "output_type": "stream",
     "text": [
      "/home/sean/anaconda3/lib/python3.7/site-packages/ipykernel_launcher.py:8: SettingWithCopyWarning: \n",
      "A value is trying to be set on a copy of a slice from a DataFrame.\n",
      "Try using .loc[row_indexer,col_indexer] = value instead\n",
      "\n",
      "See the caveats in the documentation: http://pandas.pydata.org/pandas-docs/stable/indexing.html#indexing-view-versus-copy\n",
      "  \n"
     ]
    },
    {
     "data": {
      "text/plain": [
       "<matplotlib.axes._subplots.AxesSubplot at 0x7fd1df958dd8>"
      ]
     },
     "execution_count": 150,
     "metadata": {},
     "output_type": "execute_result"
    },
    {
     "data": {
      "image/png": "[encoded data removed]",
      "text/plain": [
       "<Figure size 432x288 with 1 Axes>"
      ]
     },
     "metadata": {
      "needs_background": "light"
     },
     "output_type": "display_data"
    }
   ],
   "source": [
    "from statsmodels.tsa.arima_model import ARIMA\n",
    "from statsmodels.tsa.stattools import pacf\n",
    "from pandas.plotting import autocorrelation_plot\n",
    "# some counties: King (53033), NYC (36061), Chicago (17031), LA (6037), Wayne, MI (26163)\n",
    "X, y = get_delta_deaths_ratio(36061, clip_zeros=True)\n",
    "autocorrelation_plot(y)"
   ]
  },
  {
   "cell_type": "code",
   "execution_count": 143,
   "metadata": {},
   "outputs": [
    {
     "data": {
      "text/plain": [
       "array([ 1.00000000e+00,  1.64055350e-01,  3.93356942e-01,  2.41438489e-01,\n",
       "       -2.70335857e-01, -6.95294790e-04, -2.21043175e-01, -2.28864829e-01,\n",
       "       -3.17872457e-01,  9.13002028e-02,  7.50289569e-02,  2.69626006e-01,\n",
       "        8.29723665e-02, -1.89524271e-01, -2.16987839e-01, -4.86641357e-01,\n",
       "       -7.92543789e-01, -1.89762432e+00,  1.11350386e+00,  5.09192395e+00,\n",
       "       -1.16482952e+00, -1.04613574e-01,  5.30126709e-01,  5.42754056e-03,\n",
       "        2.08767959e-01,  1.00016476e-01, -3.34823271e-01, -1.07394867e+00,\n",
       "        2.88093221e+00,  1.27654432e+00, -5.65396943e-01,  2.56830464e+00,\n",
       "        8.08354366e-01, -3.12102183e-01,             nan,             nan,\n",
       "                   nan,             nan,             nan,             nan,\n",
       "                   nan])"
      ]
     },
     "execution_count": 143,
     "metadata": {},
     "output_type": "execute_result"
    }
   ],
   "source": [
    "pacf(y)"
   ]
  },
  {
   "cell_type": "code",
   "execution_count": null,
   "metadata": {},
   "outputs": [],
   "source": []
  }
 ],
 "metadata": {
  "kernelspec": {
   "display_name": "Python 3",
   "language": "python",
   "name": "python3"
  },
  "language_info": {
   "codemirror_mode": {
    "name": "ipython",
    "version": 3
   },
   "file_extension": ".py",
   "mimetype": "text/x-python",
   "name": "python",
   "nbconvert_exporter": "python",
   "pygments_lexer": "ipython3",
   "version": "3.7.3"
  }
 },
 "nbformat": 4,
 "nbformat_minor": 2
}
