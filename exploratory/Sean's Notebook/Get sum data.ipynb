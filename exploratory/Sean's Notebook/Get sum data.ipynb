{
 "cells": [
  {
   "cell_type": "code",
   "execution_count": 97,
   "metadata": {},
   "outputs": [],
   "source": [
    "import numpy as np\n",
    "import pandas as pd\n",
    "import matplotlib.pyplot as plt\n",
    "import git\n",
    "from datetime import datetime\n",
    "repo = git.Repo(\"./\", search_parent_directories=True)\n",
    "homedir = repo.working_dir"
   ]
  },
  {
   "cell_type": "code",
   "execution_count": 98,
   "metadata": {},
   "outputs": [],
   "source": [
    "df_jhu = pd.read_csv(f\"{homedir}/data/us/aggregate_jhu.csv\")\n",
    "df_berk = pd.read_csv(f\"{homedir}/data/us/aggregate_berkeley.csv\")"
   ]
  },
  {
   "cell_type": "code",
   "execution_count": 99,
   "metadata": {},
   "outputs": [],
   "source": [
    "# Get rid of the aggregate country data\n",
    "df_jhu = df_jhu.drop([0])\n",
    "df_jhu['FIPS'] = df_jhu['FIPS'].map(lambda f : str(f))"
   ]
  },
  {
   "cell_type": "code",
   "execution_count": 100,
   "metadata": {},
   "outputs": [],
   "source": [
    "def alter(fips):\n",
    "    if len(fips) == 4:\n",
    "        return '0' + fips\n",
    "    return fips\n",
    "df_jhu['FIPS'] = df_jhu['FIPS'].map(alter)\n",
    "df_jhu = df_jhu.set_index('FIPS')\n",
    "df_jhu['fips'] = df_jhu.index.map(lambda s : int(s))"
   ]
  },
  {
   "cell_type": "code",
   "execution_count": 126,
   "metadata": {},
   "outputs": [],
   "source": [
    "# Gets the number of deaths per day of a given county along with the time, counted in days\n",
    "# since Jan 1st\n",
    "def get_delta_deaths(fips, normalize=True):\n",
    "    Y = pd.read_csv(f\"{homedir}/data/us/covid/nyt_us_counties_daily.csv\")\n",
    "    Y_county = Y.loc[Y['fips'] == fips, :]\n",
    "    Y_county.head()\n",
    "    start_date = '2020-01-01'\n",
    "    Y_county['time'] =  Y_county['date'].map(lambda d : (get_date(d) - get_date('2020-02-01')).days)\n",
    "    X, y = (Y_county.time.values, Y_county.deaths.values)\n",
    "    if not normalize:\n",
    "        return X, y\n",
    "    start_i = X[0]\n",
    "    if start_i > 0:\n",
    "        for i in range(start_i-1, -1, -1):\n",
    "            X = np.insert(X, 0, i, axis=0)\n",
    "            y = np.insert(y, 0, 0, axis=0)\n",
    "    if start_i < 0:\n",
    "        X = X[-start_i:]\n",
    "        y = y[-start_i:]\n",
    "    return X, y\n",
    "def get_date(datestr):\n",
    "    return datetime.strptime(datestr, '%Y-%m-%d')\n",
    "# returns an X, y where y[i] is the number of deaths on day i divided by the running average\n",
    "def get_delta_deaths_ratio(fips, avg_period=5, normalize=True):\n",
    "    X_raw, y_raw = get_delta_deaths(fips, normalize)\n",
    "    y = []\n",
    "    running_sum = 0.0\n",
    "    running_time = 0\n",
    "    for i in X_raw:\n",
    "        if y_raw[i] == 0:\n",
    "            y.append(0)\n",
    "        elif running_sum == 0:\n",
    "            y.append(1) # if this is the first case we define the signal as 1\n",
    "        else:\n",
    "            avg = running_sum/running_time\n",
    "            y.append(y_raw[i]/avg)\n",
    "        if running_time == avg_period:\n",
    "            running_sum = running_sum + y_raw[i] - y_raw[i - avg_period]\n",
    "        else:\n",
    "            running_sum = running_sum + y_raw[i]\n",
    "            running_time = running_time + 1    \n",
    "        if running_sum == 0:\n",
    "            running_time = 1\n",
    "    return (X_raw, np.array(y))"
   ]
  },
  {
   "cell_type": "code",
   "execution_count": 127,
   "metadata": {},
   "outputs": [
    {
     "name": "stderr",
     "output_type": "stream",
     "text": [
      "/home/sean/anaconda3/lib/python3.7/site-packages/ipykernel_launcher.py:8: SettingWithCopyWarning: \n",
      "A value is trying to be set on a copy of a slice from a DataFrame.\n",
      "Try using .loc[row_indexer,col_indexer] = value instead\n",
      "\n",
      "See the caveats in the documentation: http://pandas.pydata.org/pandas-docs/stable/indexing.html#indexing-view-versus-copy\n",
      "  \n"
     ]
    },
    {
     "data": {
      "text/plain": [
       "[<matplotlib.lines.Line2D at 0x7f2961c635f8>]"
      ]
     },
     "execution_count": 127,
     "metadata": {},
     "output_type": "execute_result"
    },
    {
     "data": {
      "image/png": "[encoded data removed]",
      "text/plain": [
       "<Figure size 432x288 with 1 Axes>"
      ]
     },
     "metadata": {
      "needs_background": "light"
     },
     "output_type": "display_data"
    }
   ],
   "source": [
    "# some counties: King (53033), NYC (36061), Chicago (17031), LA (6037), Wayne, MI (26163)\n",
    "X, y = get_delta_deaths_ratio(36061)\n",
    "plt.plot(X, y)"
   ]
  },
  {
   "cell_type": "code",
   "execution_count": null,
   "metadata": {},
   "outputs": [],
   "source": []
  },
  {
   "cell_type": "code",
   "execution_count": null,
   "metadata": {},
   "outputs": [],
   "source": []
  }
 ],
 "metadata": {
  "kernelspec": {
   "display_name": "Python 3",
   "language": "python",
   "name": "python3"
  },
  "language_info": {
   "codemirror_mode": {
    "name": "ipython",
    "version": 3
   },
   "file_extension": ".py",
   "mimetype": "text/x-python",
   "name": "python",
   "nbconvert_exporter": "python",
   "pygments_lexer": "ipython3",
   "version": "3.7.3"
  }
 },
 "nbformat": 4,
 "nbformat_minor": 2
}
