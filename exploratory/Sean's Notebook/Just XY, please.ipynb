{
 "cells": [
  {
   "cell_type": "code",
   "execution_count": 1,
   "metadata": {},
   "outputs": [],
   "source": [
    "import numpy as np\n",
    "import pandas as pd\n",
    "import matplotlib.pyplot as plt\n",
    "import git\n",
    "import math\n",
    "import os\n",
    "import random\n",
    "import csv\n",
    "import json\n",
    "from sklearn import neighbors\n",
    "from sklearn.model_selection import train_test_split\n",
    "import statsmodels.api as sm\n",
    "from sklearn.linear_model import LinearRegression, Ridge,Lasso\n",
    "from sklearn.feature_selection import RFE\n",
    "from statsmodels.tsa.arima_model import ARIMA\n",
    "from statsmodels.tsa.stattools import pacf\n",
    "from pandas.plotting import autocorrelation_plot\n",
    "from datetime import datetime\n",
    "from urllib.request import urlopen\n",
    "import numpy as np\n",
    "import pandas as pd\n",
    "from tqdm.auto import tqdm\n",
    "import lightgbm as lgb\n",
    "import statsmodels.tsa.stattools as ts\n",
    "from lib import *\n",
    "from sklearn.metrics import mean_squared_error\n",
    "from sklearn.model_selection import GridSearchCV\n",
    "\n",
    "repo = git.Repo(\"./\", search_parent_directories=True)\n",
    "homedir = repo.working_dir"
   ]
  },
  {
   "cell_type": "code",
   "execution_count": 2,
   "metadata": {},
   "outputs": [
    {
     "data": {
      "text/html": [
       "<div>\n",
       "<style scoped>\n",
       "    .dataframe tbody tr th:only-of-type {\n",
       "        vertical-align: middle;\n",
       "    }\n",
       "\n",
       "    .dataframe tbody tr th {\n",
       "        vertical-align: top;\n",
       "    }\n",
       "\n",
       "    .dataframe thead th {\n",
       "        text-align: right;\n",
       "    }\n",
       "</style>\n",
       "<table border=\"1\" class=\"dataframe\">\n",
       "  <thead>\n",
       "    <tr style=\"text-align: right;\">\n",
       "      <th></th>\n",
       "      <th>pclon10</th>\n",
       "      <th>pclat10</th>\n",
       "      <th>fips</th>\n",
       "    </tr>\n",
       "  </thead>\n",
       "  <tbody>\n",
       "    <tr>\n",
       "      <th>0</th>\n",
       "      <td>-86.494165</td>\n",
       "      <td>32.500389</td>\n",
       "      <td>1001</td>\n",
       "    </tr>\n",
       "    <tr>\n",
       "      <th>1</th>\n",
       "      <td>-87.762381</td>\n",
       "      <td>30.548923</td>\n",
       "      <td>1003</td>\n",
       "    </tr>\n",
       "    <tr>\n",
       "      <th>2</th>\n",
       "      <td>-85.310038</td>\n",
       "      <td>31.844036</td>\n",
       "      <td>1005</td>\n",
       "    </tr>\n",
       "    <tr>\n",
       "      <th>3</th>\n",
       "      <td>-87.127659</td>\n",
       "      <td>33.030921</td>\n",
       "      <td>1007</td>\n",
       "    </tr>\n",
       "    <tr>\n",
       "      <th>4</th>\n",
       "      <td>-86.591491</td>\n",
       "      <td>33.955243</td>\n",
       "      <td>1009</td>\n",
       "    </tr>\n",
       "  </tbody>\n",
       "</table>\n",
       "</div>"
      ],
      "text/plain": [
       "     pclon10    pclat10  fips\n",
       "0 -86.494165  32.500389  1001\n",
       "1 -87.762381  30.548923  1003\n",
       "2 -85.310038  31.844036  1005\n",
       "3 -87.127659  33.030921  1007\n",
       "4 -86.591491  33.955243  1009"
      ]
     },
     "execution_count": 2,
     "metadata": {},
     "output_type": "execute_result"
    }
   ],
   "source": [
    "df_jhu = pd.read_csv(f\"{homedir}/data/us/aggregate_jhu.csv\")\n",
    "# Get rid of the aggregate country data\n",
    "df_jhu = df_jhu.drop([0])\n",
    "df_jhu['FIPS'] = df_jhu['FIPS'].map(lambda f : str(f))\n",
    "def alter(fips):\n",
    "    if len(fips) == 4:\n",
    "        return '0' + fips\n",
    "    return fips\n",
    "df_jhu['FIPS'] = df_jhu['FIPS'].map(alter)\n",
    "df_jhu = df_jhu.set_index('FIPS')\n",
    "df_jhu['fips'] = df_jhu.index.map(lambda s : int(s))\n",
    "# fill out missing data\n",
    "df_jhu.at['02158', 'Area in square miles - Land area'] = 19673\n",
    "df_jhu.at['02158', 'Density per square mile of land area - Population'] = 0.44\n",
    "df_jhu.at['46102', 'Area in square miles - Land area'] = 2097\n",
    "df_jhu.at['46102', 'Density per square mile of land area - Population'] = 6.5\n",
    "with urlopen('https://raw.githubusercontent.com/plotly/datasets/master/geojson-counties-fips.json') as response:\n",
    "    counties = json.load(response)\n",
    "repo = git.Repo(\"./\", search_parent_directories=True)\n",
    "home_dir = repo.working_dir\n",
    "county_centers = pd.read_csv(home_dir+'/data/us/geolocation/county_centers.csv')\n",
    "objective_df = pd.read_csv(home_dir +'/data/us/covid/nyt_us_counties_daily.csv') # Use the non-cumulative results\n",
    "county_centers = county_centers[['pclon10', 'pclat10', 'fips']]\n",
    "county_centers.head()"
   ]
  },
  {
   "cell_type": "code",
   "execution_count": 3,
   "metadata": {},
   "outputs": [
    {
     "name": "stdout",
     "output_type": "stream",
     "text": [
      "(3272, 334)\n"
     ]
    },
    {
     "data": {
      "text/html": [
       "<div>\n",
       "<style scoped>\n",
       "    .dataframe tbody tr th:only-of-type {\n",
       "        vertical-align: middle;\n",
       "    }\n",
       "\n",
       "    .dataframe tbody tr th {\n",
       "        vertical-align: top;\n",
       "    }\n",
       "\n",
       "    .dataframe thead th {\n",
       "        text-align: right;\n",
       "    }\n",
       "</style>\n",
       "<table border=\"1\" class=\"dataframe\">\n",
       "  <thead>\n",
       "    <tr style=\"text-align: right;\">\n",
       "      <th></th>\n",
       "      <th>State</th>\n",
       "      <th>Area_Name</th>\n",
       "      <th>Rural-urban_Continuum Code_2013</th>\n",
       "      <th>Urban_Influence_Code_2013</th>\n",
       "      <th>Economic_typology_2015</th>\n",
       "      <th>POP_ESTIMATE_2018</th>\n",
       "      <th>N_POP_CHG_2018</th>\n",
       "      <th>Births_2018</th>\n",
       "      <th>Deaths_2018</th>\n",
       "      <th>NATURAL_INC_2018</th>\n",
       "      <th>...</th>\n",
       "      <th>Radiology specialists (2019)</th>\n",
       "      <th>Cardiology specialists (2019)</th>\n",
       "      <th>Oncology (Cancer) specialists (2019)</th>\n",
       "      <th>Endocrinology Diabetes and Metabolism specialists (2019)</th>\n",
       "      <th>All Other Specialties specialists (2019)</th>\n",
       "      <th>Total Specialist Physicians (2019)</th>\n",
       "      <th>transit_scores - population weighted averages aggregated from town/city level to county</th>\n",
       "      <th>fips</th>\n",
       "      <th>pclon10</th>\n",
       "      <th>pclat10</th>\n",
       "    </tr>\n",
       "    <tr>\n",
       "      <th>FIPS</th>\n",
       "      <th></th>\n",
       "      <th></th>\n",
       "      <th></th>\n",
       "      <th></th>\n",
       "      <th></th>\n",
       "      <th></th>\n",
       "      <th></th>\n",
       "      <th></th>\n",
       "      <th></th>\n",
       "      <th></th>\n",
       "      <th></th>\n",
       "      <th></th>\n",
       "      <th></th>\n",
       "      <th></th>\n",
       "      <th></th>\n",
       "      <th></th>\n",
       "      <th></th>\n",
       "      <th></th>\n",
       "      <th></th>\n",
       "      <th></th>\n",
       "      <th></th>\n",
       "    </tr>\n",
       "  </thead>\n",
       "  <tbody>\n",
       "    <tr>\n",
       "      <th>1001</th>\n",
       "      <td>AL</td>\n",
       "      <td>Autauga County</td>\n",
       "      <td>2.0</td>\n",
       "      <td>2.0</td>\n",
       "      <td>0.0</td>\n",
       "      <td>55601</td>\n",
       "      <td>158.0</td>\n",
       "      <td>655.0</td>\n",
       "      <td>532.0</td>\n",
       "      <td>123.0</td>\n",
       "      <td>...</td>\n",
       "      <td>7.666952</td>\n",
       "      <td>4.663873</td>\n",
       "      <td>2.741447</td>\n",
       "      <td>0.807646</td>\n",
       "      <td>29.791911</td>\n",
       "      <td>72.142154</td>\n",
       "      <td>0.0</td>\n",
       "      <td>1001</td>\n",
       "      <td>-86.494165</td>\n",
       "      <td>32.500389</td>\n",
       "    </tr>\n",
       "    <tr>\n",
       "      <th>1003</th>\n",
       "      <td>AL</td>\n",
       "      <td>Baldwin County</td>\n",
       "      <td>3.0</td>\n",
       "      <td>2.0</td>\n",
       "      <td>5.0</td>\n",
       "      <td>218022</td>\n",
       "      <td>5403.0</td>\n",
       "      <td>2254.0</td>\n",
       "      <td>2228.0</td>\n",
       "      <td>26.0</td>\n",
       "      <td>...</td>\n",
       "      <td>30.063565</td>\n",
       "      <td>18.287925</td>\n",
       "      <td>10.749732</td>\n",
       "      <td>3.166933</td>\n",
       "      <td>116.819699</td>\n",
       "      <td>282.882982</td>\n",
       "      <td>368329051.0</td>\n",
       "      <td>1003</td>\n",
       "      <td>-87.762381</td>\n",
       "      <td>30.548923</td>\n",
       "    </tr>\n",
       "    <tr>\n",
       "      <th>1005</th>\n",
       "      <td>AL</td>\n",
       "      <td>Barbour County</td>\n",
       "      <td>6.0</td>\n",
       "      <td>6.0</td>\n",
       "      <td>3.0</td>\n",
       "      <td>24881</td>\n",
       "      <td>-277.0</td>\n",
       "      <td>261.0</td>\n",
       "      <td>324.0</td>\n",
       "      <td>-63.0</td>\n",
       "      <td>...</td>\n",
       "      <td>3.430899</td>\n",
       "      <td>2.087046</td>\n",
       "      <td>1.226776</td>\n",
       "      <td>0.361415</td>\n",
       "      <td>13.331641</td>\n",
       "      <td>32.283033</td>\n",
       "      <td>0.0</td>\n",
       "      <td>1005</td>\n",
       "      <td>-85.310038</td>\n",
       "      <td>31.844036</td>\n",
       "    </tr>\n",
       "    <tr>\n",
       "      <th>1007</th>\n",
       "      <td>AL</td>\n",
       "      <td>Bibb County</td>\n",
       "      <td>1.0</td>\n",
       "      <td>1.0</td>\n",
       "      <td>0.0</td>\n",
       "      <td>22400</td>\n",
       "      <td>-155.0</td>\n",
       "      <td>250.0</td>\n",
       "      <td>256.0</td>\n",
       "      <td>-6.0</td>\n",
       "      <td>...</td>\n",
       "      <td>3.088789</td>\n",
       "      <td>1.878937</td>\n",
       "      <td>1.104448</td>\n",
       "      <td>0.325377</td>\n",
       "      <td>12.002281</td>\n",
       "      <td>29.063942</td>\n",
       "      <td>158361697.0</td>\n",
       "      <td>1007</td>\n",
       "      <td>-87.127659</td>\n",
       "      <td>33.030921</td>\n",
       "    </tr>\n",
       "    <tr>\n",
       "      <th>1009</th>\n",
       "      <td>AL</td>\n",
       "      <td>Blount County</td>\n",
       "      <td>1.0</td>\n",
       "      <td>1.0</td>\n",
       "      <td>0.0</td>\n",
       "      <td>57840</td>\n",
       "      <td>13.0</td>\n",
       "      <td>681.0</td>\n",
       "      <td>662.0</td>\n",
       "      <td>19.0</td>\n",
       "      <td>...</td>\n",
       "      <td>7.975693</td>\n",
       "      <td>4.851683</td>\n",
       "      <td>2.851843</td>\n",
       "      <td>0.840169</td>\n",
       "      <td>30.991603</td>\n",
       "      <td>75.047251</td>\n",
       "      <td>0.0</td>\n",
       "      <td>1009</td>\n",
       "      <td>-86.591491</td>\n",
       "      <td>33.955243</td>\n",
       "    </tr>\n",
       "  </tbody>\n",
       "</table>\n",
       "<p>5 rows × 336 columns</p>\n",
       "</div>"
      ],
      "text/plain": [
       "     State       Area_Name  Rural-urban_Continuum Code_2013  \\\n",
       "FIPS                                                          \n",
       "1001    AL  Autauga County                              2.0   \n",
       "1003    AL  Baldwin County                              3.0   \n",
       "1005    AL  Barbour County                              6.0   \n",
       "1007    AL     Bibb County                              1.0   \n",
       "1009    AL   Blount County                              1.0   \n",
       "\n",
       "      Urban_Influence_Code_2013  Economic_typology_2015  POP_ESTIMATE_2018  \\\n",
       "FIPS                                                                         \n",
       "1001                        2.0                     0.0              55601   \n",
       "1003                        2.0                     5.0             218022   \n",
       "1005                        6.0                     3.0              24881   \n",
       "1007                        1.0                     0.0              22400   \n",
       "1009                        1.0                     0.0              57840   \n",
       "\n",
       "      N_POP_CHG_2018  Births_2018  Deaths_2018  NATURAL_INC_2018  ...  \\\n",
       "FIPS                                                              ...   \n",
       "1001           158.0        655.0        532.0             123.0  ...   \n",
       "1003          5403.0       2254.0       2228.0              26.0  ...   \n",
       "1005          -277.0        261.0        324.0             -63.0  ...   \n",
       "1007          -155.0        250.0        256.0              -6.0  ...   \n",
       "1009            13.0        681.0        662.0              19.0  ...   \n",
       "\n",
       "      Radiology specialists (2019)  Cardiology specialists (2019)  \\\n",
       "FIPS                                                                \n",
       "1001                      7.666952                       4.663873   \n",
       "1003                     30.063565                      18.287925   \n",
       "1005                      3.430899                       2.087046   \n",
       "1007                      3.088789                       1.878937   \n",
       "1009                      7.975693                       4.851683   \n",
       "\n",
       "      Oncology (Cancer) specialists (2019)  \\\n",
       "FIPS                                         \n",
       "1001                              2.741447   \n",
       "1003                             10.749732   \n",
       "1005                              1.226776   \n",
       "1007                              1.104448   \n",
       "1009                              2.851843   \n",
       "\n",
       "      Endocrinology Diabetes and Metabolism specialists (2019)  \\\n",
       "FIPS                                                             \n",
       "1001                                           0.807646          \n",
       "1003                                           3.166933          \n",
       "1005                                           0.361415          \n",
       "1007                                           0.325377          \n",
       "1009                                           0.840169          \n",
       "\n",
       "      All Other Specialties specialists (2019)  \\\n",
       "FIPS                                             \n",
       "1001                                 29.791911   \n",
       "1003                                116.819699   \n",
       "1005                                 13.331641   \n",
       "1007                                 12.002281   \n",
       "1009                                 30.991603   \n",
       "\n",
       "      Total Specialist Physicians (2019)  \\\n",
       "FIPS                                       \n",
       "1001                           72.142154   \n",
       "1003                          282.882982   \n",
       "1005                           32.283033   \n",
       "1007                           29.063942   \n",
       "1009                           75.047251   \n",
       "\n",
       "      transit_scores - population weighted averages aggregated from town/city level to county  \\\n",
       "FIPS                                                                                            \n",
       "1001                                                0.0                                         \n",
       "1003                                        368329051.0                                         \n",
       "1005                                                0.0                                         \n",
       "1007                                        158361697.0                                         \n",
       "1009                                                0.0                                         \n",
       "\n",
       "      fips    pclon10    pclat10  \n",
       "FIPS                              \n",
       "1001  1001 -86.494165  32.500389  \n",
       "1003  1003 -87.762381  30.548923  \n",
       "1005  1005 -85.310038  31.844036  \n",
       "1007  1007 -87.127659  33.030921  \n",
       "1009  1009 -86.591491  33.955243  \n",
       "\n",
       "[5 rows x 336 columns]"
      ]
     },
     "execution_count": 3,
     "metadata": {},
     "output_type": "execute_result"
    }
   ],
   "source": [
    "df_jhu_merged = df_jhu.merge(county_centers, how = 'left', on='fips')\n",
    "df_jhu_merged['FIPS'] = df_jhu_merged['fips']\n",
    "df_jhu_merged = df_jhu_merged.set_index('FIPS')\n",
    "df_jhu_merged_states = df_jhu_merged[df_jhu_merged.fips % 1000 != 0]\n",
    "df_jhu_merged_states.head()"
   ]
  },
  {
   "cell_type": "code",
   "execution_count": 4,
   "metadata": {},
   "outputs": [
    {
     "data": {
      "text/html": [
       "<div>\n",
       "<style scoped>\n",
       "    .dataframe tbody tr th:only-of-type {\n",
       "        vertical-align: middle;\n",
       "    }\n",
       "\n",
       "    .dataframe tbody tr th {\n",
       "        vertical-align: top;\n",
       "    }\n",
       "\n",
       "    .dataframe thead th {\n",
       "        text-align: right;\n",
       "    }\n",
       "</style>\n",
       "<table border=\"1\" class=\"dataframe\">\n",
       "  <thead>\n",
       "    <tr style=\"text-align: right;\">\n",
       "      <th></th>\n",
       "      <th>Type</th>\n",
       "      <th>Name</th>\n",
       "      <th>2/18</th>\n",
       "      <th>2/19</th>\n",
       "      <th>2/20</th>\n",
       "      <th>2/21</th>\n",
       "      <th>2/22</th>\n",
       "      <th>2/23</th>\n",
       "      <th>2/24</th>\n",
       "      <th>2/25</th>\n",
       "      <th>...</th>\n",
       "      <th>5/14</th>\n",
       "      <th>5/15</th>\n",
       "      <th>5/16</th>\n",
       "      <th>5/17</th>\n",
       "      <th>5/18</th>\n",
       "      <th>5/19</th>\n",
       "      <th>5/20</th>\n",
       "      <th>5/21</th>\n",
       "      <th>5/22</th>\n",
       "      <th>5/23</th>\n",
       "    </tr>\n",
       "  </thead>\n",
       "  <tbody>\n",
       "    <tr>\n",
       "      <th>8</th>\n",
       "      <td>state</td>\n",
       "      <td>AL</td>\n",
       "      <td>-14</td>\n",
       "      <td>7</td>\n",
       "      <td>1</td>\n",
       "      <td>-2</td>\n",
       "      <td>8</td>\n",
       "      <td>2</td>\n",
       "      <td>1</td>\n",
       "      <td>0</td>\n",
       "      <td>...</td>\n",
       "      <td>-77.78</td>\n",
       "      <td>-73.60</td>\n",
       "      <td>-69.99</td>\n",
       "      <td>-71.98</td>\n",
       "      <td>-75.11</td>\n",
       "      <td>-75.25</td>\n",
       "      <td>-69.56</td>\n",
       "      <td>-66.91</td>\n",
       "      <td>-65.27</td>\n",
       "      <td>-59.58</td>\n",
       "    </tr>\n",
       "    <tr>\n",
       "      <th>10</th>\n",
       "      <td>state</td>\n",
       "      <td>AZ</td>\n",
       "      <td>0</td>\n",
       "      <td>1</td>\n",
       "      <td>8</td>\n",
       "      <td>4</td>\n",
       "      <td>-3</td>\n",
       "      <td>5</td>\n",
       "      <td>2</td>\n",
       "      <td>5</td>\n",
       "      <td>...</td>\n",
       "      <td>-76.78</td>\n",
       "      <td>-73.65</td>\n",
       "      <td>-72.46</td>\n",
       "      <td>-72.66</td>\n",
       "      <td>-74.35</td>\n",
       "      <td>-71.06</td>\n",
       "      <td>-71.09</td>\n",
       "      <td>-65.36</td>\n",
       "      <td>-61.67</td>\n",
       "      <td>-59.90</td>\n",
       "    </tr>\n",
       "    <tr>\n",
       "      <th>13</th>\n",
       "      <td>state</td>\n",
       "      <td>CA</td>\n",
       "      <td>-2</td>\n",
       "      <td>2</td>\n",
       "      <td>5</td>\n",
       "      <td>0</td>\n",
       "      <td>-2</td>\n",
       "      <td>7</td>\n",
       "      <td>3</td>\n",
       "      <td>6</td>\n",
       "      <td>...</td>\n",
       "      <td>-99.75</td>\n",
       "      <td>-99.63</td>\n",
       "      <td>-99.63</td>\n",
       "      <td>-99.67</td>\n",
       "      <td>-99.59</td>\n",
       "      <td>-99.62</td>\n",
       "      <td>-99.29</td>\n",
       "      <td>-99.19</td>\n",
       "      <td>-97.58</td>\n",
       "      <td>-96.30</td>\n",
       "    </tr>\n",
       "    <tr>\n",
       "      <th>14</th>\n",
       "      <td>state</td>\n",
       "      <td>CO</td>\n",
       "      <td>1</td>\n",
       "      <td>-8</td>\n",
       "      <td>-4</td>\n",
       "      <td>7</td>\n",
       "      <td>1</td>\n",
       "      <td>-8</td>\n",
       "      <td>-2</td>\n",
       "      <td>-4</td>\n",
       "      <td>...</td>\n",
       "      <td>-99.60</td>\n",
       "      <td>-99.61</td>\n",
       "      <td>-99.67</td>\n",
       "      <td>-99.80</td>\n",
       "      <td>-99.84</td>\n",
       "      <td>-99.78</td>\n",
       "      <td>-99.63</td>\n",
       "      <td>-99.70</td>\n",
       "      <td>-99.75</td>\n",
       "      <td>-99.56</td>\n",
       "    </tr>\n",
       "    <tr>\n",
       "      <th>15</th>\n",
       "      <td>state</td>\n",
       "      <td>CT</td>\n",
       "      <td>8</td>\n",
       "      <td>26</td>\n",
       "      <td>1</td>\n",
       "      <td>-3</td>\n",
       "      <td>-6</td>\n",
       "      <td>2</td>\n",
       "      <td>-2</td>\n",
       "      <td>6</td>\n",
       "      <td>...</td>\n",
       "      <td>-99.87</td>\n",
       "      <td>-99.65</td>\n",
       "      <td>-96.36</td>\n",
       "      <td>-95.77</td>\n",
       "      <td>-97.19</td>\n",
       "      <td>-99.28</td>\n",
       "      <td>-81.13</td>\n",
       "      <td>-81.62</td>\n",
       "      <td>-80.38</td>\n",
       "      <td>-92.84</td>\n",
       "    </tr>\n",
       "  </tbody>\n",
       "</table>\n",
       "<p>5 rows × 98 columns</p>\n",
       "</div>"
      ],
      "text/plain": [
       "     Type Name  2/18  2/19  2/20  2/21  2/22  2/23  2/24  2/25  ...   5/14  \\\n",
       "8   state   AL   -14     7     1    -2     8     2     1     0  ... -77.78   \n",
       "10  state   AZ     0     1     8     4    -3     5     2     5  ... -76.78   \n",
       "13  state   CA    -2     2     5     0    -2     7     3     6  ... -99.75   \n",
       "14  state   CO     1    -8    -4     7     1    -8    -2    -4  ... -99.60   \n",
       "15  state   CT     8    26     1    -3    -6     2    -2     6  ... -99.87   \n",
       "\n",
       "     5/15   5/16   5/17   5/18   5/19   5/20   5/21   5/22   5/23  \n",
       "8  -73.60 -69.99 -71.98 -75.11 -75.25 -69.56 -66.91 -65.27 -59.58  \n",
       "10 -73.65 -72.46 -72.66 -74.35 -71.06 -71.09 -65.36 -61.67 -59.90  \n",
       "13 -99.63 -99.63 -99.67 -99.59 -99.62 -99.29 -99.19 -97.58 -96.30  \n",
       "14 -99.61 -99.67 -99.80 -99.84 -99.78 -99.63 -99.70 -99.75 -99.56  \n",
       "15 -99.65 -96.36 -95.77 -97.19 -99.28 -81.13 -81.62 -80.38 -92.84  \n",
       "\n",
       "[5 rows x 98 columns]"
      ]
     },
     "execution_count": 4,
     "metadata": {},
     "output_type": "execute_result"
    }
   ],
   "source": [
    "bookings = pd.read_csv(f\"{homedir}/data/us/state_of_industry_data.csv\")\n",
    "bookings = bookings[bookings.Type == 'state']\n",
    "def name(name):\n",
    "    if name in us_state_abbrev:\n",
    "        return us_state_abbrev[name]\n",
    "    return \"Not US\"\n",
    "bookings.Name = bookings.Name.map(name)\n",
    "bookings = bookings[bookings.Name != 'Not US']\n",
    "bookings.set_index('Name')\n",
    "bookings.head()"
   ]
  },
  {
   "cell_type": "code",
   "execution_count": 5,
   "metadata": {},
   "outputs": [],
   "source": [
    "bookings_data = {}\n",
    "for idx, row in bookings.iterrows():\n",
    "    bookings_data[row['Name']] = {}\n",
    "    for col in bookings.columns:\n",
    "        try:\n",
    "            t = (get_date('2020/' + col, formatstr='%Y/%m/%d') - get_date('2020-01-01')).days\n",
    "            bookings_data[row['Name']][t] = row[col]\n",
    "        except:\n",
    "            pass"
   ]
  },
  {
   "cell_type": "code",
   "execution_count": 6,
   "metadata": {},
   "outputs": [],
   "source": [
    "features = ['State', 'Area_Name','POP_ESTIMATE_2018', 'Area in square miles - Land area', 'Density per square mile of land area - Population', 'Total_Male', 'Total_Female', 'Total_age0to17', \n",
    "            'Total_age18to64','Total_age65plus', 'Active Physicians per 100000 Population 2018 (AAMC)', 'Active General Surgeons per 100000 Population 2018 (AAMC)',\n",
    "           'Non-profit hospital beds per 1000 people (2019)', 'Employed_2018', 'Unemployment_rate_2018'\n",
    "           , 'Total hospital beds per 1000 people (2019)', 'Total nurse practitioners (2019)',\n",
    "           'Total Hospitals (2019)','fips','pclon10', 'pclat10']"
   ]
  },
  {
   "cell_type": "code",
   "execution_count": 7,
   "metadata": {},
   "outputs": [
    {
     "data": {
      "application/vnd.jupyter.widget-view+json": {
       "model_id": "44df7863b60e4c5b8290d579b7670a03",
       "version_major": 2,
       "version_minor": 0
      },
      "text/plain": [
       "HBox(children=(IntProgress(value=0, max=2939), HTML(value='')))"
      ]
     },
     "metadata": {},
     "output_type": "display_data"
    },
    {
     "name": "stdout",
     "output_type": "stream",
     "text": [
      "\n"
     ]
    },
    {
     "data": {
      "application/vnd.jupyter.widget-view+json": {
       "model_id": "cff6e90ef4b24d0fb6f00f8a6b770dd1",
       "version_major": 2,
       "version_minor": 0
      },
      "text/plain": [
       "HBox(children=(IntProgress(value=0, max=2939), HTML(value='')))"
      ]
     },
     "metadata": {},
     "output_type": "display_data"
    },
    {
     "name": "stdout",
     "output_type": "stream",
     "text": [
      "\n"
     ]
    }
   ],
   "source": [
    "delta_death_counter = DeltaDeathCounter()\n",
    "delta_case_counter = DeltaCaseCounter()\n",
    "delta_death_ratio_counter = RatioCounter(delta_death_counter)\n",
    "delta_case_ratio_counter = RatioCounter(delta_case_counter)"
   ]
  },
  {
   "cell_type": "code",
   "execution_count": 8,
   "metadata": {},
   "outputs": [],
   "source": [
    "cum_death_counter = CumDeathCounter()\n",
    "cum_case_counter = CumCaseCounter()"
   ]
  },
  {
   "cell_type": "code",
   "execution_count": 9,
   "metadata": {},
   "outputs": [],
   "source": [
    "delta_case_counter = DeltaCounter(cum_case_counter)"
   ]
  },
  {
   "cell_type": "code",
   "execution_count": 10,
   "metadata": {},
   "outputs": [
    {
     "name": "stderr",
     "output_type": "stream",
     "text": [
      "/home/sean/Dropbox/MyDocuments/Programming/CS156B/CS156B-Covid-Challenge/exploratory/Sean's Notebook/lib.py:217: SettingWithCopyWarning: \n",
      "A value is trying to be set on a copy of a slice from a DataFrame.\n",
      "Try using .loc[row_indexer,col_indexer] = value instead\n",
      "\n",
      "See the caveats in the documentation: http://pandas.pydata.org/pandas-docs/stable/indexing.html#indexing-view-versus-copy\n",
      "  counties['fips'] = counties['fips'].map(lambda f: int(f))\n"
     ]
    },
    {
     "data": {
      "application/vnd.jupyter.widget-view+json": {
       "model_id": "e8da2215be4b483388bd63466542529b",
       "version_major": 2,
       "version_minor": 0
      },
      "text/plain": [
       "HBox(children=(IntProgress(value=0, max=2670), HTML(value='')))"
      ]
     },
     "metadata": {},
     "output_type": "display_data"
    },
    {
     "name": "stderr",
     "output_type": "stream",
     "text": [
      "/home/sean/Dropbox/MyDocuments/Programming/CS156B/CS156B-Covid-Challenge/exploratory/Sean's Notebook/lib.py:223: SettingWithCopyWarning: \n",
      "A value is trying to be set on a copy of a slice from a DataFrame.\n",
      "Try using .loc[row_indexer,col_indexer] = value instead\n",
      "\n",
      "See the caveats in the documentation: http://pandas.pydata.org/pandas-docs/stable/indexing.html#indexing-view-versus-copy\n",
      "  county_data['date'] = county_data['date'].map(lambda l: (get_date(l) - get_date('2020-01-01')).days)\n"
     ]
    },
    {
     "name": "stdout",
     "output_type": "stream",
     "text": [
      "\n"
     ]
    }
   ],
   "source": [
    "mobility_counter = MobilityCounter()"
   ]
  },
  {
   "cell_type": "code",
   "execution_count": 11,
   "metadata": {},
   "outputs": [],
   "source": [
    "def split_fips(counter, min_thresh=10):\n",
    "    fips_list = get_fips()\n",
    "    large_fips = []\n",
    "    small_fips = []\n",
    "    for fips in fips_list:\n",
    "        X,y = counter.getY(fips)\n",
    "        if y[-1] > min_thresh:\n",
    "            large_fips.append(fips)\n",
    "        else:\n",
    "            small_fips.append(fips)\n",
    "    return large_fips, small_fips\n",
    "df_jhu_states = df_jhu[df_jhu.fips % 1000 == 0]\n",
    " \n",
    "def state_to_fip(state_abr):\n",
    "    # Converts state abbreviation to FIPS code\n",
    "    return df_jhu_states.fips[df_jhu_states.State == state_abr].values[0]"
   ]
  },
  {
   "cell_type": "code",
   "execution_count": 85,
   "metadata": {},
   "outputs": [],
   "source": [
    "def get_XY(df, delta_y, look_back_y, y_generator, fips_list=get_fips(), \n",
    "           moving_window=True, start_date=110, offset=0, features=None,\n",
    "           add_cases=False):\n",
    "    if features != None:\n",
    "        df = df[features]\n",
    "    df = df[df.fips % 1000 != 0] # remove aggregate states\n",
    "    df = df[df.State != 'PR']   # peurto rico has some weird data...\n",
    "    \n",
    "    df['state resturant data'] = df['fips'].map(lambda fip: 0)\n",
    "    df['mobility'] = df['fips'].map(lambda fip: 0)\n",
    "    df['cases'] = df['fips'].map(lambda fip: 0)\n",
    "    \n",
    "    col_names = []\n",
    "    for i in range(look_back_y):\n",
    "        if i == 0:\n",
    "            col_name = \"deaths\"\n",
    "        else:\n",
    "            col_name = \"deaths %d days ago\" %i\n",
    "        col_names.append(col_name)\n",
    "        df[col_name] = df['fips'].map(lambda fip: 0)\n",
    "    X = []\n",
    "    Y = []\n",
    "    Y_add = []\n",
    "    for fips in df.index:\n",
    "        if int(fips) not in fips_list:\n",
    "            continue\n",
    "        base = df.loc[fips].values\n",
    "        _, cum_cases = delta_case_counter.getY(int(fips))\n",
    "        try:\n",
    "            t, ys = y_generator.getY(int(fips))\n",
    "            ys = ys.values\n",
    "        except KeyError:\n",
    "            continue\n",
    "        if len(ys) == 0:\n",
    "            X.append(base)\n",
    "            Y.append(0)\n",
    "            continue\n",
    "        for j in range(-1-offset, -len(ys), -1):\n",
    "            base = df.loc[fips].values\n",
    "            time = t[j-delta_y]\n",
    "            try:\n",
    "                base[-look_back_y - 3] = bookings_data[df.at[fips, 'State']][time]\n",
    "            except:\n",
    "                base[-look_back_y - 3] = -100\n",
    "            if j - delta_y >= -len(cum_cases):\n",
    "                base[-look_back_y - 1] = cum_cases[j - delta_y]\n",
    "            try:\n",
    "                base[-look_back_y - 2] = mobility_counter.getYByDay(int(fips), time)\n",
    "                if time < start_date:\n",
    "                    break\n",
    "            except:\n",
    "                try:\n",
    "                    tmp1,tmp2 = mobility_counter.getY(int(fips))\n",
    "                    base[-look_back_y-2] = tmp2.values[-1]\n",
    "                except:\n",
    "                    pass\n",
    "            for i in range(look_back_y):\n",
    "                if j - delta_y - i >= -len(ys):\n",
    "                    base[-look_back_y + i] = ys[j - delta_y - i]\n",
    "            X.append(base)\n",
    "            Y.append(ys[j])\n",
    "            if add_cases:\n",
    "                Y_add.append(cum_cases[j])\n",
    "            if not moving_window:\n",
    "                break\n",
    "    df_new = pd.DataFrame(X, columns = df.columns)\n",
    "    df_new['target'] = Y\n",
    "    if add_cases:\n",
    "        df_new['target_cases'] = Y_add\n",
    "    return df_new\n",
    "\n",
    "def get_XY_with_neighs(df, delta_y, look_back_y, y_generator, fips_list=get_fips(), \n",
    "                       moving_window=True,offset=0, features=None, add_cases=False):\n",
    "    if features != None:\n",
    "        df = df[features]\n",
    "    df_new = get_XY(df, delta_y, look_back_y, y_generator, fips_list=fips_list, \n",
    "                    moving_window=moving_window,offset=offset, add_cases=add_cases)\n",
    "    df_new = df_new.loc[~np.isnan(df_new.pclon10)]\n",
    "    if add_cases:\n",
    "        X = df_new.iloc[:,2:-2]\n",
    "        y_cases = df_new['target_cases']\n",
    "    else:\n",
    "        X = df_new.iloc[:,2:-1]\n",
    "    y = df_new['target'].values\n",
    "    X = add_radius_neighbors(add_neighbors(X))\n",
    "    if add_cases:\n",
    "        return X,y,y_cases\n",
    "    return X, y\n",
    "\n",
    "def Rsquare(pred, actual):   \n",
    "    return np.corrcoef(pred, actual)[0,1]**2"
   ]
  },
  {
   "cell_type": "markdown",
   "metadata": {},
   "source": [
    "## Splitting"
   ]
  },
  {
   "cell_type": "code",
   "execution_count": 151,
   "metadata": {},
   "outputs": [],
   "source": [
    "large_fips, small_fips = split_fips(cum_death_counter,min_thresh=1)"
   ]
  },
  {
   "cell_type": "code",
   "execution_count": 152,
   "metadata": {},
   "outputs": [],
   "source": [
    "X,y,y_cases = get_XY_with_neighs(df_jhu_merged, 1, 10, delta_death_counter, \n",
    "                         fips_list=large_fips, offset=1, features=features, add_cases=True)\n",
    "X_train, X_test, y_train, y_test = train_test_split(X, y, test_size=0.4)"
   ]
  },
  {
   "cell_type": "code",
   "execution_count": 153,
   "metadata": {},
   "outputs": [
    {
     "data": {
      "application/vnd.jupyter.widget-view+json": {
       "model_id": "2bb0576efe33442c8451fe8164efb1cf",
       "version_major": 2,
       "version_minor": 0
      },
      "text/plain": [
       "HBox(children=(IntProgress(value=0, max=43), HTML(value='')))"
      ]
     },
     "metadata": {},
     "output_type": "display_data"
    },
    {
     "name": "stdout",
     "output_type": "stream",
     "text": [
      "\n",
      "Optimum number of features: 16\n",
      "Score with 16 features: 0.799483\n"
     ]
    },
    {
     "data": {
      "image/png": "[encoded data removed]",
      "text/plain": [
       "<Figure size 432x288 with 1 Axes>"
      ]
     },
     "metadata": {
      "needs_background": "light"
     },
     "output_type": "display_data"
    }
   ],
   "source": [
    "nof_list=np.arange(1,44)            \n",
    "high_score=0\n",
    "#Variable to store the optimum features\n",
    "nof=0           \n",
    "score_list =[]\n",
    "for n in tqdm(range(len(nof_list))):\n",
    "    model = LinearRegression()\n",
    "    rfe = RFE(model,nof_list[n])\n",
    "    X_train_rfe = rfe.fit_transform(X_train,y_train)\n",
    "    X_test_rfe = rfe.transform(X_test)\n",
    "    model.fit(X_train_rfe,y_train)\n",
    "    score = model.score(X_test_rfe,y_test)\n",
    "    score_list.append(score)\n",
    "    if(score>high_score):\n",
    "        high_score = score\n",
    "        nof = nof_list[n]\n",
    "plt.plot(nof_list, score_list)\n",
    "print(\"Optimum number of features: %d\" %nof)\n",
    "print(\"Score with %d features: %f\" % (nof, high_score))"
   ]
  },
  {
   "cell_type": "code",
   "execution_count": 160,
   "metadata": {},
   "outputs": [
    {
     "name": "stdout",
     "output_type": "stream",
     "text": [
      "0.799482936583694\n"
     ]
    }
   ],
   "source": [
    "model = LinearRegression()\n",
    "rfe = RFE(model,16)\n",
    "X_train_rfe = rfe.fit_transform(X_train,y_train)\n",
    "X_test_rfe = rfe.transform(X_test)\n",
    "model.fit(X_train_rfe,y_train)\n",
    "print(model.score(X_test_rfe,y_test))\n",
    "support = rfe.support_"
   ]
  },
  {
   "cell_type": "code",
   "execution_count": 161,
   "metadata": {},
   "outputs": [
    {
     "data": {
      "text/plain": [
       "['Non-profit hospital beds per 1000 people (2019)',\n",
       " 'Total Hospitals (2019)',\n",
       " 'state resturant data',\n",
       " 'cases',\n",
       " 'deaths',\n",
       " 'deaths 1 days ago',\n",
       " 'deaths 3 days ago',\n",
       " 'deaths 4 days ago',\n",
       " 'deaths 5 days ago',\n",
       " 'deaths 6 days ago',\n",
       " 'deaths 7 days ago',\n",
       " 'deaths 8 days ago',\n",
       " 'deaths 9 days ago',\n",
       " 'neighbor2_deaths',\n",
       " 'neighbor4_deaths',\n",
       " 'neighbor5_deaths']"
      ]
     },
     "execution_count": 161,
     "metadata": {},
     "output_type": "execute_result"
    }
   ],
   "source": [
    "good_cols = []\n",
    "for i in range(len(support)):\n",
    "    if support[i]:\n",
    "        good_cols.append(X_train.columns[i])\n",
    "good_cols"
   ]
  },
  {
   "cell_type": "code",
   "execution_count": 162,
   "metadata": {},
   "outputs": [],
   "source": [
    "X_train_filtered = X_train[good_cols]\n",
    "X_test_filtered = X_test[good_cols]"
   ]
  },
  {
   "cell_type": "code",
   "execution_count": 165,
   "metadata": {},
   "outputs": [
    {
     "name": "stdout",
     "output_type": "stream",
     "text": [
      "Ordinary Least Squares\n",
      "R^2 (in sample): 0.863919\n",
      "R^2 (out sample): 0.799483\n",
      "Ridge Model\n",
      "R^2 (in sample): 0.863919\n",
      "R^2 (out sample): 0.799582\n",
      "Lasso Model\n",
      "R^2 (in sample): 0.858851\n",
      "R^2 (out sample): 0.802579\n"
     ]
    },
    {
     "data": {
      "text/plain": [
       "<matplotlib.collections.PathCollection at 0x7fa0981ecda0>"
      ]
     },
     "execution_count": 165,
     "metadata": {},
     "output_type": "execute_result"
    },
    {
     "data": {
      "image/png": "[encoded data removed]",
      "text/plain": [
       "<Figure size 432x288 with 1 Axes>"
      ]
     },
     "metadata": {
      "needs_background": "light"
     },
     "output_type": "display_data"
    }
   ],
   "source": [
    "normal_model = LinearRegression().fit(X_train_filtered.values, y_train)\n",
    "print(\"Ordinary Least Squares\")\n",
    "print(\"R^2 (in sample): %f\" % normal_model.score(X_train_filtered,y_train))\n",
    "print(\"R^2 (out sample): %f\" % normal_model.score(X_test_filtered,y_test))\n",
    "ridge_model = Ridge(alpha=1000)\n",
    "ridge_model.fit(X_train_filtered.values, y_train)\n",
    "print(\"Ridge Model\")\n",
    "print(\"R^2 (in sample): %f\" % ridge_model.score(X_train_filtered,y_train))\n",
    "print(\"R^2 (out sample): %f\" % ridge_model.score(X_test_filtered,y_test))\n",
    "lasso_model = Lasso(alpha=1)\n",
    "lasso_model.fit(X_train_filtered.values, y_train)\n",
    "print(\"Lasso Model\")\n",
    "print(\"R^2 (in sample): %f\" % lasso_model.score(X_train_filtered,y_train))\n",
    "print(\"R^2 (out sample): %f\" % lasso_model.score(X_test_filtered,y_test))\n",
    "plt.scatter(ridge_model.predict(X_test_filtered), y_test)"
   ]
  },
  {
   "cell_type": "code",
   "execution_count": 176,
   "metadata": {},
   "outputs": [
    {
     "name": "stdout",
     "output_type": "stream",
     "text": [
      "R squared (in sample) is 0.993567\n",
      "R squared (out sample) is 0.727224\n"
     ]
    },
    {
     "data": {
      "text/plain": [
       "<matplotlib.collections.PathCollection at 0x7fa09811e048>"
      ]
     },
     "execution_count": 176,
     "metadata": {},
     "output_type": "execute_result"
    },
    {
     "data": {
      "image/png": "[encoded data removed]",
      "text/plain": [
       "<Figure size 432x288 with 1 Axes>"
      ]
     },
     "metadata": {
      "needs_background": "light"
     },
     "output_type": "display_data"
    }
   ],
   "source": [
    "gbm = lgb.LGBMRegressor(n_estimators=1500,num_leaves=200);\n",
    "gbm.fit(X_train_filtered, y_train,\n",
    "        eval_set=[(X_test_filtered, y_test)],\n",
    "        eval_metric='l2',\n",
    "        verbose=False);\n",
    "pred_train = gbm.predict(X_train_filtered, num_iteration=gbm.best_iteration_)\n",
    "print(\"R squared (in sample) is %f\" % Rsquare(pred_train, y_train))\n",
    "pred_test = gbm.predict(X_test_filtered, num_iteration=gbm.best_iteration_)\n",
    "print(\"R squared (out sample) is %f\" % Rsquare(pred_test, y_test))\n",
    "plt.scatter(pred_train, y_train)"
   ]
  },
  {
   "cell_type": "markdown",
   "metadata": {},
   "source": [
    "### Predicting Cases"
   ]
  },
  {
   "cell_type": "code",
   "execution_count": 177,
   "metadata": {},
   "outputs": [],
   "source": [
    "X_train, X_test, y_train, y_test = train_test_split(X, y_cases, test_size=0.4)\n",
    "X_train_filtered = X_train[good_cols]\n",
    "X_test_filtered = X_test[good_cols]"
   ]
  },
  {
   "cell_type": "code",
   "execution_count": 178,
   "metadata": {},
   "outputs": [
    {
     "name": "stdout",
     "output_type": "stream",
     "text": [
      "Ordinary Least Squares\n",
      "R^2 (in sample): 0.775023\n",
      "R^2 (out sample): 0.766692\n",
      "Ridge Model\n",
      "R^2 (in sample): 0.775022\n",
      "R^2 (out sample): 0.766743\n",
      "Lasso Model\n",
      "R^2 (in sample): 0.774792\n",
      "R^2 (out sample): 0.769621\n"
     ]
    },
    {
     "data": {
      "text/plain": [
       "<matplotlib.collections.PathCollection at 0x7fa0a1cd23c8>"
      ]
     },
     "execution_count": 178,
     "metadata": {},
     "output_type": "execute_result"
    },
    {
     "data": {
      "image/png": "[encoded data removed]",
      "text/plain": [
       "<Figure size 432x288 with 1 Axes>"
      ]
     },
     "metadata": {
      "needs_background": "light"
     },
     "output_type": "display_data"
    }
   ],
   "source": [
    "normal_model_cases = LinearRegression().fit(X_train_filtered.values, y_train)\n",
    "print(\"Ordinary Least Squares\")\n",
    "print(\"R^2 (in sample): %f\" % normal_model_cases.score(X_train_filtered,y_train))\n",
    "print(\"R^2 (out sample): %f\" % normal_model_cases.score(X_test_filtered,y_test))\n",
    "ridge_model_cases = Ridge(alpha=1000)\n",
    "ridge_model_cases.fit(X_train_filtered.values, y_train)\n",
    "print(\"Ridge Model\")\n",
    "print(\"R^2 (in sample): %f\" % ridge_model_cases.score(X_train_filtered,y_train))\n",
    "print(\"R^2 (out sample): %f\" % ridge_model_cases.score(X_test_filtered,y_test))\n",
    "lasso_model_cases = Lasso(alpha=1)\n",
    "lasso_model_cases.fit(X_train_filtered.values, y_train)\n",
    "print(\"Lasso Model\")\n",
    "print(\"R^2 (in sample): %f\" % lasso_model_cases.score(X_train_filtered,y_train))\n",
    "print(\"R^2 (out sample): %f\" % lasso_model_cases.score(X_test_filtered,y_test))\n",
    "plt.scatter(ridge_model_cases.predict(X_test_filtered), y_test)"
   ]
  },
  {
   "cell_type": "markdown",
   "metadata": {},
   "source": [
    "## Submission 3?"
   ]
  },
  {
   "cell_type": "code",
   "execution_count": 189,
   "metadata": {},
   "outputs": [],
   "source": [
    "df_true,_ =get_XY_with_neighs(df_jhu_merged, 0, 10, delta_death_counter, fips_list=large_fips, moving_window=False, offset=0, features=features)\n",
    "percentile_to_zscore = {10:-1.282, 20:-0.842,30:-0.524,40:-0.253,50:0,60:0.253,70:0.524,80:0.842,90:1.282}\n",
    "df_true = df_true.set_index('fips')"
   ]
  },
  {
   "cell_type": "code",
   "execution_count": 180,
   "metadata": {},
   "outputs": [],
   "source": [
    "col_names = []\n",
    "for j in range(10):\n",
    "    if j > 0:\n",
    "        copy_col = 'deaths %d days ago' % (j)\n",
    "    else:\n",
    "        copy_col = 'deaths'\n",
    "    col_names.append(copy_col)\n",
    "def get_percentile_obj(model, X, good_cols, min_look_ahead=1, max_look_ahead=14, cases_predictor=None):\n",
    "    model_neigh = neighbors.NearestNeighbors(6, n_jobs = 4).fit(X[['pclon10', 'pclat10']])\n",
    "    distances, indices = model_neigh.kneighbors(X[['pclon10', 'pclat10']])\n",
    "    indices = np.transpose(indices[:, 1:]) # Remove itself from the neighbors\n",
    "    distances = np.transpose(distances[:, 1:])\n",
    "    output = {}\n",
    "    df = X.copy()\n",
    "    for i in range(min_look_ahead, max_look_ahead + 1):\n",
    "        pred = model.predict(df[good_cols].values)  # Unbiased prediction\n",
    "        std_prev = np.std(df[col_names].values,axis=1) # standard deviation of prediction\n",
    "        pred = np.random.normal(pred,std_prev) # draw from normal dist\n",
    "        pred = pred.clip(min=0) # No negative deaths!\n",
    "\n",
    "        if cases_predictor is not None:\n",
    "            pred_cases = cases_predictor.predict(df[good_cols].values) # Num case predictions\n",
    "            pred_cases = pred_cases.clip(min=0) #no negative cases\n",
    "            df['cases'] = pred_cases \n",
    "        fips_to_pred = {}\n",
    "        for j in range(len(df.index)):\n",
    "            fips = df.index[j]\n",
    "            if pred[j] < 0:\n",
    "                fips_to_pred[fips] = 0\n",
    "            else:\n",
    "                fips_to_pred[fips] = pred[j]\n",
    "        for j in range(9,0,-1):\n",
    "            df[col_names[j]] = df[col_names[j-1]] # Shift the columns to simulate the progress of a day\n",
    "        df['deaths'] = pred\n",
    "\n",
    "        # Updating neighbor case/death counts \n",
    "        for j in range(5): \n",
    "            data = df.iloc[indices[j]]\n",
    "            df['neighbor'+str(j+1)+'_'+'deaths'] = data['deaths'].values \n",
    "            df['neighbor'+str(j+1)+'_'+'cases'] = data['cases'].values\n",
    "        deaths = df['deaths'].values[indices]\n",
    "        cases = df['cases'].values[indices]\n",
    "        truncated_distances = distances.copy()\n",
    "        truncated_distances[truncated_distances > 0.65] = np.nan\n",
    "        df['deaths_in_radius'] = np.sum(deaths* (distances <= 0.65) , axis = 0)\n",
    "        df['cases_in_radius'] = np.sum(cases* (distances <= 0.65) , axis = 0)\n",
    "        \n",
    "        output[i] = fips_to_pred\n",
    "    return output\n",
    "def get_percentile_obj_rand(model, X, good_cols, min_look_ahead=1, max_look_ahead=14,cases_predictor=None):\n",
    "    num_samples = 200\n",
    "    dummy = get_percentile_obj(model, X, good_cols, min_look_ahead=min_look_ahead, max_look_ahead=max_look_ahead,\n",
    "                              cases_predictor=cases_predictor)\n",
    "    freq = {}\n",
    "    output = {}\n",
    "    for key in dummy.keys():\n",
    "        freq[key] = {}\n",
    "        output[key] = {}\n",
    "        for fip in dummy[key].keys():\n",
    "            freq[key][fip] = [dummy[key][fip]]\n",
    "            output[key][fip] = {}\n",
    "    for i in tqdm(range(num_samples)):\n",
    "        dummy = get_percentile_obj(model, X, good_cols, min_look_ahead=min_look_ahead, max_look_ahead=max_look_ahead)\n",
    "        for key in dummy.keys():\n",
    "            for fip in dummy[key].keys():\n",
    "                freq[key][fip].append(dummy[key][fip])\n",
    "    for key in dummy.keys():\n",
    "        for fip in dummy[key].keys():\n",
    "            for percentile in range(10, 100, 10):\n",
    "                output[key][fip][percentile] = np.percentile(freq[key][fip], percentile, axis=0)\n",
    "    return output"
   ]
  },
  {
   "cell_type": "code",
   "execution_count": 190,
   "metadata": {},
   "outputs": [
    {
     "data": {
      "application/vnd.jupyter.widget-view+json": {
       "model_id": "1e53149873064f8cb7c5544798f7efb8",
       "version_major": 2,
       "version_minor": 0
      },
      "text/plain": [
       "HBox(children=(IntProgress(value=0, max=200), HTML(value='')))"
      ]
     },
     "metadata": {},
     "output_type": "display_data"
    },
    {
     "name": "stdout",
     "output_type": "stream",
     "text": [
      "\n"
     ]
    }
   ],
   "source": [
    "output = get_percentile_obj(ridge_model, df_true,good_cols, max_look_ahead=14,cases_predictor=normal_model_cases)\n",
    "output_rand = get_percentile_obj_rand(ridge_model, df_true, good_cols, max_look_ahead=14)"
   ]
  },
  {
   "cell_type": "code",
   "execution_count": 194,
   "metadata": {},
   "outputs": [
    {
     "data": {
      "text/plain": [
       "[<matplotlib.lines.Line2D at 0x7fa090b012e8>]"
      ]
     },
     "execution_count": 194,
     "metadata": {},
     "output_type": "execute_result"
    },
    {
     "data": {
      "image/png": "[encoded data removed]",
      "text/plain": [
       "<Figure size 432x288 with 1 Axes>"
      ]
     },
     "metadata": {
      "needs_background": "light"
     },
     "output_type": "display_data"
    }
   ],
   "source": [
    "fips = 53033\n",
    "y_50 = []\n",
    "y_10 = []\n",
    "y_90 = []\n",
    "for i in range(1,14):\n",
    "    y_50.append(output_rand[i][fips][50])\n",
    "    y_10.append(output_rand[i][fips][10])\n",
    "    y_90.append(output_rand[i][fips][90])\n",
    "\n",
    "t, ys = delta_death_counter.getY(fips)\n",
    "plt.plot(t,ys)\n",
    "plt.plot(t[-14] +  range(1,14),y_50)\n",
    "plt.plot(t[-14] +  range(1,14),y_90)\n",
    "plt.plot(t[-14] +  range(1,14),y_10)"
   ]
  },
  {
   "cell_type": "code",
   "execution_count": 149,
   "metadata": {},
   "outputs": [],
   "source": [
    "df_sample_sub = pd.read_csv(f\"{homedir}/sample_submission.csv\")\n",
    "df_sample_sub['fips'] = df_sample_sub['id'].map(lambda i : int(i[11:]))\n",
    "output_fips = df_sample_sub.fips.unique()\n",
    "def truncate(dec):\n",
    "    return int(100*dec)/100\n",
    "import datetime\n",
    "def write_percentiles(percentile_obj, file_name, look_back_time, look_ahead_time, prediction_limit, offset=0):\n",
    "    with open(file_name, mode='w') as file:\n",
    "        writer = csv.writer(file, delimiter=',', quotechar='\"', quoting=csv.QUOTE_MINIMAL)\n",
    "        writer.writerow(['id', '10', '20', '30', '40', '50', '60', '70', '80', '90'])\n",
    "\n",
    "        today = datetime.date.today() + datetime.timedelta(days=-offset);   \n",
    "        for i in range(-look_back_time, 0):\n",
    "            target_day = today + datetime.timedelta(days=i)\n",
    "            string_pre = target_day.strftime('%Y-%m-%d-')\n",
    "            for fips in output_fips:\n",
    "                print_lst = [string_pre + str(fips)]\n",
    "                try:\n",
    "                    X, y = delta_death_counter.getY(fips)\n",
    "                    y = y.values\n",
    "                    for j in range(9):\n",
    "                        print_lst.append(y[i-offset])\n",
    "                except:\n",
    "                    for j in range(9):\n",
    "                        print_lst.append(0)\n",
    "                writer.writerow(print_lst)\n",
    "        for delta_y in range(1, look_ahead_time):\n",
    "            target_day = today + datetime.timedelta(days=delta_y-1)\n",
    "            string_pre = target_day.strftime('%Y-%m-%d-')\n",
    "            if delta_y > prediction_limit:\n",
    "                for fips in output_fips:\n",
    "                    l = [string_pre + str(fips)]\n",
    "                    writer.writerow(l + [0] * 9)\n",
    "                continue\n",
    "            for fips in output_fips:\n",
    "                print_lst = [string_pre + str(fips)]\n",
    "                if fips in percentile_obj[delta_y].keys():\n",
    "                    for percentiles in range(10,100,10):\n",
    "                        datum = percentile_obj[delta_y][fips][percentiles]\n",
    "                        if datum < 0:\n",
    "                            datum = 0\n",
    "                        print_lst.append(truncate(datum))\n",
    "                else:\n",
    "                    for i in range(9):\n",
    "                        print_lst.append(0)\n",
    "                writer.writerow(print_lst)"
   ]
  },
  {
   "cell_type": "code",
   "execution_count": 196,
   "metadata": {},
   "outputs": [],
   "source": [
    "write_percentiles(output_rand, 'submission_test.csv', 54, 38, 14, offset=0)\n",
    "your_submission = pd.read_csv('submission_test.csv').set_index('id').sort_index()\n",
    "sample_submission = pd.read_csv(f\"{homedir}/sample_submission.csv\").set_index('id').sort_index()\n",
    "assert(your_submission.index.equals(sample_submission.index))"
   ]
  },
  {
   "cell_type": "markdown",
   "metadata": {},
   "source": [
    "# Submission 2"
   ]
  },
  {
   "cell_type": "code",
   "execution_count": null,
   "metadata": {},
   "outputs": [],
   "source": [
    "# Get a list of OLS trained models\n",
    "def train_models(fips_set, good_cols, min_look_ahead=1, max_look_ahead=14,offset=0):\n",
    "    models = []\n",
    "    for delta_y in range(min_look_ahead, max_look_ahead + 1):\n",
    "        X,y = get_XY_with_neighs(df_jhu_merged, features, delta_y, 5, delta_death_counter, fips_list=fips_set, moving_window=True,offset=offset)\n",
    "        X_train, X_test, y_train, y_test = train_test_split(X, y, test_size=0.33)\n",
    "        X_test = X_test[good_cols]\n",
    "        X_train = X_train[good_cols]\n",
    "        model = sm.OLS(y_train,X_train)\n",
    "        print(\"Training model to predict %d days in the future\" % delta_y)\n",
    "        result = model.fit()\n",
    "        print(\"R squared (out sample) is %f\" % (Rsquare(result.predict(X_test), y_test)))\n",
    "        models.append(result)\n",
    "    return  models"
   ]
  },
  {
   "cell_type": "code",
   "execution_count": null,
   "metadata": {},
   "outputs": [],
   "source": [
    "model_list = train_models(large_fips, good_cols,offset=0)"
   ]
  },
  {
   "cell_type": "code",
   "execution_count": null,
   "metadata": {},
   "outputs": [],
   "source": [
    "def get_param_info(models, min_look_ahead=1, max_look_ahead=14):\n",
    "    params_mu = {}\n",
    "    params_stderr = {}\n",
    "    for i in range(len(models)):\n",
    "        model = models[i]\n",
    "        params_mu[i + min_look_ahead] = model.params\n",
    "        params_stderr[i + min_look_ahead] = model.bse\n",
    "    return params_mu, params_stderr"
   ]
  },
  {
   "cell_type": "code",
   "execution_count": null,
   "metadata": {},
   "outputs": [],
   "source": [
    "param_mu, param_stderr = get_param_info(model_list)"
   ]
  },
  {
   "cell_type": "code",
   "execution_count": null,
   "metadata": {},
   "outputs": [],
   "source": [
    "df_true,_ =get_XY_with_neighs(df_jhu_merged, features, 0, 5, delta_death_counter, fips_list=large_fips, moving_window=False)\n",
    "X_true = df_true[good_cols +['fips']]\n",
    "X_true = X_true.set_index('fips')\n",
    "X_true.head()"
   ]
  },
  {
   "cell_type": "code",
   "execution_count": null,
   "metadata": {},
   "outputs": [],
   "source": [
    "def gen_percentiles(X, param_mu, param_stderr, fips_list, min_look_ahead=1, max_look_ahead=14):\n",
    "    output = {}\n",
    "    for i in range(min_look_ahead, max_look_ahead + 1):\n",
    "        n_samples = 400\n",
    "        fips_to_samples = {}\n",
    "        fips_to_percentiles = {}\n",
    "        for fips in X.index:\n",
    "            fips_to_samples[fips] = []\n",
    "            fips_to_percentiles[fips] = {}\n",
    "        for j in range(n_samples):\n",
    "            param_sample = np.random.normal(param_mu[i], param_stderr[i])\n",
    "            res = np.matmul(X.values, param_sample)\n",
    "            for k in range(len(X.index)):\n",
    "                fip = X.index[k]\n",
    "                fips_to_samples[fip].append(res[k])\n",
    "        for fips in X.index:\n",
    "            for percentile in range(10, 100, 10):\n",
    "                fips_to_percentiles[fips][percentile] = np.percentile(fips_to_samples[fips], percentile, axis=0)\n",
    "        output[i] = fips_to_percentiles\n",
    "    return output"
   ]
  },
  {
   "cell_type": "code",
   "execution_count": null,
   "metadata": {},
   "outputs": [],
   "source": [
    "percentiles = gen_percentiles(X_true, param_mu, param_stderr, large_fips, 1, 14)"
   ]
  },
  {
   "cell_type": "code",
   "execution_count": null,
   "metadata": {},
   "outputs": [],
   "source": [
    "write_percentiles(percentiles, 'submission_bob.csv', 39, 53, 14, offset=0)\n",
    "your_submission = pd.read_csv('submission.csv').set_index('id').sort_index()\n",
    "sample_submission = pd.read_csv(f\"{homedir}/sample_submission.csv\").set_index('id').sort_index()\n",
    "assert(your_submission.index.equals(sample_submission.index))"
   ]
  },
  {
   "cell_type": "markdown",
   "metadata": {},
   "source": [
    "## Some Sanity?"
   ]
  },
  {
   "cell_type": "code",
   "execution_count": null,
   "metadata": {},
   "outputs": [],
   "source": [
    "model_list_offset = train_models(large_fips, good_cols,offset=7)"
   ]
  },
  {
   "cell_type": "code",
   "execution_count": null,
   "metadata": {},
   "outputs": [],
   "source": [
    "param_mu, param_stderr = get_param_info(model_list_offset)"
   ]
  },
  {
   "cell_type": "code",
   "execution_count": null,
   "metadata": {},
   "outputs": [],
   "source": [
    "df_true,_ =get_XY_with_neighs(df_jhu_merged, features, 0, 5, delta_death_counter, fips_list=large_fips, moving_window=False,offset=7)\n",
    "X_true = df_true[good_cols+['fips']]\n",
    "X_true = X_true.set_index('fips')\n",
    "X_true.head()"
   ]
  },
  {
   "cell_type": "code",
   "execution_count": null,
   "metadata": {},
   "outputs": [],
   "source": [
    "percentiles_offset = gen_percentiles(X_true, param_mu, param_stderr, large_fips, 1, 14)"
   ]
  },
  {
   "cell_type": "code",
   "execution_count": null,
   "metadata": {},
   "outputs": [],
   "source": [
    "write_percentiles(percentiles, 'submission_offset.csv', 39, 53, 14, offset=0)"
   ]
  },
  {
   "cell_type": "code",
   "execution_count": null,
   "metadata": {},
   "outputs": [],
   "source": [
    "your_submission = pd.read_csv('submission_offset.csv').set_index('id').sort_index()\n",
    "sample_submission = pd.read_csv(f\"{homedir}/sample_submission.csv\").set_index('id').sort_index()\n",
    "assert(your_submission.index.equals(sample_submission.index))"
   ]
  },
  {
   "cell_type": "code",
   "execution_count": null,
   "metadata": {},
   "outputs": [],
   "source": [
    "percentiles_offset[14][36061][90]"
   ]
  },
  {
   "cell_type": "markdown",
   "metadata": {},
   "source": [
    "## Submission Using LGBM"
   ]
  },
  {
   "cell_type": "code",
   "execution_count": null,
   "metadata": {},
   "outputs": [],
   "source": [
    "print(good_cols)"
   ]
  },
  {
   "cell_type": "code",
   "execution_count": null,
   "metadata": {},
   "outputs": [],
   "source": [
    "# Get a list of OLS trained models\n",
    "def train_models(fips_set, good_cols, min_look_ahead=1, max_look_ahead=14,offset=0):\n",
    "    models = []\n",
    "    for delta_y in range(min_look_ahead, max_look_ahead + 1):\n",
    "        X,y = get_XY_with_neighs(df_jhu_merged, features, delta_y, 5, delta_death_counter, fips_list=large_fips, moving_window=False,offset=offset)\n",
    "        X_train, X_test, y_train, y_test = train_test_split(X, y, test_size=0.33)\n",
    "        X_test = X_test[good_cols]\n",
    "        X_train = X_train[good_cols]\n",
    "        gbm = lgb.LGBMRegressor(num_leaves=10,\n",
    "                        learning_rate=0.05,\n",
    "                        n_estimators=100);\n",
    "        print(\"Training model to predict %d days in the future\" % delta_y)\n",
    "        gbm.fit(X_train, y_train, verbose=False);\n",
    "        print(\"R squared (out sample) is %f\" % (gbm.score(X_test, y_test)))\n",
    "        models.append(gbm)\n",
    "    return  models"
   ]
  },
  {
   "cell_type": "code",
   "execution_count": null,
   "metadata": {},
   "outputs": [],
   "source": [
    "models = train_models(large_fips, good_cols, offset=5)"
   ]
  }
 ],
 "metadata": {
  "kernelspec": {
   "display_name": "Python 3",
   "language": "python",
   "name": "python3"
  },
  "language_info": {
   "codemirror_mode": {
    "name": "ipython",
    "version": 3
   },
   "file_extension": ".py",
   "mimetype": "text/x-python",
   "name": "python",
   "nbconvert_exporter": "python",
   "pygments_lexer": "ipython3",
   "version": "3.7.3"
  }
 },
 "nbformat": 4,
 "nbformat_minor": 2
}
