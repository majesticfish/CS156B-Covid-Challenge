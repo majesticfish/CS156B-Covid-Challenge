{
 "cells": [
  {
   "cell_type": "code",
   "execution_count": 97,
   "metadata": {},
   "outputs": [],
   "source": [
    "import numpy as np\n",
    "import pandas as pd\n",
    "import matplotlib.pyplot as plt\n",
    "import git\n",
    "import math\n",
    "import os\n",
    "import statsmodels.api as sm\n",
    "from sklearn.linear_model import LinearRegression, Ridge,Lasso\n",
    "from statsmodels.tsa.arima_model import ARIMA\n",
    "from statsmodels.tsa.stattools import pacf\n",
    "from pandas.plotting import autocorrelation_plot\n",
    "from datetime import datetime\n",
    "import numpy as np\n",
    "import pandas as pd\n",
    "from tqdm.auto import tqdm\n",
    "import lightgbm as lgb\n",
    "import statsmodels.tsa.stattools as ts\n",
    "\n",
    "from sklearn.metrics import mean_squared_error\n",
    "from sklearn.model_selection import GridSearchCV\n",
    "\n",
    "repo = git.Repo(\"./\", search_parent_directories=True)\n",
    "homedir = repo.working_dir"
   ]
  },
  {
   "cell_type": "code",
   "execution_count": 19,
   "metadata": {},
   "outputs": [],
   "source": [
    "df_jhu = pd.read_csv(f\"{homedir}/data/us/aggregate_jhu.csv\")\n",
    "# Get rid of the aggregate country data\n",
    "df_jhu = df_jhu.drop([0])\n",
    "df_jhu['FIPS'] = df_jhu['FIPS'].map(lambda f : str(f))\n",
    "def alter(fips):\n",
    "    if len(fips) == 4:\n",
    "        return '0' + fips\n",
    "    return fips\n",
    "df_jhu['FIPS'] = df_jhu['FIPS'].map(alter)\n",
    "df_jhu = df_jhu.set_index('FIPS')\n",
    "df_jhu['fips'] = df_jhu.index.map(lambda s : int(s))\n",
    "# fill out missing data\n",
    "df_jhu.at['02158', 'Area in square miles - Land area'] = 19673\n",
    "df_jhu.at['02158', 'Density per square mile of land area - Population'] = 0.44\n",
    "df_jhu.at['46102', 'Area in square miles - Land area'] = 2097\n",
    "df_jhu.at['46102', 'Density per square mile of land area - Population'] = 6.5"
   ]
  },
  {
   "cell_type": "code",
   "execution_count": 4,
   "metadata": {},
   "outputs": [],
   "source": [
    "features = ['State', 'Area_Name','POP_ESTIMATE_2018', 'Area in square miles - Land area', 'Density per square mile of land area - Population', 'Total_Male', 'Total_Female', 'Total_age0to17', \n",
    "            'Total_age18to64','Total_age65plus', 'Active Physicians per 100000 Population 2018 (AAMC)', 'Active General Surgeons per 100000 Population 2018 (AAMC)',\n",
    "           'Non-profit hospital beds per 1000 people (2019)', 'Employed_2018', 'Unemployment_rate_2018'\n",
    "           , 'Total hospital beds per 1000 people (2019)', 'Total nurse practitioners (2019)',\n",
    "           'Total Hospitals (2019)','fips']"
   ]
  },
  {
   "cell_type": "code",
   "execution_count": 5,
   "metadata": {},
   "outputs": [],
   "source": [
    "# gets list of all fips numbers\n",
    "def get_fips():\n",
    "    Y = pd.read_csv(f\"{homedir}/data/us/covid/deaths.csv\")\n",
    "    return set(Y.countyFIPS.values)\n",
    "def get_date(datestr, formatstr='%Y-%m-%d'):\n",
    "    return datetime.strptime(datestr, formatstr)"
   ]
  },
  {
   "cell_type": "code",
   "execution_count": 189,
   "metadata": {},
   "outputs": [],
   "source": [
    "class CumDeathCounter():\n",
    "    def __init__(self):\n",
    "        self.cum_deaths = pd.read_csv(f\"{homedir}/data/us/covid/deaths.csv\")\n",
    "        self.cum_deaths = self.cum_deaths.iloc[1:]\n",
    "        fips_list = self.cum_deaths.countyFIPS.values\n",
    "        \n",
    "        self.cache = {}\n",
    "        for fips in fips_list:\n",
    "            self.cache[fips] = self.get_cum_deaths(fips)\n",
    "    def get_cum_deaths(self, fips, clip_zeros=False):\n",
    "        idx = self.cum_deaths.index[self.cum_deaths['countyFIPS'] == fips].values[0]\n",
    "        county_deaths = self.cum_deaths.loc[self.cum_deaths['countyFIPS'] == fips]\n",
    "        dates = pd.to_datetime(county_deaths.columns[4:].values).map(lambda dt : str(dt))\n",
    "        X = np.array([(get_date(d[:10]) - get_date('2020-01-01')).days for d in dates])\n",
    "        y = []\n",
    "        for i in range(4, len(county_deaths.columns)):\n",
    "            y.append(county_deaths.loc[idx,county_deaths.columns[i]])\n",
    "        if not clip_zeros:\n",
    "            return X, y\n",
    "        for i in range(len(y)):\n",
    "            if y[i] != 0:\n",
    "                return X[i:], y[i:]\n",
    "    def getY(self, fips):\n",
    "        return self.cache[fips]\n",
    "class CumCaseCounter():\n",
    "    def __init__(self):\n",
    "        self.cum_cases = pd.read_csv(f\"{homedir}/data/us/covid/confirmed_cases.csv\")\n",
    "        self.cum_cases = self.cum_cases.iloc[1:]\n",
    "        self.cum_cases = self.cum_cases.iloc[:, :-1]\n",
    "        \n",
    "        fips_list = self.cum_cases.countyFIPS.values\n",
    "        \n",
    "        self.cache = {}\n",
    "        for fips in fips_list:\n",
    "            self.cache[fips] = self.get_cum_cases(fips)\n",
    "        \n",
    "    def get_cum_cases(self, fips,clip_zeros=False):\n",
    "        idx = self.cum_cases.index[self.cum_cases['countyFIPS'] == fips].values[0]\n",
    "        county_cases = self.cum_cases.loc[self.cum_cases['countyFIPS'] == fips]\n",
    "        dates = pd.to_datetime(county_cases.columns[4:].values).map(lambda dt : str(dt))\n",
    "        X = np.array([(get_date(d[:10]) - get_date('2020-01-01')).days for d in dates])\n",
    "        y = []\n",
    "        for i in range(4, len(county_cases.columns)):\n",
    "            y.append(county_cases.loc[idx,county_cases.columns[i]])\n",
    "        if not clip_zeros:\n",
    "            return X, y\n",
    "        for i in range(len(y)):\n",
    "            if y[i] != 0:\n",
    "                return X[i:], y[i:]\n",
    "    def getY(self, fips):\n",
    "        return self.cache[fips]\n",
    "    \n",
    "class DeltaCounter:\n",
    "    def __init__(self, counter):\n",
    "        self.counter = counter\n",
    "    def getY(self, fips):\n",
    "        X, y = self.counter.getY(fips)\n",
    "        y_true = [y[0]]\n",
    "        for i in range(1, len(y)):\n",
    "            y_true.append(y[i] - y[i-1])\n",
    "        return X, y_true\n",
    "class RatioCounter:\n",
    "    def __init__(self, counter):\n",
    "        self.counter = counter\n",
    "    def getY(self, state, avg_period=5):\n",
    "        X_raw, y_raw = self.counter.getY(state)\n",
    "        y = []\n",
    "        running_sum = 0.0\n",
    "        running_time = 0\n",
    "        for i in range(len(X_raw)):\n",
    "            if y_raw[i] == 0:\n",
    "                y.append(0)\n",
    "            elif running_sum == 0:\n",
    "                y.append(1) # if this is the first case we define the signal as 1\n",
    "            else:\n",
    "                avg = running_sum/running_time\n",
    "                y.append(y_raw[i]/avg)\n",
    "            if running_time == avg_period:\n",
    "                running_sum = running_sum + y_raw[i] - y_raw[i - avg_period]\n",
    "            else:\n",
    "                running_sum = running_sum + y_raw[i]\n",
    "                running_time = running_time + 1    \n",
    "            if running_sum == 0:\n",
    "                running_time = 1\n",
    "        return (X_raw, np.array(y))\n",
    "class MobilityCounter:\n",
    "    def __init__(self, states=False):\n",
    "        data_dir = f'{homedir}/data/us/mobility'\n",
    "        df = pd.read_csv(os.path.join(data_dir, 'DL-us-mobility-daterow.csv'))\n",
    "        counties = df[df['admin_level'] == 2]\n",
    "        self.fips_list = np.unique(counties.fips.map(lambda f: int(f)))\n",
    "        self.data = {}\n",
    "        \n",
    "        for fips in fips_list:\n",
    "            data_dir = f'{homedir}/data/us/mobility'\n",
    "            df = pd.read_csv(os.path.join(data_dir, 'DL-us-mobility-daterow.csv'))\n",
    "            counties = df[df['admin_level'] == 2]\n",
    "            counties['fips'] = counties['fips'].map(lambda f: int(f))\n",
    "            county_data = counties[counties['fips'] == 36061]\n",
    "            county_data['date'] = county_data['date'].map(lambda l: (get_date(l) - get_date('2020-01-01')).days)\n",
    "            self.data[fips] = county_data['date'], county_data['m50']\n",
    "    def getY(self, fips):\n",
    "        if fips not in self.fips_list:\n",
    "            raise ValueError('No Mobility data for this fips')\n",
    "        return self.data[fips]"
   ]
  },
  {
   "cell_type": "code",
   "execution_count": 190,
   "metadata": {},
   "outputs": [],
   "source": [
    "cum_death_counter = CumDeathCounter()\n",
    "cum_case_counter = CumCaseCounter()\n",
    "delta_death_counter = DeltaCounter(cum_death_counter)\n",
    "delta_case_counter = DeltaCounter(cum_case_counter)\n",
    "delta_death_ratio_counter = RatioCounter(delta_death_counter)\n",
    "delta_case_ratio_counter = RatioCounter(delta_case_counter)"
   ]
  },
  {
   "cell_type": "code",
   "execution_count": 191,
   "metadata": {},
   "outputs": [
    {
     "ename": "NameError",
     "evalue": "name 'fips_list' is not defined",
     "output_type": "error",
     "traceback": [
      "\u001b[0;31m---------------------------------------------------------------------------\u001b[0m",
      "\u001b[0;31mNameError\u001b[0m                                 Traceback (most recent call last)",
      "\u001b[0;32m<ipython-input-191-21f796053342>\u001b[0m in \u001b[0;36m<module>\u001b[0;34m\u001b[0m\n\u001b[0;32m----> 1\u001b[0;31m \u001b[0mmobility_counter\u001b[0m \u001b[0;34m=\u001b[0m \u001b[0mMobilityCounter\u001b[0m\u001b[0;34m(\u001b[0m\u001b[0;34m)\u001b[0m\u001b[0;34m\u001b[0m\u001b[0;34m\u001b[0m\u001b[0m\n\u001b[0m",
      "\u001b[0;32m<ipython-input-189-4bd1265ce5c3>\u001b[0m in \u001b[0;36m__init__\u001b[0;34m(self, states)\u001b[0m\n\u001b[1;32m     92\u001b[0m         \u001b[0mself\u001b[0m\u001b[0;34m.\u001b[0m\u001b[0mdata\u001b[0m \u001b[0;34m=\u001b[0m \u001b[0;34m{\u001b[0m\u001b[0;34m}\u001b[0m\u001b[0;34m\u001b[0m\u001b[0;34m\u001b[0m\u001b[0m\n\u001b[1;32m     93\u001b[0m \u001b[0;34m\u001b[0m\u001b[0m\n\u001b[0;32m---> 94\u001b[0;31m         \u001b[0;32mfor\u001b[0m \u001b[0mfips\u001b[0m \u001b[0;32min\u001b[0m \u001b[0mfips_list\u001b[0m\u001b[0;34m:\u001b[0m\u001b[0;34m\u001b[0m\u001b[0;34m\u001b[0m\u001b[0m\n\u001b[0m\u001b[1;32m     95\u001b[0m             \u001b[0mdata_dir\u001b[0m \u001b[0;34m=\u001b[0m \u001b[0;34mf'{homedir}/data/us/mobility'\u001b[0m\u001b[0;34m\u001b[0m\u001b[0;34m\u001b[0m\u001b[0m\n\u001b[1;32m     96\u001b[0m             \u001b[0mdf\u001b[0m \u001b[0;34m=\u001b[0m \u001b[0mpd\u001b[0m\u001b[0;34m.\u001b[0m\u001b[0mread_csv\u001b[0m\u001b[0;34m(\u001b[0m\u001b[0mos\u001b[0m\u001b[0;34m.\u001b[0m\u001b[0mpath\u001b[0m\u001b[0;34m.\u001b[0m\u001b[0mjoin\u001b[0m\u001b[0;34m(\u001b[0m\u001b[0mdata_dir\u001b[0m\u001b[0;34m,\u001b[0m \u001b[0;34m'DL-us-mobility-daterow.csv'\u001b[0m\u001b[0;34m)\u001b[0m\u001b[0;34m)\u001b[0m\u001b[0;34m\u001b[0m\u001b[0;34m\u001b[0m\u001b[0m\n",
      "\u001b[0;31mNameError\u001b[0m: name 'fips_list' is not defined"
     ]
    }
   ],
   "source": [
    "mobility_counter = MobilityCounter()"
   ]
  },
  {
   "cell_type": "code",
   "execution_count": 62,
   "metadata": {},
   "outputs": [],
   "source": [
    "def split_fips(counter, min_thresh=10):\n",
    "    fips_list = get_fips()\n",
    "    large_fips = []\n",
    "    small_fips = []\n",
    "    for fips in fips_list:\n",
    "        X,y = counter.getY(fips)\n",
    "        if y[-1] > min_thresh:\n",
    "            large_fips.append(fips)\n",
    "        else:\n",
    "            small_fips.append(fips)\n",
    "    return large_fips, small_fips\n",
    "df_jhu_states = df_jhu[df_jhu.fips % 1000 == 0]\n",
    "\n",
    "def state_to_fip(state_abr):\n",
    "    # Converts state abbreviation to FIPS code\n",
    "    return df_jhu_states.fips[df_jhu_states.State == state_abr].values[0]"
   ]
  },
  {
   "cell_type": "code",
   "execution_count": 71,
   "metadata": {},
   "outputs": [
    {
     "name": "stdout",
     "output_type": "stream",
     "text": [
      "AS\n",
      "GU\n",
      "MP\n",
      "VI\n",
      "date                        0\n",
      "state                       0\n",
      "fips                        0\n",
      "positive                    0\n",
      "negative                  140\n",
      "hospitalizedCurrently    1960\n",
      "inIcuCurrently           2523\n",
      "onVentilatorCurrently    2628\n",
      "recovered                2160\n",
      "dtype: int64\n"
     ]
    },
    {
     "data": {
      "text/html": [
       "<div>\n",
       "<style scoped>\n",
       "    .dataframe tbody tr th:only-of-type {\n",
       "        vertical-align: middle;\n",
       "    }\n",
       "\n",
       "    .dataframe tbody tr th {\n",
       "        vertical-align: top;\n",
       "    }\n",
       "\n",
       "    .dataframe thead th {\n",
       "        text-align: right;\n",
       "    }\n",
       "</style>\n",
       "<table border=\"1\" class=\"dataframe\">\n",
       "  <thead>\n",
       "    <tr style=\"text-align: right;\">\n",
       "      <th></th>\n",
       "      <th>date</th>\n",
       "      <th>state</th>\n",
       "      <th>fips</th>\n",
       "      <th>positive</th>\n",
       "      <th>negative</th>\n",
       "      <th>hospitalizedCurrently</th>\n",
       "      <th>inIcuCurrently</th>\n",
       "      <th>onVentilatorCurrently</th>\n",
       "      <th>recovered</th>\n",
       "    </tr>\n",
       "  </thead>\n",
       "  <tbody>\n",
       "    <tr>\n",
       "      <th>0</th>\n",
       "      <td>20200502</td>\n",
       "      <td>AK</td>\n",
       "      <td>2002</td>\n",
       "      <td>365.0</td>\n",
       "      <td>21034.0</td>\n",
       "      <td>10.0</td>\n",
       "      <td>NaN</td>\n",
       "      <td>NaN</td>\n",
       "      <td>261.0</td>\n",
       "    </tr>\n",
       "    <tr>\n",
       "      <th>1</th>\n",
       "      <td>20200502</td>\n",
       "      <td>AL</td>\n",
       "      <td>1001</td>\n",
       "      <td>7434.0</td>\n",
       "      <td>84775.0</td>\n",
       "      <td>NaN</td>\n",
       "      <td>NaN</td>\n",
       "      <td>NaN</td>\n",
       "      <td>NaN</td>\n",
       "    </tr>\n",
       "    <tr>\n",
       "      <th>2</th>\n",
       "      <td>20200502</td>\n",
       "      <td>AR</td>\n",
       "      <td>5005</td>\n",
       "      <td>3372.0</td>\n",
       "      <td>48210.0</td>\n",
       "      <td>95.0</td>\n",
       "      <td>NaN</td>\n",
       "      <td>20.0</td>\n",
       "      <td>1987.0</td>\n",
       "    </tr>\n",
       "    <tr>\n",
       "      <th>4</th>\n",
       "      <td>20200502</td>\n",
       "      <td>AZ</td>\n",
       "      <td>4004</td>\n",
       "      <td>8364.0</td>\n",
       "      <td>69633.0</td>\n",
       "      <td>718.0</td>\n",
       "      <td>291.0</td>\n",
       "      <td>198.0</td>\n",
       "      <td>1565.0</td>\n",
       "    </tr>\n",
       "    <tr>\n",
       "      <th>5</th>\n",
       "      <td>20200502</td>\n",
       "      <td>CA</td>\n",
       "      <td>6006</td>\n",
       "      <td>52197.0</td>\n",
       "      <td>634606.0</td>\n",
       "      <td>4722.0</td>\n",
       "      <td>1433.0</td>\n",
       "      <td>NaN</td>\n",
       "      <td>NaN</td>\n",
       "    </tr>\n",
       "  </tbody>\n",
       "</table>\n",
       "</div>"
      ],
      "text/plain": [
       "       date state  fips  positive  negative  hospitalizedCurrently  \\\n",
       "0  20200502    AK  2002     365.0   21034.0                   10.0   \n",
       "1  20200502    AL  1001    7434.0   84775.0                    NaN   \n",
       "2  20200502    AR  5005    3372.0   48210.0                   95.0   \n",
       "4  20200502    AZ  4004    8364.0   69633.0                  718.0   \n",
       "5  20200502    CA  6006   52197.0  634606.0                 4722.0   \n",
       "\n",
       "   inIcuCurrently  onVentilatorCurrently  recovered  \n",
       "0             NaN                    NaN      261.0  \n",
       "1             NaN                    NaN        NaN  \n",
       "2             NaN                   20.0     1987.0  \n",
       "4           291.0                  198.0     1565.0  \n",
       "5          1433.0                    NaN        NaN  "
      ]
     },
     "execution_count": 71,
     "metadata": {},
     "output_type": "execute_result"
    }
   ],
   "source": [
    "df_tests = pd.read_csv(f\"{homedir}/data/us/covid/daily_state_tests.csv\")\n",
    "useful_cols = ['date', 'state', 'fips', 'positive','negative',\n",
    "               'hospitalizedCurrently','inIcuCurrently','onVentilatorCurrently','recovered']\n",
    "good_states = []\n",
    "for state in df_tests['state'].unique():\n",
    "    try:\n",
    "        state_to_fip(state)\n",
    "        good_states.append(state)\n",
    "    except:\n",
    "        print(state)\n",
    "df_tests = df_tests.iloc[np.where(df_tests.state.map(lambda state : state in good_states))]\n",
    "df_tests['state_fips'] = df_tests['state'].map(state_to_fip)\n",
    "df_tests['fips'] = df_tests['state_fips'] + df_tests['fips']\n",
    "df_tests = df_tests[useful_cols]\n",
    "print(np.sum(df_tests.isna()))\n",
    "df_tests.head()"
   ]
  },
  {
   "cell_type": "code",
   "execution_count": 144,
   "metadata": {},
   "outputs": [],
   "source": [
    "def get_XY(features, delta_y, look_back_y, y_generator, fips_list=get_fips(), moving_window=True):\n",
    "    df = df_jhu[features]\n",
    "    df = df[df.fips % 1000 != 0] # remove aggregate states\n",
    "    df = df[df.State != 'PR']   # peurto rico has some weird data...\n",
    "    df = df[df.POP_ESTIMATE_2018 > 1000] # restrict to large counties since getting lots of data is difficult\n",
    "    df['cases'] = df['fips'].map(lambda fip: 0)\n",
    "\n",
    "    col_names = []\n",
    "    for i in range(look_back_y):\n",
    "        col_name = \"y at t = -%d\" %i\n",
    "        col_names.append(col_name)\n",
    "        df[col_name] = np.zeros(n)\n",
    "    X = []\n",
    "    Y = []\n",
    "    for fips in tqdm(df.index):\n",
    "        if int(fips) not in fips_list:\n",
    "            continue\n",
    "        base = df.loc[fips].values\n",
    "        _, cum_cases = cum_case_counter.getY(int(fips))\n",
    "        try:\n",
    "            t, ys = y_generator.getY(int(fips))\n",
    "        except KeyError:\n",
    "            continue\n",
    "        if len(ys) == 0:\n",
    "            X.append(base)\n",
    "            Y.append(0)\n",
    "            continue\n",
    "        for j in range(-1, -len(ys), -1):\n",
    "            base = df.loc[fips].values\n",
    "            if j - delta_y >= -len(cum_cases):\n",
    "                base[-look_back_y - 1] = cum_cases[j - delta_y]\n",
    "            Y.append(ys[j])\n",
    "            for i in range(look_back_y):\n",
    "                if j - delta_y - i >= -len(ys):\n",
    "                    base[-look_back_y + i] = ys[j - delta_y - i]\n",
    "            X.append(base)\n",
    "            if not moving_window:\n",
    "                break\n",
    "    df_new = pd.DataFrame(X, columns = df.columns)\n",
    "    df_new['target'] = Y\n",
    "    return df_new\n",
    "\n",
    "def Rsquare(pred, actual):   \n",
    "    return np.corrcoef(pred, actual)[0,1]**2"
   ]
  },
  {
   "cell_type": "code",
   "execution_count": 145,
   "metadata": {},
   "outputs": [
    {
     "data": {
      "application/vnd.jupyter.widget-view+json": {
       "model_id": "8aaff388a0e04de09c2b172d7745a0b7",
       "version_major": 2,
       "version_minor": 0
      },
      "text/plain": [
       "HBox(children=(IntProgress(value=0, max=3106), HTML(value='')))"
      ]
     },
     "metadata": {},
     "output_type": "display_data"
    }
   ],
   "source": [
    "df_new = get_XY(features, 5, 5, delta_death_counter, moving_window=False)"
   ]
  },
  {
   "cell_type": "code",
   "execution_count": 106,
   "metadata": {},
   "outputs": [],
   "source": [
    "X = df_new.iloc[:,2:-1]\n",
    "y = df_new['target'].values\n",
    "train_num = int(y.shape[0] * 0.66)\n",
    "\n",
    "X_test = X.iloc[train_num:]\n",
    "y_test = y[train_num:]\n",
    "X_train = X.iloc[:train_num]\n",
    "y_train = y[:train_num]"
   ]
  },
  {
   "cell_type": "code",
   "execution_count": 107,
   "metadata": {},
   "outputs": [
    {
     "name": "stdout",
     "output_type": "stream",
     "text": [
      "R^2 (in sample): 0.928208\n",
      "R^2 (in sample): 0.142167\n"
     ]
    }
   ],
   "source": [
    "normal_model = LinearRegression().fit(X_train.values, y_train)\n",
    "print(\"R^2 (in sample): %f\" % normal_model.score(X_train,y_train))\n",
    "print(\"R^2 (in sample): %f\" % normal_model.score(X_test,y_test))"
   ]
  },
  {
   "cell_type": "code",
   "execution_count": 123,
   "metadata": {},
   "outputs": [
    {
     "name": "stdout",
     "output_type": "stream",
     "text": [
      "R^2 (in sample): 0.928121\n",
      "R^2 (in sample): 0.145038\n"
     ]
    }
   ],
   "source": [
    "ridge_model = Ridge(alpha=200)\n",
    "ridge_model.fit(X_train.values, y_train)\n",
    "print(\"R^2 (in sample): %f\" % ridge_model.score(X_train,y_train))\n",
    "print(\"R^2 (in sample): %f\" % ridge_model.score(X_test,y_test))"
   ]
  },
  {
   "cell_type": "code",
   "execution_count": 121,
   "metadata": {},
   "outputs": [
    {
     "name": "stdout",
     "output_type": "stream",
     "text": [
      "R^2 (in sample): 0.927479\n",
      "R^2 (in sample): 0.149700\n"
     ]
    },
    {
     "name": "stderr",
     "output_type": "stream",
     "text": [
      "/home/sean/anaconda3/lib/python3.7/site-packages/ipykernel_launcher.py:2: UserWarning: With alpha=0, this algorithm does not converge well. You are advised to use the LinearRegression estimator\n",
      "  \n",
      "/home/sean/anaconda3/lib/python3.7/site-packages/sklearn/linear_model/_coordinate_descent.py:476: UserWarning: Coordinate descent with no regularization may lead to unexpected results and is discouraged.\n",
      "  positive)\n",
      "/home/sean/anaconda3/lib/python3.7/site-packages/sklearn/linear_model/_coordinate_descent.py:476: ConvergenceWarning: Objective did not converge. You might want to increase the number of iterations. Duality gap: 1832.327438890261, tolerance: 5.053206246949733\n",
      "  positive)\n"
     ]
    }
   ],
   "source": [
    "lasso_model = Lasso(alpha=0)\n",
    "lasso_model.fit(X_train.values, y_train)\n",
    "print(\"R^2 (in sample): %f\" % lasso_model.score(X_train,y_train))\n",
    "print(\"R^2 (in sample): %f\" % lasso_model.score(X_test,y_test))"
   ]
  },
  {
   "cell_type": "code",
   "execution_count": 127,
   "metadata": {},
   "outputs": [
    {
     "name": "stdout",
     "output_type": "stream",
     "text": [
      "[1]\tvalid_0's l2: 1.29079\n",
      "Training until validation scores don't improve for 20 rounds\n",
      "[2]\tvalid_0's l2: 1.2209\n",
      "[3]\tvalid_0's l2: 1.16359\n",
      "[4]\tvalid_0's l2: 1.11534\n",
      "[5]\tvalid_0's l2: 1.08123\n",
      "[6]\tvalid_0's l2: 1.03714\n",
      "[7]\tvalid_0's l2: 0.998859\n",
      "[8]\tvalid_0's l2: 0.985461\n",
      "[9]\tvalid_0's l2: 0.963344\n",
      "[10]\tvalid_0's l2: 0.954531\n",
      "[11]\tvalid_0's l2: 0.93526\n",
      "[12]\tvalid_0's l2: 0.917562\n",
      "[13]\tvalid_0's l2: 0.907525\n",
      "[14]\tvalid_0's l2: 0.88527\n",
      "[15]\tvalid_0's l2: 0.870591\n",
      "[16]\tvalid_0's l2: 0.865042\n",
      "[17]\tvalid_0's l2: 0.846859\n",
      "[18]\tvalid_0's l2: 0.855047\n",
      "[19]\tvalid_0's l2: 0.856647\n",
      "[20]\tvalid_0's l2: 0.853776\n",
      "[21]\tvalid_0's l2: 0.844075\n",
      "[22]\tvalid_0's l2: 0.840073\n",
      "[23]\tvalid_0's l2: 0.848938\n",
      "[24]\tvalid_0's l2: 0.847332\n",
      "[25]\tvalid_0's l2: 0.84862\n",
      "[26]\tvalid_0's l2: 0.868584\n",
      "[27]\tvalid_0's l2: 0.865241\n",
      "[28]\tvalid_0's l2: 0.862191\n",
      "[29]\tvalid_0's l2: 0.88552\n",
      "[30]\tvalid_0's l2: 0.881107\n",
      "[31]\tvalid_0's l2: 0.907316\n",
      "[32]\tvalid_0's l2: 0.90394\n",
      "[33]\tvalid_0's l2: 0.932096\n",
      "[34]\tvalid_0's l2: 0.928402\n",
      "[35]\tvalid_0's l2: 0.92973\n",
      "[36]\tvalid_0's l2: 0.956841\n",
      "[37]\tvalid_0's l2: 0.948843\n",
      "[38]\tvalid_0's l2: 0.947767\n",
      "[39]\tvalid_0's l2: 0.975713\n",
      "[40]\tvalid_0's l2: 0.970532\n",
      "[41]\tvalid_0's l2: 0.96578\n",
      "[42]\tvalid_0's l2: 0.993165\n",
      "Early stopping, best iteration is:\n",
      "[22]\tvalid_0's l2: 0.840073\n",
      "R squared (in sample) is 0.750672\n",
      "R squared (out sample) is 0.280559\n"
     ]
    },
    {
     "data": {
      "text/plain": [
       "<matplotlib.collections.PathCollection at 0x7f4a5d8144a8>"
      ]
     },
     "execution_count": 127,
     "metadata": {},
     "output_type": "execute_result"
    },
    {
     "data": {
      "image/png": "[encoded data removed]",
      "text/plain": [
       "<Figure size 432x288 with 1 Axes>"
      ]
     },
     "metadata": {
      "needs_background": "light"
     },
     "output_type": "display_data"
    }
   ],
   "source": [
    "gbm = lgb.LGBMRegressor(num_leaves=5,\n",
    "                        learning_rate=0.05,\n",
    "                        n_estimators=250);\n",
    "gbm.fit(X_train, y_train,\n",
    "        eval_set=[(X_test, y_test)],\n",
    "        eval_metric='l2',\n",
    "        early_stopping_rounds=20);\n",
    "pred_train = gbm.predict(X_train, num_iteration=gbm.best_iteration_)\n",
    "print(\"R squared (in sample) is %f\" % Rsquare(pred_train, y_train))\n",
    "pred_test = gbm.predict(X_test, num_iteration=gbm.best_iteration_)\n",
    "print(\"R squared (out sample) is %f\" % Rsquare(pred_test, y_test))\n",
    "plt.scatter(pred_test, y_test)"
   ]
  },
  {
   "cell_type": "markdown",
   "metadata": {},
   "source": [
    "## Splitting"
   ]
  },
  {
   "cell_type": "code",
   "execution_count": 150,
   "metadata": {},
   "outputs": [
    {
     "data": {
      "application/vnd.jupyter.widget-view+json": {
       "model_id": "e7a6b22ade9a4e60b2a75ad4b92c92d2",
       "version_major": 2,
       "version_minor": 0
      },
      "text/plain": [
       "HBox(children=(IntProgress(value=0, max=3106), HTML(value='')))"
      ]
     },
     "metadata": {},
     "output_type": "display_data"
    }
   ],
   "source": [
    "large_fips, small_fips = split_fips(cum_death_counter,min_thresh=50)\n",
    "df_new = get_XY(features, 5, 5, delta_death_counter, fips_list=large_fips, moving_window=True)"
   ]
  },
  {
   "cell_type": "code",
   "execution_count": 151,
   "metadata": {},
   "outputs": [
    {
     "data": {
      "text/plain": [
       "(array([1.3916e+04, 1.0100e+02, 1.3000e+01, 3.0000e+00, 3.0000e+00,\n",
       "        1.0000e+00, 0.0000e+00, 0.0000e+00, 1.0000e+00, 1.0000e+00]),\n",
       " array([ -35. ,   70.7,  176.4,  282.1,  387.8,  493.5,  599.2,  704.9,\n",
       "         810.6,  916.3, 1022. ]),\n",
       " <a list of 10 Patch objects>)"
      ]
     },
     "execution_count": 151,
     "metadata": {},
     "output_type": "execute_result"
    },
    {
     "data": {
      "image/png": "[encoded data removed]",
      "text/plain": [
       "<Figure size 432x288 with 1 Axes>"
      ]
     },
     "metadata": {
      "needs_background": "light"
     },
     "output_type": "display_data"
    }
   ],
   "source": [
    "X = df_new.iloc[:,2:-1]\n",
    "y = df_new['target'].values\n",
    "train_num = int(y.shape[0] * 0.66)\n",
    "\n",
    "X_test = X.iloc[train_num:]\n",
    "y_test = y[train_num:]\n",
    "X_train = X.iloc[:train_num]\n",
    "y_train = y[:train_num]\n",
    "plt.hist(y)"
   ]
  },
  {
   "cell_type": "code",
   "execution_count": 156,
   "metadata": {},
   "outputs": [
    {
     "name": "stdout",
     "output_type": "stream",
     "text": [
      "Ordinary Least Squares\n",
      "R^2 (in sample): 0.645696\n",
      "R^2 (in sample): 0.369324\n",
      "Ridge Model\n",
      "R^2 (in sample): 0.645537\n",
      "R^2 (in sample): 0.369886\n",
      "Lasso Model\n",
      "R^2 (in sample): 0.643375\n",
      "R^2 (in sample): 0.373100\n"
     ]
    },
    {
     "name": "stderr",
     "output_type": "stream",
     "text": [
      "/home/sean/anaconda3/lib/python3.7/site-packages/sklearn/linear_model/_coordinate_descent.py:476: ConvergenceWarning: Objective did not converge. You might want to increase the number of iterations. Duality gap: 144476.26143820083, tolerance: 77.37248069077172\n",
      "  positive)\n"
     ]
    }
   ],
   "source": [
    "normal_model = LinearRegression().fit(X_train.values, y_train)\n",
    "print(\"Ordinary Least Squares\")\n",
    "print(\"R^2 (in sample): %f\" % normal_model.score(X_train,y_train))\n",
    "print(\"R^2 (in sample): %f\" % normal_model.score(X_test,y_test))\n",
    "ridge_model = Ridge(alpha=2000)\n",
    "ridge_model.fit(X_train.values, y_train)\n",
    "print(\"Ridge Model\")\n",
    "print(\"R^2 (in sample): %f\" % ridge_model.score(X_train,y_train))\n",
    "print(\"R^2 (in sample): %f\" % ridge_model.score(X_test,y_test))\n",
    "lasso_model = Lasso(alpha=1)\n",
    "lasso_model.fit(X_train.values, y_train)\n",
    "print(\"Lasso Model\")\n",
    "print(\"R^2 (in sample): %f\" % lasso_model.score(X_train,y_train))\n",
    "print(\"R^2 (in sample): %f\" % lasso_model.score(X_test,y_test))"
   ]
  },
  {
   "cell_type": "code",
   "execution_count": 161,
   "metadata": {},
   "outputs": [
    {
     "name": "stdout",
     "output_type": "stream",
     "text": [
      "[1]\tvalid_0's l2: 947.201\n",
      "Training until validation scores don't improve for 120 rounds\n",
      "[2]\tvalid_0's l2: 931.971\n",
      "[3]\tvalid_0's l2: 917.123\n",
      "[4]\tvalid_0's l2: 903.618\n",
      "[5]\tvalid_0's l2: 891.253\n",
      "[6]\tvalid_0's l2: 879.487\n",
      "[7]\tvalid_0's l2: 868.763\n",
      "[8]\tvalid_0's l2: 857.312\n",
      "[9]\tvalid_0's l2: 848.12\n",
      "[10]\tvalid_0's l2: 839.611\n",
      "[11]\tvalid_0's l2: 831.25\n",
      "[12]\tvalid_0's l2: 822.147\n",
      "[13]\tvalid_0's l2: 813.772\n",
      "[14]\tvalid_0's l2: 804.724\n",
      "[15]\tvalid_0's l2: 797.801\n",
      "[16]\tvalid_0's l2: 790.036\n",
      "[17]\tvalid_0's l2: 782.643\n",
      "[18]\tvalid_0's l2: 775.172\n",
      "[19]\tvalid_0's l2: 769.31\n",
      "[20]\tvalid_0's l2: 763.221\n",
      "[21]\tvalid_0's l2: 756.244\n",
      "[22]\tvalid_0's l2: 751.792\n",
      "[23]\tvalid_0's l2: 747.752\n",
      "[24]\tvalid_0's l2: 742.306\n",
      "[25]\tvalid_0's l2: 736.531\n",
      "[26]\tvalid_0's l2: 732.859\n",
      "[27]\tvalid_0's l2: 728.911\n",
      "[28]\tvalid_0's l2: 725.674\n",
      "[29]\tvalid_0's l2: 722.734\n",
      "[30]\tvalid_0's l2: 718.144\n",
      "[31]\tvalid_0's l2: 715.279\n",
      "[32]\tvalid_0's l2: 712.678\n",
      "[33]\tvalid_0's l2: 709.287\n",
      "[34]\tvalid_0's l2: 706.056\n",
      "[35]\tvalid_0's l2: 703.706\n",
      "[36]\tvalid_0's l2: 700.205\n",
      "[37]\tvalid_0's l2: 698.038\n",
      "[38]\tvalid_0's l2: 694.849\n",
      "[39]\tvalid_0's l2: 692.5\n",
      "[40]\tvalid_0's l2: 690.077\n",
      "[41]\tvalid_0's l2: 688.351\n",
      "[42]\tvalid_0's l2: 685.568\n",
      "[43]\tvalid_0's l2: 683.501\n",
      "[44]\tvalid_0's l2: 682.109\n",
      "[45]\tvalid_0's l2: 680.333\n",
      "[46]\tvalid_0's l2: 678.469\n",
      "[47]\tvalid_0's l2: 678.593\n",
      "[48]\tvalid_0's l2: 676.262\n",
      "[49]\tvalid_0's l2: 675.409\n",
      "[50]\tvalid_0's l2: 674.628\n",
      "[51]\tvalid_0's l2: 672.546\n",
      "[52]\tvalid_0's l2: 671.867\n",
      "[53]\tvalid_0's l2: 670.497\n",
      "[54]\tvalid_0's l2: 668.588\n",
      "[55]\tvalid_0's l2: 667.531\n",
      "[56]\tvalid_0's l2: 667.863\n",
      "[57]\tvalid_0's l2: 666.256\n",
      "[58]\tvalid_0's l2: 664.631\n",
      "[59]\tvalid_0's l2: 663.64\n",
      "[60]\tvalid_0's l2: 662.799\n",
      "[61]\tvalid_0's l2: 661.641\n",
      "[62]\tvalid_0's l2: 662.105\n",
      "[63]\tvalid_0's l2: 661.968\n",
      "[64]\tvalid_0's l2: 660.745\n",
      "[65]\tvalid_0's l2: 659.99\n",
      "[66]\tvalid_0's l2: 659.332\n",
      "[67]\tvalid_0's l2: 658.743\n",
      "[68]\tvalid_0's l2: 658.065\n",
      "[69]\tvalid_0's l2: 657.103\n",
      "[70]\tvalid_0's l2: 656.533\n",
      "[71]\tvalid_0's l2: 656.668\n",
      "[72]\tvalid_0's l2: 655.655\n",
      "[73]\tvalid_0's l2: 655.217\n",
      "[74]\tvalid_0's l2: 654.88\n",
      "[75]\tvalid_0's l2: 653.941\n",
      "[76]\tvalid_0's l2: 653.522\n",
      "[77]\tvalid_0's l2: 653.67\n",
      "[78]\tvalid_0's l2: 652.974\n",
      "[79]\tvalid_0's l2: 652.243\n",
      "[80]\tvalid_0's l2: 651.801\n",
      "[81]\tvalid_0's l2: 650.595\n",
      "[82]\tvalid_0's l2: 649.944\n",
      "[83]\tvalid_0's l2: 649.286\n",
      "[84]\tvalid_0's l2: 649.499\n",
      "[85]\tvalid_0's l2: 649.867\n",
      "[86]\tvalid_0's l2: 649.492\n",
      "[87]\tvalid_0's l2: 649.684\n",
      "[88]\tvalid_0's l2: 649.364\n",
      "[89]\tvalid_0's l2: 649.311\n",
      "[90]\tvalid_0's l2: 649.632\n",
      "[91]\tvalid_0's l2: 649.135\n",
      "[92]\tvalid_0's l2: 649.091\n",
      "[93]\tvalid_0's l2: 649.258\n",
      "[94]\tvalid_0's l2: 649.559\n",
      "[95]\tvalid_0's l2: 648.445\n",
      "[96]\tvalid_0's l2: 647.963\n",
      "[97]\tvalid_0's l2: 648.133\n",
      "[98]\tvalid_0's l2: 648.153\n",
      "[99]\tvalid_0's l2: 647.87\n",
      "[100]\tvalid_0's l2: 647.717\n",
      "[101]\tvalid_0's l2: 648.004\n",
      "[102]\tvalid_0's l2: 648.162\n",
      "[103]\tvalid_0's l2: 648.754\n",
      "[104]\tvalid_0's l2: 648.318\n",
      "[105]\tvalid_0's l2: 648.435\n",
      "[106]\tvalid_0's l2: 648.48\n",
      "[107]\tvalid_0's l2: 649.042\n",
      "[108]\tvalid_0's l2: 649.351\n",
      "[109]\tvalid_0's l2: 649.884\n",
      "[110]\tvalid_0's l2: 649.684\n",
      "[111]\tvalid_0's l2: 649.993\n",
      "[112]\tvalid_0's l2: 650.349\n",
      "[113]\tvalid_0's l2: 650.059\n",
      "[114]\tvalid_0's l2: 650.652\n",
      "[115]\tvalid_0's l2: 650.367\n",
      "[116]\tvalid_0's l2: 649.591\n",
      "[117]\tvalid_0's l2: 649.892\n",
      "[118]\tvalid_0's l2: 649.915\n",
      "[119]\tvalid_0's l2: 649.506\n",
      "[120]\tvalid_0's l2: 649.572\n",
      "[121]\tvalid_0's l2: 649.741\n",
      "[122]\tvalid_0's l2: 650.622\n",
      "[123]\tvalid_0's l2: 650.25\n",
      "[124]\tvalid_0's l2: 650.5\n",
      "[125]\tvalid_0's l2: 650.242\n",
      "[126]\tvalid_0's l2: 650\n",
      "[127]\tvalid_0's l2: 650.123\n",
      "[128]\tvalid_0's l2: 650.325\n",
      "[129]\tvalid_0's l2: 650.616\n",
      "[130]\tvalid_0's l2: 651.457\n",
      "[131]\tvalid_0's l2: 651.231\n",
      "[132]\tvalid_0's l2: 650.973\n",
      "[133]\tvalid_0's l2: 650.671\n",
      "[134]\tvalid_0's l2: 650.915\n",
      "[135]\tvalid_0's l2: 651.8\n",
      "[136]\tvalid_0's l2: 652.448\n",
      "[137]\tvalid_0's l2: 652.703\n",
      "[138]\tvalid_0's l2: 652.508\n",
      "[139]\tvalid_0's l2: 652.247\n",
      "[140]\tvalid_0's l2: 653.142\n",
      "[141]\tvalid_0's l2: 653.402\n",
      "[142]\tvalid_0's l2: 653.233\n",
      "[143]\tvalid_0's l2: 653.335\n",
      "[144]\tvalid_0's l2: 653.635\n",
      "[145]\tvalid_0's l2: 653.989\n",
      "[146]\tvalid_0's l2: 655.087\n",
      "[147]\tvalid_0's l2: 654.867\n",
      "[148]\tvalid_0's l2: 654.701\n",
      "[149]\tvalid_0's l2: 654.81\n",
      "[150]\tvalid_0's l2: 654.598\n",
      "[151]\tvalid_0's l2: 654.763\n",
      "[152]\tvalid_0's l2: 654.623\n",
      "[153]\tvalid_0's l2: 654.407\n",
      "[154]\tvalid_0's l2: 654.687\n",
      "[155]\tvalid_0's l2: 655.026\n",
      "[156]\tvalid_0's l2: 654.811\n",
      "[157]\tvalid_0's l2: 655.486\n",
      "[158]\tvalid_0's l2: 655.3\n",
      "[159]\tvalid_0's l2: 655.095\n",
      "[160]\tvalid_0's l2: 654.969\n",
      "[161]\tvalid_0's l2: 655.37\n",
      "[162]\tvalid_0's l2: 655.163\n",
      "[163]\tvalid_0's l2: 655.048\n",
      "[164]\tvalid_0's l2: 654.845\n",
      "[165]\tvalid_0's l2: 655.463\n",
      "[166]\tvalid_0's l2: 655.092\n",
      "[167]\tvalid_0's l2: 655.285\n",
      "[168]\tvalid_0's l2: 654.949\n",
      "[169]\tvalid_0's l2: 654.674\n",
      "[170]\tvalid_0's l2: 654.584\n",
      "[171]\tvalid_0's l2: 654.905\n",
      "[172]\tvalid_0's l2: 654.716\n",
      "[173]\tvalid_0's l2: 654.51\n",
      "[174]\tvalid_0's l2: 654.774\n",
      "[175]\tvalid_0's l2: 655.086\n",
      "[176]\tvalid_0's l2: 654.897\n",
      "[177]\tvalid_0's l2: 655.166\n",
      "[178]\tvalid_0's l2: 654.989\n",
      "[179]\tvalid_0's l2: 654.681\n",
      "[180]\tvalid_0's l2: 654.403\n",
      "[181]\tvalid_0's l2: 654.123\n",
      "[182]\tvalid_0's l2: 653.483\n",
      "[183]\tvalid_0's l2: 653.743\n",
      "[184]\tvalid_0's l2: 654.02\n",
      "[185]\tvalid_0's l2: 654.674\n",
      "[186]\tvalid_0's l2: 654.498\n",
      "[187]\tvalid_0's l2: 654.753\n",
      "[188]\tvalid_0's l2: 655.188\n",
      "[189]\tvalid_0's l2: 654.949\n",
      "[190]\tvalid_0's l2: 654.698\n",
      "[191]\tvalid_0's l2: 654.552\n",
      "[192]\tvalid_0's l2: 654.638\n",
      "[193]\tvalid_0's l2: 654.756\n",
      "[194]\tvalid_0's l2: 655.018\n",
      "[195]\tvalid_0's l2: 654.585\n",
      "[196]\tvalid_0's l2: 654.508\n",
      "[197]\tvalid_0's l2: 654.781\n",
      "[198]\tvalid_0's l2: 655.038\n",
      "[199]\tvalid_0's l2: 654.999\n",
      "[200]\tvalid_0's l2: 654.404\n",
      "[201]\tvalid_0's l2: 654.492\n",
      "[202]\tvalid_0's l2: 654.433\n",
      "[203]\tvalid_0's l2: 654.841\n",
      "[204]\tvalid_0's l2: 655.462\n",
      "[205]\tvalid_0's l2: 655.848\n",
      "[206]\tvalid_0's l2: 655.423\n",
      "[207]\tvalid_0's l2: 655.383\n",
      "[208]\tvalid_0's l2: 655.076\n",
      "[209]\tvalid_0's l2: 655.11\n",
      "[210]\tvalid_0's l2: 654.457\n",
      "[211]\tvalid_0's l2: 655.052\n",
      "[212]\tvalid_0's l2: 654.779\n",
      "[213]\tvalid_0's l2: 654.74\n",
      "[214]\tvalid_0's l2: 655.016\n",
      "[215]\tvalid_0's l2: 655.273\n",
      "[216]\tvalid_0's l2: 655.616\n",
      "[217]\tvalid_0's l2: 654.571\n",
      "[218]\tvalid_0's l2: 653.931\n",
      "[219]\tvalid_0's l2: 654.2\n",
      "[220]\tvalid_0's l2: 653.576\n",
      "Early stopping, best iteration is:\n",
      "[100]\tvalid_0's l2: 647.717\n",
      "R squared (in sample) is 0.732453\n",
      "R squared (out sample) is 0.402399\n"
     ]
    },
    {
     "data": {
      "text/plain": [
       "<matplotlib.collections.PathCollection at 0x7f4a5d2e06a0>"
      ]
     },
     "execution_count": 161,
     "metadata": {},
     "output_type": "execute_result"
    },
    {
     "data": {
      "image/png": "[encoded data removed]",
      "text/plain": [
       "<Figure size 432x288 with 1 Axes>"
      ]
     },
     "metadata": {
      "needs_background": "light"
     },
     "output_type": "display_data"
    }
   ],
   "source": [
    "gbm = lgb.LGBMRegressor(num_leaves=5,\n",
    "                        learning_rate=0.05,\n",
    "                        n_estimators=250);\n",
    "gbm.fit(X_train, y_train,\n",
    "        eval_set=[(X_test, y_test)],\n",
    "        eval_metric='l2',\n",
    "        early_stopping_rounds=120);\n",
    "pred_train = gbm.predict(X_train, num_iteration=gbm.best_iteration_)\n",
    "print(\"R squared (in sample) is %f\" % Rsquare(pred_train, y_train))\n",
    "pred_test = gbm.predict(X_test, num_iteration=gbm.best_iteration_)\n",
    "print(\"R squared (out sample) is %f\" % Rsquare(pred_test, y_test))\n",
    "plt.scatter(pred_test, y_test)"
   ]
  },
  {
   "cell_type": "code",
   "execution_count": 162,
   "metadata": {},
   "outputs": [
    {
     "data": {
      "text/plain": [
       "<matplotlib.axes._subplots.AxesSubplot at 0x7f4a5d1e84e0>"
      ]
     },
     "execution_count": 162,
     "metadata": {},
     "output_type": "execute_result"
    },
    {
     "data": {
      "image/png": "[encoded data removed]",
      "text/plain": [
       "<Figure size 432x288 with 1 Axes>"
      ]
     },
     "metadata": {
      "needs_background": "light"
     },
     "output_type": "display_data"
    }
   ],
   "source": [
    "lgb.plot_importance(gbm)"
   ]
  },
  {
   "cell_type": "code",
   "execution_count": 165,
   "metadata": {},
   "outputs": [],
   "source": [
    "import_feat = ['y at t = -2','cases','y at t = -0','Density per square mile of land area - Population','Active Physicians per 100000 Population 2018 (AAMC)']"
   ]
  },
  {
   "cell_type": "code",
   "execution_count": null,
   "metadata": {},
   "outputs": [],
   "source": []
  }
 ],
 "metadata": {
  "kernelspec": {
   "display_name": "Python 3",
   "language": "python",
   "name": "python3"
  },
  "language_info": {
   "codemirror_mode": {
    "name": "ipython",
    "version": 3
   },
   "file_extension": ".py",
   "mimetype": "text/x-python",
   "name": "python",
   "nbconvert_exporter": "python",
   "pygments_lexer": "ipython3",
   "version": "3.7.3"
  }
 },
 "nbformat": 4,
 "nbformat_minor": 2
}
