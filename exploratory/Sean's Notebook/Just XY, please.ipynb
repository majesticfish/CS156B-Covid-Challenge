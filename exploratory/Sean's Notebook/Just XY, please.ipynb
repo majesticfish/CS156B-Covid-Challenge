{
 "cells": [
  {
   "cell_type": "code",
   "execution_count": 384,
   "metadata": {},
   "outputs": [],
   "source": [
    "import numpy as np\n",
    "import pandas as pd\n",
    "import matplotlib.pyplot as plt\n",
    "import git\n",
    "import math\n",
    "import os\n",
    "import random\n",
    "import csv\n",
    "import json\n",
    "from sklearn import neighbors\n",
    "from sklearn.model_selection import train_test_split\n",
    "import statsmodels.api as sm\n",
    "from sklearn.linear_model import LinearRegression, Ridge,Lasso\n",
    "from sklearn.feature_selection import RFE\n",
    "from statsmodels.tsa.arima_model import ARIMA\n",
    "from statsmodels.tsa.stattools import pacf\n",
    "from pandas.plotting import autocorrelation_plot\n",
    "from datetime import datetime\n",
    "from urllib.request import urlopen\n",
    "import numpy as np\n",
    "import pandas as pd\n",
    "from tqdm.auto import tqdm\n",
    "import lightgbm as lgb\n",
    "import statsmodels.tsa.stattools as ts\n",
    "from lib import *\n",
    "from sklearn.metrics import mean_squared_error\n",
    "from sklearn.model_selection import GridSearchCV\n",
    "\n",
    "repo = git.Repo(\"./\", search_parent_directories=True)\n",
    "homedir = repo.working_dir"
   ]
  },
  {
   "cell_type": "code",
   "execution_count": 2,
   "metadata": {},
   "outputs": [
    {
     "data": {
      "text/html": [
       "<div>\n",
       "<style scoped>\n",
       "    .dataframe tbody tr th:only-of-type {\n",
       "        vertical-align: middle;\n",
       "    }\n",
       "\n",
       "    .dataframe tbody tr th {\n",
       "        vertical-align: top;\n",
       "    }\n",
       "\n",
       "    .dataframe thead th {\n",
       "        text-align: right;\n",
       "    }\n",
       "</style>\n",
       "<table border=\"1\" class=\"dataframe\">\n",
       "  <thead>\n",
       "    <tr style=\"text-align: right;\">\n",
       "      <th></th>\n",
       "      <th>pclon10</th>\n",
       "      <th>pclat10</th>\n",
       "      <th>fips</th>\n",
       "    </tr>\n",
       "  </thead>\n",
       "  <tbody>\n",
       "    <tr>\n",
       "      <th>0</th>\n",
       "      <td>-86.494165</td>\n",
       "      <td>32.500389</td>\n",
       "      <td>1001</td>\n",
       "    </tr>\n",
       "    <tr>\n",
       "      <th>1</th>\n",
       "      <td>-87.762381</td>\n",
       "      <td>30.548923</td>\n",
       "      <td>1003</td>\n",
       "    </tr>\n",
       "    <tr>\n",
       "      <th>2</th>\n",
       "      <td>-85.310038</td>\n",
       "      <td>31.844036</td>\n",
       "      <td>1005</td>\n",
       "    </tr>\n",
       "    <tr>\n",
       "      <th>3</th>\n",
       "      <td>-87.127659</td>\n",
       "      <td>33.030921</td>\n",
       "      <td>1007</td>\n",
       "    </tr>\n",
       "    <tr>\n",
       "      <th>4</th>\n",
       "      <td>-86.591491</td>\n",
       "      <td>33.955243</td>\n",
       "      <td>1009</td>\n",
       "    </tr>\n",
       "  </tbody>\n",
       "</table>\n",
       "</div>"
      ],
      "text/plain": [
       "     pclon10    pclat10  fips\n",
       "0 -86.494165  32.500389  1001\n",
       "1 -87.762381  30.548923  1003\n",
       "2 -85.310038  31.844036  1005\n",
       "3 -87.127659  33.030921  1007\n",
       "4 -86.591491  33.955243  1009"
      ]
     },
     "execution_count": 2,
     "metadata": {},
     "output_type": "execute_result"
    }
   ],
   "source": [
    "df_jhu = pd.read_csv(f\"{homedir}/data/us/aggregate_jhu.csv\")\n",
    "# Get rid of the aggregate country data\n",
    "df_jhu = df_jhu.drop([0])\n",
    "df_jhu['FIPS'] = df_jhu['FIPS'].map(lambda f : str(f))\n",
    "def alter(fips):\n",
    "    if len(fips) == 4:\n",
    "        return '0' + fips\n",
    "    return fips\n",
    "df_jhu['FIPS'] = df_jhu['FIPS'].map(alter)\n",
    "df_jhu = df_jhu.set_index('FIPS')\n",
    "df_jhu['fips'] = df_jhu.index.map(lambda s : int(s))\n",
    "# fill out missing data\n",
    "df_jhu.at['02158', 'Area in square miles - Land area'] = 19673\n",
    "df_jhu.at['02158', 'Density per square mile of land area - Population'] = 0.44\n",
    "df_jhu.at['46102', 'Area in square miles - Land area'] = 2097\n",
    "df_jhu.at['46102', 'Density per square mile of land area - Population'] = 6.5\n",
    "\n",
    "with urlopen('https://raw.githubusercontent.com/plotly/datasets/master/geojson-counties-fips.json') as response:\n",
    "    counties = json.load(response)\n",
    "repo = git.Repo(\"./\", search_parent_directories=True)\n",
    "home_dir = repo.working_dir\n",
    "county_centers = pd.read_csv(home_dir+'/data/us/geolocation/county_centers.csv')\n",
    "objective_df = pd.read_csv(home_dir +'/data/us/covid/nyt_us_counties_daily.csv') # Use the non-cumulative results\n",
    "county_centers = county_centers[['pclon10', 'pclat10', 'fips']]\n",
    "county_centers.head()"
   ]
  },
  {
   "cell_type": "code",
   "execution_count": 3,
   "metadata": {},
   "outputs": [
    {
     "name": "stdout",
     "output_type": "stream",
     "text": [
      "(3272, 334)\n"
     ]
    },
    {
     "data": {
      "text/html": [
       "<div>\n",
       "<style scoped>\n",
       "    .dataframe tbody tr th:only-of-type {\n",
       "        vertical-align: middle;\n",
       "    }\n",
       "\n",
       "    .dataframe tbody tr th {\n",
       "        vertical-align: top;\n",
       "    }\n",
       "\n",
       "    .dataframe thead th {\n",
       "        text-align: right;\n",
       "    }\n",
       "</style>\n",
       "<table border=\"1\" class=\"dataframe\">\n",
       "  <thead>\n",
       "    <tr style=\"text-align: right;\">\n",
       "      <th></th>\n",
       "      <th>State</th>\n",
       "      <th>Area_Name</th>\n",
       "      <th>Rural-urban_Continuum Code_2013</th>\n",
       "      <th>Urban_Influence_Code_2013</th>\n",
       "      <th>Economic_typology_2015</th>\n",
       "      <th>POP_ESTIMATE_2018</th>\n",
       "      <th>N_POP_CHG_2018</th>\n",
       "      <th>Births_2018</th>\n",
       "      <th>Deaths_2018</th>\n",
       "      <th>NATURAL_INC_2018</th>\n",
       "      <th>...</th>\n",
       "      <th>Radiology specialists (2019)</th>\n",
       "      <th>Cardiology specialists (2019)</th>\n",
       "      <th>Oncology (Cancer) specialists (2019)</th>\n",
       "      <th>Endocrinology Diabetes and Metabolism specialists (2019)</th>\n",
       "      <th>All Other Specialties specialists (2019)</th>\n",
       "      <th>Total Specialist Physicians (2019)</th>\n",
       "      <th>transit_scores - population weighted averages aggregated from town/city level to county</th>\n",
       "      <th>fips</th>\n",
       "      <th>pclon10</th>\n",
       "      <th>pclat10</th>\n",
       "    </tr>\n",
       "    <tr>\n",
       "      <th>FIPS</th>\n",
       "      <th></th>\n",
       "      <th></th>\n",
       "      <th></th>\n",
       "      <th></th>\n",
       "      <th></th>\n",
       "      <th></th>\n",
       "      <th></th>\n",
       "      <th></th>\n",
       "      <th></th>\n",
       "      <th></th>\n",
       "      <th></th>\n",
       "      <th></th>\n",
       "      <th></th>\n",
       "      <th></th>\n",
       "      <th></th>\n",
       "      <th></th>\n",
       "      <th></th>\n",
       "      <th></th>\n",
       "      <th></th>\n",
       "      <th></th>\n",
       "      <th></th>\n",
       "    </tr>\n",
       "  </thead>\n",
       "  <tbody>\n",
       "    <tr>\n",
       "      <th>1001</th>\n",
       "      <td>AL</td>\n",
       "      <td>Autauga County</td>\n",
       "      <td>2.0</td>\n",
       "      <td>2.0</td>\n",
       "      <td>0.0</td>\n",
       "      <td>55601</td>\n",
       "      <td>158.0</td>\n",
       "      <td>655.0</td>\n",
       "      <td>532.0</td>\n",
       "      <td>123.0</td>\n",
       "      <td>...</td>\n",
       "      <td>7.666952</td>\n",
       "      <td>4.663873</td>\n",
       "      <td>2.741447</td>\n",
       "      <td>0.807646</td>\n",
       "      <td>29.791911</td>\n",
       "      <td>72.142154</td>\n",
       "      <td>0.0</td>\n",
       "      <td>1001</td>\n",
       "      <td>-86.494165</td>\n",
       "      <td>32.500389</td>\n",
       "    </tr>\n",
       "    <tr>\n",
       "      <th>1003</th>\n",
       "      <td>AL</td>\n",
       "      <td>Baldwin County</td>\n",
       "      <td>3.0</td>\n",
       "      <td>2.0</td>\n",
       "      <td>5.0</td>\n",
       "      <td>218022</td>\n",
       "      <td>5403.0</td>\n",
       "      <td>2254.0</td>\n",
       "      <td>2228.0</td>\n",
       "      <td>26.0</td>\n",
       "      <td>...</td>\n",
       "      <td>30.063565</td>\n",
       "      <td>18.287925</td>\n",
       "      <td>10.749732</td>\n",
       "      <td>3.166933</td>\n",
       "      <td>116.819699</td>\n",
       "      <td>282.882982</td>\n",
       "      <td>368329051.0</td>\n",
       "      <td>1003</td>\n",
       "      <td>-87.762381</td>\n",
       "      <td>30.548923</td>\n",
       "    </tr>\n",
       "    <tr>\n",
       "      <th>1005</th>\n",
       "      <td>AL</td>\n",
       "      <td>Barbour County</td>\n",
       "      <td>6.0</td>\n",
       "      <td>6.0</td>\n",
       "      <td>3.0</td>\n",
       "      <td>24881</td>\n",
       "      <td>-277.0</td>\n",
       "      <td>261.0</td>\n",
       "      <td>324.0</td>\n",
       "      <td>-63.0</td>\n",
       "      <td>...</td>\n",
       "      <td>3.430899</td>\n",
       "      <td>2.087046</td>\n",
       "      <td>1.226776</td>\n",
       "      <td>0.361415</td>\n",
       "      <td>13.331641</td>\n",
       "      <td>32.283033</td>\n",
       "      <td>0.0</td>\n",
       "      <td>1005</td>\n",
       "      <td>-85.310038</td>\n",
       "      <td>31.844036</td>\n",
       "    </tr>\n",
       "    <tr>\n",
       "      <th>1007</th>\n",
       "      <td>AL</td>\n",
       "      <td>Bibb County</td>\n",
       "      <td>1.0</td>\n",
       "      <td>1.0</td>\n",
       "      <td>0.0</td>\n",
       "      <td>22400</td>\n",
       "      <td>-155.0</td>\n",
       "      <td>250.0</td>\n",
       "      <td>256.0</td>\n",
       "      <td>-6.0</td>\n",
       "      <td>...</td>\n",
       "      <td>3.088789</td>\n",
       "      <td>1.878937</td>\n",
       "      <td>1.104448</td>\n",
       "      <td>0.325377</td>\n",
       "      <td>12.002281</td>\n",
       "      <td>29.063942</td>\n",
       "      <td>158361697.0</td>\n",
       "      <td>1007</td>\n",
       "      <td>-87.127659</td>\n",
       "      <td>33.030921</td>\n",
       "    </tr>\n",
       "    <tr>\n",
       "      <th>1009</th>\n",
       "      <td>AL</td>\n",
       "      <td>Blount County</td>\n",
       "      <td>1.0</td>\n",
       "      <td>1.0</td>\n",
       "      <td>0.0</td>\n",
       "      <td>57840</td>\n",
       "      <td>13.0</td>\n",
       "      <td>681.0</td>\n",
       "      <td>662.0</td>\n",
       "      <td>19.0</td>\n",
       "      <td>...</td>\n",
       "      <td>7.975693</td>\n",
       "      <td>4.851683</td>\n",
       "      <td>2.851843</td>\n",
       "      <td>0.840169</td>\n",
       "      <td>30.991603</td>\n",
       "      <td>75.047251</td>\n",
       "      <td>0.0</td>\n",
       "      <td>1009</td>\n",
       "      <td>-86.591491</td>\n",
       "      <td>33.955243</td>\n",
       "    </tr>\n",
       "  </tbody>\n",
       "</table>\n",
       "<p>5 rows × 336 columns</p>\n",
       "</div>"
      ],
      "text/plain": [
       "     State       Area_Name  Rural-urban_Continuum Code_2013  \\\n",
       "FIPS                                                          \n",
       "1001    AL  Autauga County                              2.0   \n",
       "1003    AL  Baldwin County                              3.0   \n",
       "1005    AL  Barbour County                              6.0   \n",
       "1007    AL     Bibb County                              1.0   \n",
       "1009    AL   Blount County                              1.0   \n",
       "\n",
       "      Urban_Influence_Code_2013  Economic_typology_2015  POP_ESTIMATE_2018  \\\n",
       "FIPS                                                                         \n",
       "1001                        2.0                     0.0              55601   \n",
       "1003                        2.0                     5.0             218022   \n",
       "1005                        6.0                     3.0              24881   \n",
       "1007                        1.0                     0.0              22400   \n",
       "1009                        1.0                     0.0              57840   \n",
       "\n",
       "      N_POP_CHG_2018  Births_2018  Deaths_2018  NATURAL_INC_2018  ...  \\\n",
       "FIPS                                                              ...   \n",
       "1001           158.0        655.0        532.0             123.0  ...   \n",
       "1003          5403.0       2254.0       2228.0              26.0  ...   \n",
       "1005          -277.0        261.0        324.0             -63.0  ...   \n",
       "1007          -155.0        250.0        256.0              -6.0  ...   \n",
       "1009            13.0        681.0        662.0              19.0  ...   \n",
       "\n",
       "      Radiology specialists (2019)  Cardiology specialists (2019)  \\\n",
       "FIPS                                                                \n",
       "1001                      7.666952                       4.663873   \n",
       "1003                     30.063565                      18.287925   \n",
       "1005                      3.430899                       2.087046   \n",
       "1007                      3.088789                       1.878937   \n",
       "1009                      7.975693                       4.851683   \n",
       "\n",
       "      Oncology (Cancer) specialists (2019)  \\\n",
       "FIPS                                         \n",
       "1001                              2.741447   \n",
       "1003                             10.749732   \n",
       "1005                              1.226776   \n",
       "1007                              1.104448   \n",
       "1009                              2.851843   \n",
       "\n",
       "      Endocrinology Diabetes and Metabolism specialists (2019)  \\\n",
       "FIPS                                                             \n",
       "1001                                           0.807646          \n",
       "1003                                           3.166933          \n",
       "1005                                           0.361415          \n",
       "1007                                           0.325377          \n",
       "1009                                           0.840169          \n",
       "\n",
       "      All Other Specialties specialists (2019)  \\\n",
       "FIPS                                             \n",
       "1001                                 29.791911   \n",
       "1003                                116.819699   \n",
       "1005                                 13.331641   \n",
       "1007                                 12.002281   \n",
       "1009                                 30.991603   \n",
       "\n",
       "      Total Specialist Physicians (2019)  \\\n",
       "FIPS                                       \n",
       "1001                           72.142154   \n",
       "1003                          282.882982   \n",
       "1005                           32.283033   \n",
       "1007                           29.063942   \n",
       "1009                           75.047251   \n",
       "\n",
       "      transit_scores - population weighted averages aggregated from town/city level to county  \\\n",
       "FIPS                                                                                            \n",
       "1001                                                0.0                                         \n",
       "1003                                        368329051.0                                         \n",
       "1005                                                0.0                                         \n",
       "1007                                        158361697.0                                         \n",
       "1009                                                0.0                                         \n",
       "\n",
       "      fips    pclon10    pclat10  \n",
       "FIPS                              \n",
       "1001  1001 -86.494165  32.500389  \n",
       "1003  1003 -87.762381  30.548923  \n",
       "1005  1005 -85.310038  31.844036  \n",
       "1007  1007 -87.127659  33.030921  \n",
       "1009  1009 -86.591491  33.955243  \n",
       "\n",
       "[5 rows x 336 columns]"
      ]
     },
     "execution_count": 3,
     "metadata": {},
     "output_type": "execute_result"
    }
   ],
   "source": [
    "df_jhu_merged = df_jhu.merge(county_centers, how = 'left', on='fips')\n",
    "print(df_jhu.shape)\n",
    "df_jhu_merged['FIPS'] = df_jhu_merged['fips']\n",
    "df_jhu_merged = df_jhu_merged.set_index('FIPS')\n",
    "df_jhu_merged_states = df_jhu_merged[df_jhu_merged.fips % 1000 != 0]\n",
    "df_jhu_merged_states.head()"
   ]
  },
  {
   "cell_type": "code",
   "execution_count": 4,
   "metadata": {},
   "outputs": [],
   "source": [
    "features = ['State', 'Area_Name','POP_ESTIMATE_2018', 'Area in square miles - Land area', 'Density per square mile of land area - Population', 'Total_Male', 'Total_Female', 'Total_age0to17', \n",
    "            'Total_age18to64','Total_age65plus', 'Active Physicians per 100000 Population 2018 (AAMC)', 'Active General Surgeons per 100000 Population 2018 (AAMC)',\n",
    "           'Non-profit hospital beds per 1000 people (2019)', 'Employed_2018', 'Unemployment_rate_2018'\n",
    "           , 'Total hospital beds per 1000 people (2019)', 'Total nurse practitioners (2019)',\n",
    "           'Total Hospitals (2019)','fips','pclon10', 'pclat10']"
   ]
  },
  {
   "cell_type": "code",
   "execution_count": 5,
   "metadata": {},
   "outputs": [],
   "source": [
    "cum_death_counter = CumDeathCounter()\n",
    "cum_case_counter = CumCaseCounter()\n",
    "delta_death_counter = DeltaCounter(cum_death_counter)\n",
    "delta_case_counter = DeltaCounter(cum_case_counter)\n",
    "delta_death_ratio_counter = RatioCounter(delta_death_counter)\n",
    "delta_case_ratio_counter = RatioCounter(delta_case_counter)"
   ]
  },
  {
   "cell_type": "code",
   "execution_count": 6,
   "metadata": {},
   "outputs": [
    {
     "name": "stderr",
     "output_type": "stream",
     "text": [
      "/home/sean/Dropbox/MyDocuments/Programming/CS156B/CS156B-Covid-Challenge/exploratory/Sean's Notebook/lib.py:132: SettingWithCopyWarning: \n",
      "A value is trying to be set on a copy of a slice from a DataFrame.\n",
      "Try using .loc[row_indexer,col_indexer] = value instead\n",
      "\n",
      "See the caveats in the documentation: http://pandas.pydata.org/pandas-docs/stable/indexing.html#indexing-view-versus-copy\n",
      "  counties['fips'] = counties['fips'].map(lambda f: int(f))\n"
     ]
    },
    {
     "data": {
      "application/vnd.jupyter.widget-view+json": {
       "model_id": "9bf14b4505f245cfbd3bfe19c951d71b",
       "version_major": 2,
       "version_minor": 0
      },
      "text/plain": [
       "HBox(children=(IntProgress(value=0, max=2670), HTML(value='')))"
      ]
     },
     "metadata": {},
     "output_type": "display_data"
    },
    {
     "name": "stderr",
     "output_type": "stream",
     "text": [
      "/home/sean/Dropbox/MyDocuments/Programming/CS156B/CS156B-Covid-Challenge/exploratory/Sean's Notebook/lib.py:138: SettingWithCopyWarning: \n",
      "A value is trying to be set on a copy of a slice from a DataFrame.\n",
      "Try using .loc[row_indexer,col_indexer] = value instead\n",
      "\n",
      "See the caveats in the documentation: http://pandas.pydata.org/pandas-docs/stable/indexing.html#indexing-view-versus-copy\n",
      "  county_data['date'] = county_data['date'].map(lambda l: (get_date(l) - get_date('2020-01-01')).days)\n"
     ]
    },
    {
     "name": "stdout",
     "output_type": "stream",
     "text": [
      "\n"
     ]
    }
   ],
   "source": [
    "mobility_counter = MobilityCounter()"
   ]
  },
  {
   "cell_type": "code",
   "execution_count": 7,
   "metadata": {},
   "outputs": [],
   "source": [
    "def split_fips(counter, min_thresh=10):\n",
    "    fips_list = get_fips()\n",
    "    large_fips = []\n",
    "    small_fips = []\n",
    "    for fips in fips_list:\n",
    "        X,y = counter.getY(fips)\n",
    "        if y[-1] > min_thresh:\n",
    "            large_fips.append(fips)\n",
    "        else:\n",
    "            small_fips.append(fips)\n",
    "    return large_fips, small_fips\n",
    "df_jhu_states = df_jhu[df_jhu.fips % 1000 == 0]\n",
    " \n",
    "def state_to_fip(state_abr):\n",
    "    # Converts state abbreviation to FIPS code\n",
    "    return df_jhu_states.fips[df_jhu_states.State == state_abr].values[0]"
   ]
  },
  {
   "cell_type": "code",
   "execution_count": 234,
   "metadata": {},
   "outputs": [],
   "source": [
    "def get_XY(df, features, delta_y, look_back_y, y_generator, fips_list=get_fips(), moving_window=True):\n",
    "    df = df[features]\n",
    "    df = df[df.fips % 1000 != 0] # remove aggregate states\n",
    "    df = df[df.State != 'PR']   # peurto rico has some weird data...\n",
    "    \n",
    "    df['mobility'] = df['fips'].map(lambda fip: 0)\n",
    "    df['cases'] = df['fips'].map(lambda fip: 0)\n",
    "    \n",
    "    col_names = []\n",
    "    for i in range(look_back_y):\n",
    "        if i == 0:\n",
    "            col_name = \"deaths\"\n",
    "        else:\n",
    "            col_name = \"deaths %d days ago\" %i\n",
    "        col_names.append(col_name)\n",
    "        df[col_name] = df['fips'].map(lambda fip: 0)\n",
    "    X = []\n",
    "    Y = []\n",
    "    for fips in df.index:\n",
    "        if int(fips) not in fips_list:\n",
    "            continue\n",
    "        base = df.loc[fips].values\n",
    "        _, cum_cases = cum_case_counter.getY(int(fips))\n",
    "        try:\n",
    "            t, ys = y_generator.getY(int(fips))\n",
    "        except KeyError:\n",
    "            continue\n",
    "        if len(ys) == 0:\n",
    "            X.append(base)\n",
    "            Y.append(0)\n",
    "            continue\n",
    "        for j in range(-1, -len(ys), -1):\n",
    "            base = df.loc[fips].values\n",
    "            if j - delta_y >= -len(cum_cases):\n",
    "                base[-look_back_y - 1] = cum_cases[j - delta_y]\n",
    "            Y.append(ys[j])\n",
    "            try:\n",
    "                time = t[j-delta_y]\n",
    "                base[-look_back_y - 2] = mobility_counter.getYByDay(int(fips), time)\n",
    "            except:\n",
    "                pass\n",
    "            for i in range(look_back_y):\n",
    "                if j - delta_y - i >= -len(ys):\n",
    "                    base[-look_back_y + i] = ys[j - delta_y - i]\n",
    "            X.append(base)\n",
    "            if not moving_window:\n",
    "                break\n",
    "    df_new = pd.DataFrame(X, columns = df.columns)\n",
    "    df_new['target'] = Y\n",
    "    return df_new\n",
    "\n",
    "def get_XY_with_neighs(df, features, delta_y, look_back_y, y_generator, fips_list=get_fips(), moving_window=True):\n",
    "    df_new = get_XY(df, features, delta_y, look_back_y, y_generator, fips_list=fips_list, moving_window=moving_window)\n",
    "    df_new = df_new.loc[~np.isnan(df_new.pclon10)]\n",
    "    X = df_new.iloc[:,2:-1]\n",
    "    y = df_new['target'].values\n",
    "    X = add_radius_neighbors(add_neighbors(X))\n",
    "    return X, y\n",
    "\n",
    "def Rsquare(pred, actual):   \n",
    "    return np.corrcoef(pred, actual)[0,1]**2"
   ]
  },
  {
   "cell_type": "markdown",
   "metadata": {},
   "source": [
    "## Splitting"
   ]
  },
  {
   "cell_type": "code",
   "execution_count": 253,
   "metadata": {},
   "outputs": [],
   "source": [
    "large_fips, small_fips = split_fips(cum_death_counter,min_thresh=10)"
   ]
  },
  {
   "cell_type": "code",
   "execution_count": 334,
   "metadata": {},
   "outputs": [],
   "source": [
    "X,y = get_XY_with_neighs(df_jhu_merged, features, 1, 5, delta_death_counter, fips_list=large_fips, moving_window=False)\n",
    "X_train, X_test, y_train, y_test = train_test_split(X, y, test_size=0.33)"
   ]
  },
  {
   "cell_type": "code",
   "execution_count": 335,
   "metadata": {},
   "outputs": [
    {
     "name": "stdout",
     "output_type": "stream",
     "text": [
      "Ordinary Least Squares\n",
      "R^2 (in sample): 0.851798\n",
      "R^2 (out sample): 0.814581\n",
      "Ridge Model\n",
      "R^2 (in sample): 0.850582\n",
      "R^2 (out sample): 0.820889\n",
      "Lasso Model\n",
      "R^2 (in sample): 0.803114\n",
      "R^2 (out sample): 0.803391\n"
     ]
    },
    {
     "name": "stderr",
     "output_type": "stream",
     "text": [
      "/home/sean/anaconda3/lib/python3.7/site-packages/sklearn/linear_model/_coordinate_descent.py:476: ConvergenceWarning: Objective did not converge. You might want to increase the number of iterations. Duality gap: 1578.7331015607194, tolerance: 1.481079863481229\n",
      "  positive)\n"
     ]
    },
    {
     "data": {
      "text/plain": [
       "<matplotlib.collections.PathCollection at 0x7f1e3108ff98>"
      ]
     },
     "execution_count": 335,
     "metadata": {},
     "output_type": "execute_result"
    },
    {
     "data": {
      "image/png": "[encoded data removed]",
      "text/plain": [
       "<Figure size 432x288 with 1 Axes>"
      ]
     },
     "metadata": {
      "needs_background": "light"
     },
     "output_type": "display_data"
    }
   ],
   "source": [
    "normal_model = LinearRegression().fit(X_train.values, y_train)\n",
    "print(\"Ordinary Least Squares\")\n",
    "print(\"R^2 (in sample): %f\" % normal_model.score(X_train,y_train))\n",
    "print(\"R^2 (out sample): %f\" % normal_model.score(X_test,y_test))\n",
    "ridge_model = Ridge(alpha=15)\n",
    "ridge_model.fit(X_train.values, y_train)\n",
    "print(\"Ridge Model\")\n",
    "print(\"R^2 (in sample): %f\" % ridge_model.score(X_train,y_train))\n",
    "print(\"R^2 (out sample): %f\" % ridge_model.score(X_test,y_test))\n",
    "lasso_model = Lasso(alpha=5)\n",
    "lasso_model.fit(X_train.values, y_train)\n",
    "print(\"Lasso Model\")\n",
    "print(\"R^2 (in sample): %f\" % lasso_model.score(X_train,y_train))\n",
    "print(\"R^2 (out sample): %f\" % lasso_model.score(X_test,y_test))\n",
    "plt.scatter(lasso_model.predict(X_test), y_test)"
   ]
  },
  {
   "cell_type": "code",
   "execution_count": 336,
   "metadata": {},
   "outputs": [
    {
     "name": "stdout",
     "output_type": "stream",
     "text": [
      "Optimum number of features: 35\n",
      "Score with 35 features: 0.819104\n"
     ]
    },
    {
     "data": {
      "image/png": "[encoded data removed]",
      "text/plain": [
       "<Figure size 432x288 with 1 Axes>"
      ]
     },
     "metadata": {
      "needs_background": "light"
     },
     "output_type": "display_data"
    }
   ],
   "source": [
    "nof_list=np.arange(5,44)            \n",
    "high_score=0\n",
    "#Variable to store the optimum features\n",
    "nof=0           \n",
    "score_list =[]\n",
    "for n in range(len(nof_list)):\n",
    "    model = LinearRegression()\n",
    "    rfe = RFE(model,nof_list[n])\n",
    "    X_train_rfe = rfe.fit_transform(X_train,y_train)\n",
    "    X_test_rfe = rfe.transform(X_test)\n",
    "    model.fit(X_train_rfe,y_train)\n",
    "    score = model.score(X_test_rfe,y_test)\n",
    "    score_list.append(score)\n",
    "    if(score>high_score):\n",
    "        high_score = score\n",
    "        nof = nof_list[n]\n",
    "plt.plot(nof_list, score_list)\n",
    "print(\"Optimum number of features: %d\" %nof)\n",
    "print(\"Score with %d features: %f\" % (nof, high_score))"
   ]
  },
  {
   "cell_type": "code",
   "execution_count": 337,
   "metadata": {},
   "outputs": [
    {
     "name": "stdout",
     "output_type": "stream",
     "text": [
      "0.7353424612151831\n"
     ]
    }
   ],
   "source": [
    "model = LinearRegression()\n",
    "rfe = RFE(model,12)\n",
    "X_train_rfe = rfe.fit_transform(X_train,y_train)\n",
    "X_test_rfe = rfe.transform(X_test)\n",
    "model.fit(X_train_rfe,y_train)\n",
    "print(model.score(X_test_rfe,y_test))\n",
    "support = rfe.support_"
   ]
  },
  {
   "cell_type": "code",
   "execution_count": 338,
   "metadata": {},
   "outputs": [
    {
     "data": {
      "text/plain": [
       "['Active General Surgeons per 100000 Population 2018 (AAMC)',\n",
       " 'Non-profit hospital beds per 1000 people (2019)',\n",
       " 'Total hospital beds per 1000 people (2019)',\n",
       " 'deaths',\n",
       " 'deaths 1 days ago',\n",
       " 'deaths 2 days ago',\n",
       " 'dist_0',\n",
       " 'dist_1',\n",
       " 'dist_2',\n",
       " 'dist_3',\n",
       " 'dist_4',\n",
       " 'num_in_radius']"
      ]
     },
     "execution_count": 338,
     "metadata": {},
     "output_type": "execute_result"
    }
   ],
   "source": [
    "good_cols = []\n",
    "for i in range(len(support)):\n",
    "    if support[i]:\n",
    "        good_cols.append(X_train.columns[i])\n",
    "good_cols"
   ]
  },
  {
   "cell_type": "code",
   "execution_count": 339,
   "metadata": {},
   "outputs": [],
   "source": [
    "X_test_filtered = X_test[good_cols]\n",
    "X_train_filtered = X_train[good_cols]"
   ]
  },
  {
   "cell_type": "code",
   "execution_count": 340,
   "metadata": {},
   "outputs": [
    {
     "name": "stdout",
     "output_type": "stream",
     "text": [
      "Ordinary Least Squares\n",
      "R^2 (in sample): 0.754068\n",
      "R^2 (out sample): 0.735342\n",
      "Ridge Model\n",
      "R^2 (in sample): 0.753971\n",
      "R^2 (out sample): 0.734716\n",
      "Lasso Model\n",
      "R^2 (in sample): 0.733093\n",
      "R^2 (out sample): 0.740072\n"
     ]
    },
    {
     "data": {
      "text/plain": [
       "<matplotlib.collections.PathCollection at 0x7f1e312504a8>"
      ]
     },
     "execution_count": 340,
     "metadata": {},
     "output_type": "execute_result"
    },
    {
     "data": {
      "image/png": "[encoded data removed]",
      "text/plain": [
       "<Figure size 432x288 with 1 Axes>"
      ]
     },
     "metadata": {
      "needs_background": "light"
     },
     "output_type": "display_data"
    }
   ],
   "source": [
    "normal_model = LinearRegression().fit(X_train_filtered.values, y_train)\n",
    "print(\"Ordinary Least Squares\")\n",
    "print(\"R^2 (in sample): %f\" % normal_model.score(X_train_filtered,y_train))\n",
    "print(\"R^2 (out sample): %f\" % normal_model.score(X_test_filtered,y_test))\n",
    "ridge_model = Ridge(alpha=10)\n",
    "ridge_model.fit(X_train_filtered.values, y_train)\n",
    "print(\"Ridge Model\")\n",
    "print(\"R^2 (in sample): %f\" % ridge_model.score(X_train_filtered,y_train))\n",
    "print(\"R^2 (out sample): %f\" % ridge_model.score(X_test_filtered,y_test))\n",
    "lasso_model = Lasso(alpha=1)\n",
    "lasso_model.fit(X_train_filtered.values, y_train)\n",
    "print(\"Lasso Model\")\n",
    "print(\"R^2 (in sample): %f\" % lasso_model.score(X_train_filtered,y_train))\n",
    "print(\"R^2 (out sample): %f\" % lasso_model.score(X_test_filtered,y_test))\n",
    "plt.scatter(lasso_model.predict(X_test_filtered), y_test)"
   ]
  },
  {
   "cell_type": "code",
   "execution_count": 365,
   "metadata": {},
   "outputs": [
    {
     "name": "stderr",
     "output_type": "stream",
     "text": [
      "/home/sean/anaconda3/lib/python3.7/site-packages/ipykernel_launcher.py:2: SettingWithCopyWarning: \n",
      "A value is trying to be set on a copy of a slice from a DataFrame.\n",
      "Try using .loc[row_indexer,col_indexer] = value instead\n",
      "\n",
      "See the caveats in the documentation: http://pandas.pydata.org/pandas-docs/stable/indexing.html#indexing-view-versus-copy\n",
      "  \n",
      "/home/sean/anaconda3/lib/python3.7/site-packages/ipykernel_launcher.py:4: SettingWithCopyWarning: \n",
      "A value is trying to be set on a copy of a slice from a DataFrame.\n",
      "Try using .loc[row_indexer,col_indexer] = value instead\n",
      "\n",
      "See the caveats in the documentation: http://pandas.pydata.org/pandas-docs/stable/indexing.html#indexing-view-versus-copy\n",
      "  after removing the cwd from sys.path.\n"
     ]
    }
   ],
   "source": [
    "n, d = X_train_filtered.shape\n",
    "X_train_filtered['intercept'] = np.ones(n)\n",
    "n1, d = X_test_filtered.shape\n",
    "X_test_filtered['intercept'] = np.ones(n1)"
   ]
  },
  {
   "cell_type": "code",
   "execution_count": 366,
   "metadata": {},
   "outputs": [
    {
     "data": {
      "text/plain": [
       "<matplotlib.collections.PathCollection at 0x7f1e31278390>"
      ]
     },
     "execution_count": 366,
     "metadata": {},
     "output_type": "execute_result"
    },
    {
     "data": {
      "image/png": "[encoded data removed]",
      "text/plain": [
       "<Figure size 432x288 with 1 Axes>"
      ]
     },
     "metadata": {
      "needs_background": "light"
     },
     "output_type": "display_data"
    }
   ],
   "source": [
    "model = sm.OLS(y_train,X_train_filtered)\n",
    "result = model.fit()\n",
    "plt.scatter(result.predict(X_test_filtered), y_test)"
   ]
  },
  {
   "cell_type": "markdown",
   "metadata": {},
   "source": [
    "# Submission 2"
   ]
  },
  {
   "cell_type": "code",
   "execution_count": 277,
   "metadata": {},
   "outputs": [],
   "source": [
    "# Get a list of OLS trained models\n",
    "def train_models(fips_set, good_cols, min_look_ahead=1, max_look_ahead=14):\n",
    "    models = []\n",
    "    for delta_y in range(min_look_ahead, max_look_ahead + 1):\n",
    "        X,y = get_XY_with_neighs(df_jhu_merged, features, 1, 5, delta_death_counter, fips_list=large_fips, moving_window=False)\n",
    "        X_train, X_test, y_train, y_test = train_test_split(X, y, test_size=0.33)\n",
    "        X_test = X_test[good_cols]\n",
    "        X_train = X_train[good_cols]\n",
    "        model = sm.OLS(y_train,X_train)\n",
    "        print(\"Training model to predict %d days in the future\" % delta_y)\n",
    "        result = model.fit()\n",
    "        print(\"R squared (out sample) is %f\" % (Rsquare(result.predict(X_test), y_test)))\n",
    "        models.append(result)\n",
    "    return  models"
   ]
  },
  {
   "cell_type": "code",
   "execution_count": 278,
   "metadata": {},
   "outputs": [
    {
     "name": "stdout",
     "output_type": "stream",
     "text": [
      "Training model to predict 1 days in the future\n",
      "R squared (out sample) is 0.709561\n",
      "Training model to predict 2 days in the future\n",
      "R squared (out sample) is 0.733765\n",
      "Training model to predict 3 days in the future\n",
      "R squared (out sample) is 0.773788\n",
      "Training model to predict 4 days in the future\n",
      "R squared (out sample) is 0.657246\n",
      "Training model to predict 5 days in the future\n",
      "R squared (out sample) is 0.645630\n",
      "Training model to predict 6 days in the future\n",
      "R squared (out sample) is 0.922108\n",
      "Training model to predict 7 days in the future\n",
      "R squared (out sample) is 0.740242\n",
      "Training model to predict 8 days in the future\n",
      "R squared (out sample) is 0.781707\n",
      "Training model to predict 9 days in the future\n",
      "R squared (out sample) is 0.862900\n",
      "Training model to predict 10 days in the future\n",
      "R squared (out sample) is 0.788220\n",
      "Training model to predict 11 days in the future\n",
      "R squared (out sample) is 0.723380\n",
      "Training model to predict 12 days in the future\n",
      "R squared (out sample) is 0.583652\n",
      "Training model to predict 13 days in the future\n",
      "R squared (out sample) is 0.767392\n",
      "Training model to predict 14 days in the future\n",
      "R squared (out sample) is 0.810949\n"
     ]
    }
   ],
   "source": [
    "model_list = train_models(large_fips, good_cols)"
   ]
  },
  {
   "cell_type": "code",
   "execution_count": 279,
   "metadata": {},
   "outputs": [],
   "source": [
    "def get_param_info(models, min_look_ahead=1, max_look_ahead=14):\n",
    "    params_mu = {}\n",
    "    params_stderr = {}\n",
    "    for i in range(len(models)):\n",
    "        model = models[i]\n",
    "        params_mu[i + min_look_ahead] = model.params\n",
    "        params_stderr[i + min_look_ahead] = model.bse\n",
    "    return params_mu, params_stderr"
   ]
  },
  {
   "cell_type": "code",
   "execution_count": 280,
   "metadata": {},
   "outputs": [],
   "source": [
    "param_mu, param_stderr = get_param_info(model_list)"
   ]
  },
  {
   "cell_type": "code",
   "execution_count": 291,
   "metadata": {},
   "outputs": [
    {
     "data": {
      "text/html": [
       "<div>\n",
       "<style scoped>\n",
       "    .dataframe tbody tr th:only-of-type {\n",
       "        vertical-align: middle;\n",
       "    }\n",
       "\n",
       "    .dataframe tbody tr th {\n",
       "        vertical-align: top;\n",
       "    }\n",
       "\n",
       "    .dataframe thead th {\n",
       "        text-align: right;\n",
       "    }\n",
       "</style>\n",
       "<table border=\"1\" class=\"dataframe\">\n",
       "  <thead>\n",
       "    <tr style=\"text-align: right;\">\n",
       "      <th></th>\n",
       "      <th>Active General Surgeons per 100000 Population 2018 (AAMC)</th>\n",
       "      <th>Non-profit hospital beds per 1000 people (2019)</th>\n",
       "      <th>Unemployment_rate_2018</th>\n",
       "      <th>Total hospital beds per 1000 people (2019)</th>\n",
       "      <th>deaths</th>\n",
       "      <th>deaths 1 days ago</th>\n",
       "      <th>deaths 2 days ago</th>\n",
       "      <th>deaths 4 days ago</th>\n",
       "      <th>dist_1</th>\n",
       "      <th>dist_2</th>\n",
       "      <th>dist_3</th>\n",
       "      <th>dist_4</th>\n",
       "    </tr>\n",
       "  </thead>\n",
       "  <tbody>\n",
       "    <tr>\n",
       "      <th>0</th>\n",
       "      <td>7.6</td>\n",
       "      <td>0.8</td>\n",
       "      <td>3.9</td>\n",
       "      <td>3.1</td>\n",
       "      <td>0</td>\n",
       "      <td>0</td>\n",
       "      <td>0</td>\n",
       "      <td>2</td>\n",
       "      <td>0.598075</td>\n",
       "      <td>0.793388</td>\n",
       "      <td>0.943265</td>\n",
       "      <td>1.014976</td>\n",
       "    </tr>\n",
       "    <tr>\n",
       "      <th>1</th>\n",
       "      <td>7.6</td>\n",
       "      <td>0.8</td>\n",
       "      <td>3.7</td>\n",
       "      <td>3.1</td>\n",
       "      <td>0</td>\n",
       "      <td>0</td>\n",
       "      <td>2</td>\n",
       "      <td>3</td>\n",
       "      <td>1.160085</td>\n",
       "      <td>1.682303</td>\n",
       "      <td>1.732000</td>\n",
       "      <td>1.738788</td>\n",
       "    </tr>\n",
       "    <tr>\n",
       "      <th>2</th>\n",
       "      <td>7.6</td>\n",
       "      <td>0.8</td>\n",
       "      <td>3.6</td>\n",
       "      <td>3.1</td>\n",
       "      <td>0</td>\n",
       "      <td>0</td>\n",
       "      <td>0</td>\n",
       "      <td>3</td>\n",
       "      <td>0.582432</td>\n",
       "      <td>1.015178</td>\n",
       "      <td>1.070217</td>\n",
       "      <td>1.077062</td>\n",
       "    </tr>\n",
       "    <tr>\n",
       "      <th>3</th>\n",
       "      <td>7.6</td>\n",
       "      <td>0.8</td>\n",
       "      <td>4.7</td>\n",
       "      <td>3.1</td>\n",
       "      <td>1</td>\n",
       "      <td>0</td>\n",
       "      <td>6</td>\n",
       "      <td>7</td>\n",
       "      <td>1.280197</td>\n",
       "      <td>1.461697</td>\n",
       "      <td>1.794051</td>\n",
       "      <td>1.802942</td>\n",
       "    </tr>\n",
       "    <tr>\n",
       "      <th>4</th>\n",
       "      <td>7.6</td>\n",
       "      <td>0.8</td>\n",
       "      <td>2.9</td>\n",
       "      <td>3.1</td>\n",
       "      <td>0</td>\n",
       "      <td>0</td>\n",
       "      <td>1</td>\n",
       "      <td>1</td>\n",
       "      <td>0.976987</td>\n",
       "      <td>1.533123</td>\n",
       "      <td>1.559408</td>\n",
       "      <td>1.725444</td>\n",
       "    </tr>\n",
       "  </tbody>\n",
       "</table>\n",
       "</div>"
      ],
      "text/plain": [
       "   Active General Surgeons per 100000 Population 2018 (AAMC)  \\\n",
       "0                                                7.6           \n",
       "1                                                7.6           \n",
       "2                                                7.6           \n",
       "3                                                7.6           \n",
       "4                                                7.6           \n",
       "\n",
       "   Non-profit hospital beds per 1000 people (2019)  Unemployment_rate_2018  \\\n",
       "0                                              0.8                     3.9   \n",
       "1                                              0.8                     3.7   \n",
       "2                                              0.8                     3.6   \n",
       "3                                              0.8                     4.7   \n",
       "4                                              0.8                     2.9   \n",
       "\n",
       "   Total hospital beds per 1000 people (2019)  deaths  deaths 1 days ago  \\\n",
       "0                                         3.1       0                  0   \n",
       "1                                         3.1       0                  0   \n",
       "2                                         3.1       0                  0   \n",
       "3                                         3.1       1                  0   \n",
       "4                                         3.1       0                  0   \n",
       "\n",
       "   deaths 2 days ago  deaths 4 days ago    dist_1    dist_2    dist_3  \\\n",
       "0                  0                  2  0.598075  0.793388  0.943265   \n",
       "1                  2                  3  1.160085  1.682303  1.732000   \n",
       "2                  0                  3  0.582432  1.015178  1.070217   \n",
       "3                  6                  7  1.280197  1.461697  1.794051   \n",
       "4                  1                  1  0.976987  1.533123  1.559408   \n",
       "\n",
       "     dist_4  \n",
       "0  1.014976  \n",
       "1  1.738788  \n",
       "2  1.077062  \n",
       "3  1.802942  \n",
       "4  1.725444  "
      ]
     },
     "execution_count": 291,
     "metadata": {},
     "output_type": "execute_result"
    }
   ],
   "source": [
    "df_true,_ =get_XY_with_neighs(df_jhu_merged, features, 0, 5, delta_death_counter, fips_list=large_fips, moving_window=False)\n",
    "X_true = df_true[good_cols]\n",
    "X_true.head()"
   ]
  },
  {
   "cell_type": "code",
   "execution_count": 282,
   "metadata": {},
   "outputs": [],
   "source": [
    "def gen_percentiles(X, param_mu, param_stderr, fips_list, min_look_ahead=1, max_look_ahead=14):\n",
    "    output = {}\n",
    "    for i in range(min_look_ahead, max_look_ahead + 1):\n",
    "        n_samples = 400\n",
    "        fips_to_samples = {}\n",
    "        fips_to_percentiles = {}\n",
    "        for fips in fips_list:\n",
    "            fips_to_samples[fips] = []\n",
    "            fips_to_percentiles[fips] = {}\n",
    "        for j in range(n_samples):\n",
    "            param_sample = np.random.normal(param_mu[i], param_stderr[i])\n",
    "            res = np.matmul(X.values, param_sample)\n",
    "            for k in range(len(fips_list)):\n",
    "                fips_to_samples[fips_list[k]].append(res[k])\n",
    "        for fips in fips_list:\n",
    "            for percentile in range(10, 100, 10):\n",
    "                fips_to_percentiles[fips][percentile] = np.percentile(fips_to_samples[fips], percentile, axis=0)\n",
    "        output[i] = fips_to_percentiles\n",
    "    return output\n",
    "percentiles = gen_percentiles(X_true, param_mu, param_stderr, large_fips, 1, 14)"
   ]
  },
  {
   "cell_type": "code",
   "execution_count": 382,
   "metadata": {},
   "outputs": [],
   "source": [
    "df_sample_sub = pd.read_csv(f\"{homedir}/sample_submission.csv\")\n",
    "df_sample_sub['fips'] = df_sample_sub['id'].map(lambda i : int(i[11:]))\n",
    "output_fips = df_sample_sub.fips.unique()"
   ]
  },
  {
   "cell_type": "code",
   "execution_count": 389,
   "metadata": {},
   "outputs": [],
   "source": [
    "import datetime\n",
    "def truncate(dec):\n",
    "    return int(100*dec)/100\n",
    "with open('submission.csv', mode='w') as file:\n",
    "    writer = csv.writer(file, delimiter=',', quotechar='\"', quoting=csv.QUOTE_MINIMAL)\n",
    "    writer.writerow(['id', '10', '20', '30', '40', '50', '60', '70', '80', '90'])\n",
    "\n",
    "    today = datetime.date.today();   \n",
    "    for i in range(-34, 0):\n",
    "        target_day = today + datetime.timedelta(days=i)\n",
    "        string_pre = target_day.strftime('%Y-%m-%d-')\n",
    "        for fips in output_fips:\n",
    "            print_lst = [string_pre + str(fips)]\n",
    "            try:\n",
    "                X, y = delta_death_counter.getY(fips)\n",
    "                for j in range(9):\n",
    "                    print_lst.append(y[i])\n",
    "            except:\n",
    "                for j in range(9):\n",
    "                    print_lst.append(0)\n",
    "            writer.writerow(print_lst)\n",
    "    for delta_y in range(1, 58):\n",
    "        target_day = today + datetime.timedelta(days=delta_y-1)\n",
    "        string_pre = target_day.strftime('%Y-%m-%d-')\n",
    "        if delta_y > 14:\n",
    "            for fips in output_fips:\n",
    "                l = [string_pre + str(fips)]\n",
    "                writer.writerow(l + [0] * 9)\n",
    "            continue\n",
    "        for fips in output_fips:\n",
    "            print_lst = [string_pre + str(fips)]\n",
    "            if fips in percentiles[delta_y].keys():\n",
    "                for percentile in range(10,100,10):\n",
    "                    datum = percentiles[delta_y][fips][percentile]\n",
    "                    if datum < 0:\n",
    "                        datum = 0\n",
    "                    print_lst.append(truncate(datum))\n",
    "            else:\n",
    "                for i in range(9):\n",
    "                    print_lst.append(0)\n",
    "            writer.writerow(print_lst)"
   ]
  },
  {
   "cell_type": "code",
   "execution_count": 390,
   "metadata": {},
   "outputs": [],
   "source": [
    "your_submission = pd.read_csv('submission.csv').set_index('id').sort_index()\n",
    "sample_submission = pd.read_csv(f\"{homedir}/sample_submission.csv\").set_index('id').sort_index()\n",
    "assert(your_submission.index.equals(sample_submission.index))"
   ]
  },
  {
   "cell_type": "code",
   "execution_count": null,
   "metadata": {},
   "outputs": [],
   "source": []
  }
 ],
 "metadata": {
  "kernelspec": {
   "display_name": "Python 3",
   "language": "python",
   "name": "python3"
  },
  "language_info": {
   "codemirror_mode": {
    "name": "ipython",
    "version": 3
   },
   "file_extension": ".py",
   "mimetype": "text/x-python",
   "name": "python",
   "nbconvert_exporter": "python",
   "pygments_lexer": "ipython3",
   "version": "3.7.3"
  }
 },
 "nbformat": 4,
 "nbformat_minor": 2
}
