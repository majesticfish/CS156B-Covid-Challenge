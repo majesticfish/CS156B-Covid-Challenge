{
 "cells": [
  {
   "cell_type": "code",
   "execution_count": 1,
   "metadata": {},
   "outputs": [],
   "source": [
    "import numpy as np\n",
    "import pandas as pd\n",
    "import matplotlib.pyplot as plt\n",
    "import git\n",
    "import math\n",
    "import os\n",
    "import random\n",
    "import csv\n",
    "import json\n",
    "from sklearn import neighbors\n",
    "from sklearn.model_selection import train_test_split\n",
    "import statsmodels.api as sm\n",
    "from sklearn.linear_model import LinearRegression, Ridge,Lasso\n",
    "from sklearn.feature_selection import RFE\n",
    "from statsmodels.tsa.arima_model import ARIMA\n",
    "from statsmodels.tsa.stattools import pacf\n",
    "from pandas.plotting import autocorrelation_plot\n",
    "from datetime import datetime\n",
    "from urllib.request import urlopen\n",
    "import numpy as np\n",
    "import pandas as pd\n",
    "from tqdm.auto import tqdm\n",
    "import lightgbm as lgb\n",
    "import statsmodels.tsa.stattools as ts\n",
    "from lib import *\n",
    "from sklearn.metrics import mean_squared_error\n",
    "from sklearn.model_selection import GridSearchCV\n",
    "\n",
    "repo = git.Repo(\"./\", search_parent_directories=True)\n",
    "homedir = repo.working_dir"
   ]
  },
  {
   "cell_type": "code",
   "execution_count": 2,
   "metadata": {},
   "outputs": [
    {
     "data": {
      "text/html": [
       "<div>\n",
       "<style scoped>\n",
       "    .dataframe tbody tr th:only-of-type {\n",
       "        vertical-align: middle;\n",
       "    }\n",
       "\n",
       "    .dataframe tbody tr th {\n",
       "        vertical-align: top;\n",
       "    }\n",
       "\n",
       "    .dataframe thead th {\n",
       "        text-align: right;\n",
       "    }\n",
       "</style>\n",
       "<table border=\"1\" class=\"dataframe\">\n",
       "  <thead>\n",
       "    <tr style=\"text-align: right;\">\n",
       "      <th></th>\n",
       "      <th>pclon10</th>\n",
       "      <th>pclat10</th>\n",
       "      <th>fips</th>\n",
       "    </tr>\n",
       "  </thead>\n",
       "  <tbody>\n",
       "    <tr>\n",
       "      <th>0</th>\n",
       "      <td>-86.494165</td>\n",
       "      <td>32.500389</td>\n",
       "      <td>1001</td>\n",
       "    </tr>\n",
       "    <tr>\n",
       "      <th>1</th>\n",
       "      <td>-87.762381</td>\n",
       "      <td>30.548923</td>\n",
       "      <td>1003</td>\n",
       "    </tr>\n",
       "    <tr>\n",
       "      <th>2</th>\n",
       "      <td>-85.310038</td>\n",
       "      <td>31.844036</td>\n",
       "      <td>1005</td>\n",
       "    </tr>\n",
       "    <tr>\n",
       "      <th>3</th>\n",
       "      <td>-87.127659</td>\n",
       "      <td>33.030921</td>\n",
       "      <td>1007</td>\n",
       "    </tr>\n",
       "    <tr>\n",
       "      <th>4</th>\n",
       "      <td>-86.591491</td>\n",
       "      <td>33.955243</td>\n",
       "      <td>1009</td>\n",
       "    </tr>\n",
       "  </tbody>\n",
       "</table>\n",
       "</div>"
      ],
      "text/plain": [
       "     pclon10    pclat10  fips\n",
       "0 -86.494165  32.500389  1001\n",
       "1 -87.762381  30.548923  1003\n",
       "2 -85.310038  31.844036  1005\n",
       "3 -87.127659  33.030921  1007\n",
       "4 -86.591491  33.955243  1009"
      ]
     },
     "execution_count": 2,
     "metadata": {},
     "output_type": "execute_result"
    }
   ],
   "source": [
    "df_jhu = pd.read_csv(f\"{homedir}/data/us/aggregate_jhu.csv\")\n",
    "# Get rid of the aggregate country data\n",
    "df_jhu = df_jhu.drop([0])\n",
    "df_jhu['FIPS'] = df_jhu['FIPS'].map(lambda f : str(f))\n",
    "def alter(fips):\n",
    "    if len(fips) == 4:\n",
    "        return '0' + fips\n",
    "    return fips\n",
    "df_jhu['FIPS'] = df_jhu['FIPS'].map(alter)\n",
    "df_jhu = df_jhu.set_index('FIPS')\n",
    "df_jhu['fips'] = df_jhu.index.map(lambda s : int(s))\n",
    "# fill out missing data\n",
    "df_jhu.at['02158', 'Area in square miles - Land area'] = 19673\n",
    "df_jhu.at['02158', 'Density per square mile of land area - Population'] = 0.44\n",
    "df_jhu.at['46102', 'Area in square miles - Land area'] = 2097\n",
    "df_jhu.at['46102', 'Density per square mile of land area - Population'] = 6.5\n",
    "\n",
    "with urlopen('https://raw.githubusercontent.com/plotly/datasets/master/geojson-counties-fips.json') as response:\n",
    "    counties = json.load(response)\n",
    "repo = git.Repo(\"./\", search_parent_directories=True)\n",
    "home_dir = repo.working_dir\n",
    "county_centers = pd.read_csv(home_dir+'/data/us/geolocation/county_centers.csv')\n",
    "objective_df = pd.read_csv(home_dir +'/data/us/covid/nyt_us_counties_daily.csv') # Use the non-cumulative results\n",
    "county_centers = county_centers[['pclon10', 'pclat10', 'fips']]\n",
    "county_centers.head()"
   ]
  },
  {
   "cell_type": "code",
   "execution_count": 3,
   "metadata": {},
   "outputs": [
    {
     "name": "stdout",
     "output_type": "stream",
     "text": [
      "(3272, 334)\n"
     ]
    },
    {
     "data": {
      "text/html": [
       "<div>\n",
       "<style scoped>\n",
       "    .dataframe tbody tr th:only-of-type {\n",
       "        vertical-align: middle;\n",
       "    }\n",
       "\n",
       "    .dataframe tbody tr th {\n",
       "        vertical-align: top;\n",
       "    }\n",
       "\n",
       "    .dataframe thead th {\n",
       "        text-align: right;\n",
       "    }\n",
       "</style>\n",
       "<table border=\"1\" class=\"dataframe\">\n",
       "  <thead>\n",
       "    <tr style=\"text-align: right;\">\n",
       "      <th></th>\n",
       "      <th>State</th>\n",
       "      <th>Area_Name</th>\n",
       "      <th>Rural-urban_Continuum Code_2013</th>\n",
       "      <th>Urban_Influence_Code_2013</th>\n",
       "      <th>Economic_typology_2015</th>\n",
       "      <th>POP_ESTIMATE_2018</th>\n",
       "      <th>N_POP_CHG_2018</th>\n",
       "      <th>Births_2018</th>\n",
       "      <th>Deaths_2018</th>\n",
       "      <th>NATURAL_INC_2018</th>\n",
       "      <th>...</th>\n",
       "      <th>Radiology specialists (2019)</th>\n",
       "      <th>Cardiology specialists (2019)</th>\n",
       "      <th>Oncology (Cancer) specialists (2019)</th>\n",
       "      <th>Endocrinology Diabetes and Metabolism specialists (2019)</th>\n",
       "      <th>All Other Specialties specialists (2019)</th>\n",
       "      <th>Total Specialist Physicians (2019)</th>\n",
       "      <th>transit_scores - population weighted averages aggregated from town/city level to county</th>\n",
       "      <th>fips</th>\n",
       "      <th>pclon10</th>\n",
       "      <th>pclat10</th>\n",
       "    </tr>\n",
       "    <tr>\n",
       "      <th>FIPS</th>\n",
       "      <th></th>\n",
       "      <th></th>\n",
       "      <th></th>\n",
       "      <th></th>\n",
       "      <th></th>\n",
       "      <th></th>\n",
       "      <th></th>\n",
       "      <th></th>\n",
       "      <th></th>\n",
       "      <th></th>\n",
       "      <th></th>\n",
       "      <th></th>\n",
       "      <th></th>\n",
       "      <th></th>\n",
       "      <th></th>\n",
       "      <th></th>\n",
       "      <th></th>\n",
       "      <th></th>\n",
       "      <th></th>\n",
       "      <th></th>\n",
       "      <th></th>\n",
       "    </tr>\n",
       "  </thead>\n",
       "  <tbody>\n",
       "    <tr>\n",
       "      <th>1001</th>\n",
       "      <td>AL</td>\n",
       "      <td>Autauga County</td>\n",
       "      <td>2.0</td>\n",
       "      <td>2.0</td>\n",
       "      <td>0.0</td>\n",
       "      <td>55601</td>\n",
       "      <td>158.0</td>\n",
       "      <td>655.0</td>\n",
       "      <td>532.0</td>\n",
       "      <td>123.0</td>\n",
       "      <td>...</td>\n",
       "      <td>7.666952</td>\n",
       "      <td>4.663873</td>\n",
       "      <td>2.741447</td>\n",
       "      <td>0.807646</td>\n",
       "      <td>29.791911</td>\n",
       "      <td>72.142154</td>\n",
       "      <td>0.0</td>\n",
       "      <td>1001</td>\n",
       "      <td>-86.494165</td>\n",
       "      <td>32.500389</td>\n",
       "    </tr>\n",
       "    <tr>\n",
       "      <th>1003</th>\n",
       "      <td>AL</td>\n",
       "      <td>Baldwin County</td>\n",
       "      <td>3.0</td>\n",
       "      <td>2.0</td>\n",
       "      <td>5.0</td>\n",
       "      <td>218022</td>\n",
       "      <td>5403.0</td>\n",
       "      <td>2254.0</td>\n",
       "      <td>2228.0</td>\n",
       "      <td>26.0</td>\n",
       "      <td>...</td>\n",
       "      <td>30.063565</td>\n",
       "      <td>18.287925</td>\n",
       "      <td>10.749732</td>\n",
       "      <td>3.166933</td>\n",
       "      <td>116.819699</td>\n",
       "      <td>282.882982</td>\n",
       "      <td>368329051.0</td>\n",
       "      <td>1003</td>\n",
       "      <td>-87.762381</td>\n",
       "      <td>30.548923</td>\n",
       "    </tr>\n",
       "    <tr>\n",
       "      <th>1005</th>\n",
       "      <td>AL</td>\n",
       "      <td>Barbour County</td>\n",
       "      <td>6.0</td>\n",
       "      <td>6.0</td>\n",
       "      <td>3.0</td>\n",
       "      <td>24881</td>\n",
       "      <td>-277.0</td>\n",
       "      <td>261.0</td>\n",
       "      <td>324.0</td>\n",
       "      <td>-63.0</td>\n",
       "      <td>...</td>\n",
       "      <td>3.430899</td>\n",
       "      <td>2.087046</td>\n",
       "      <td>1.226776</td>\n",
       "      <td>0.361415</td>\n",
       "      <td>13.331641</td>\n",
       "      <td>32.283033</td>\n",
       "      <td>0.0</td>\n",
       "      <td>1005</td>\n",
       "      <td>-85.310038</td>\n",
       "      <td>31.844036</td>\n",
       "    </tr>\n",
       "    <tr>\n",
       "      <th>1007</th>\n",
       "      <td>AL</td>\n",
       "      <td>Bibb County</td>\n",
       "      <td>1.0</td>\n",
       "      <td>1.0</td>\n",
       "      <td>0.0</td>\n",
       "      <td>22400</td>\n",
       "      <td>-155.0</td>\n",
       "      <td>250.0</td>\n",
       "      <td>256.0</td>\n",
       "      <td>-6.0</td>\n",
       "      <td>...</td>\n",
       "      <td>3.088789</td>\n",
       "      <td>1.878937</td>\n",
       "      <td>1.104448</td>\n",
       "      <td>0.325377</td>\n",
       "      <td>12.002281</td>\n",
       "      <td>29.063942</td>\n",
       "      <td>158361697.0</td>\n",
       "      <td>1007</td>\n",
       "      <td>-87.127659</td>\n",
       "      <td>33.030921</td>\n",
       "    </tr>\n",
       "    <tr>\n",
       "      <th>1009</th>\n",
       "      <td>AL</td>\n",
       "      <td>Blount County</td>\n",
       "      <td>1.0</td>\n",
       "      <td>1.0</td>\n",
       "      <td>0.0</td>\n",
       "      <td>57840</td>\n",
       "      <td>13.0</td>\n",
       "      <td>681.0</td>\n",
       "      <td>662.0</td>\n",
       "      <td>19.0</td>\n",
       "      <td>...</td>\n",
       "      <td>7.975693</td>\n",
       "      <td>4.851683</td>\n",
       "      <td>2.851843</td>\n",
       "      <td>0.840169</td>\n",
       "      <td>30.991603</td>\n",
       "      <td>75.047251</td>\n",
       "      <td>0.0</td>\n",
       "      <td>1009</td>\n",
       "      <td>-86.591491</td>\n",
       "      <td>33.955243</td>\n",
       "    </tr>\n",
       "  </tbody>\n",
       "</table>\n",
       "<p>5 rows × 336 columns</p>\n",
       "</div>"
      ],
      "text/plain": [
       "     State       Area_Name  Rural-urban_Continuum Code_2013  \\\n",
       "FIPS                                                          \n",
       "1001    AL  Autauga County                              2.0   \n",
       "1003    AL  Baldwin County                              3.0   \n",
       "1005    AL  Barbour County                              6.0   \n",
       "1007    AL     Bibb County                              1.0   \n",
       "1009    AL   Blount County                              1.0   \n",
       "\n",
       "      Urban_Influence_Code_2013  Economic_typology_2015  POP_ESTIMATE_2018  \\\n",
       "FIPS                                                                         \n",
       "1001                        2.0                     0.0              55601   \n",
       "1003                        2.0                     5.0             218022   \n",
       "1005                        6.0                     3.0              24881   \n",
       "1007                        1.0                     0.0              22400   \n",
       "1009                        1.0                     0.0              57840   \n",
       "\n",
       "      N_POP_CHG_2018  Births_2018  Deaths_2018  NATURAL_INC_2018  ...  \\\n",
       "FIPS                                                              ...   \n",
       "1001           158.0        655.0        532.0             123.0  ...   \n",
       "1003          5403.0       2254.0       2228.0              26.0  ...   \n",
       "1005          -277.0        261.0        324.0             -63.0  ...   \n",
       "1007          -155.0        250.0        256.0              -6.0  ...   \n",
       "1009            13.0        681.0        662.0              19.0  ...   \n",
       "\n",
       "      Radiology specialists (2019)  Cardiology specialists (2019)  \\\n",
       "FIPS                                                                \n",
       "1001                      7.666952                       4.663873   \n",
       "1003                     30.063565                      18.287925   \n",
       "1005                      3.430899                       2.087046   \n",
       "1007                      3.088789                       1.878937   \n",
       "1009                      7.975693                       4.851683   \n",
       "\n",
       "      Oncology (Cancer) specialists (2019)  \\\n",
       "FIPS                                         \n",
       "1001                              2.741447   \n",
       "1003                             10.749732   \n",
       "1005                              1.226776   \n",
       "1007                              1.104448   \n",
       "1009                              2.851843   \n",
       "\n",
       "      Endocrinology Diabetes and Metabolism specialists (2019)  \\\n",
       "FIPS                                                             \n",
       "1001                                           0.807646          \n",
       "1003                                           3.166933          \n",
       "1005                                           0.361415          \n",
       "1007                                           0.325377          \n",
       "1009                                           0.840169          \n",
       "\n",
       "      All Other Specialties specialists (2019)  \\\n",
       "FIPS                                             \n",
       "1001                                 29.791911   \n",
       "1003                                116.819699   \n",
       "1005                                 13.331641   \n",
       "1007                                 12.002281   \n",
       "1009                                 30.991603   \n",
       "\n",
       "      Total Specialist Physicians (2019)  \\\n",
       "FIPS                                       \n",
       "1001                           72.142154   \n",
       "1003                          282.882982   \n",
       "1005                           32.283033   \n",
       "1007                           29.063942   \n",
       "1009                           75.047251   \n",
       "\n",
       "      transit_scores - population weighted averages aggregated from town/city level to county  \\\n",
       "FIPS                                                                                            \n",
       "1001                                                0.0                                         \n",
       "1003                                        368329051.0                                         \n",
       "1005                                                0.0                                         \n",
       "1007                                        158361697.0                                         \n",
       "1009                                                0.0                                         \n",
       "\n",
       "      fips    pclon10    pclat10  \n",
       "FIPS                              \n",
       "1001  1001 -86.494165  32.500389  \n",
       "1003  1003 -87.762381  30.548923  \n",
       "1005  1005 -85.310038  31.844036  \n",
       "1007  1007 -87.127659  33.030921  \n",
       "1009  1009 -86.591491  33.955243  \n",
       "\n",
       "[5 rows x 336 columns]"
      ]
     },
     "execution_count": 3,
     "metadata": {},
     "output_type": "execute_result"
    }
   ],
   "source": [
    "df_jhu_merged = df_jhu.merge(county_centers, how = 'left', on='fips')\n",
    "print(df_jhu.shape)\n",
    "df_jhu_merged['FIPS'] = df_jhu_merged['fips']\n",
    "df_jhu_merged = df_jhu_merged.set_index('FIPS')\n",
    "df_jhu_merged_states = df_jhu_merged[df_jhu_merged.fips % 1000 != 0]\n",
    "df_jhu_merged_states.head()"
   ]
  },
  {
   "cell_type": "code",
   "execution_count": 4,
   "metadata": {},
   "outputs": [],
   "source": [
    "features = ['State', 'Area_Name','POP_ESTIMATE_2018', 'Area in square miles - Land area', 'Density per square mile of land area - Population', 'Total_Male', 'Total_Female', 'Total_age0to17', \n",
    "            'Total_age18to64','Total_age65plus', 'Active Physicians per 100000 Population 2018 (AAMC)', 'Active General Surgeons per 100000 Population 2018 (AAMC)',\n",
    "           'Non-profit hospital beds per 1000 people (2019)', 'Employed_2018', 'Unemployment_rate_2018'\n",
    "           , 'Total hospital beds per 1000 people (2019)', 'Total nurse practitioners (2019)',\n",
    "           'Total Hospitals (2019)','fips','pclon10', 'pclat10']"
   ]
  },
  {
   "cell_type": "code",
   "execution_count": 5,
   "metadata": {},
   "outputs": [
    {
     "data": {
      "application/vnd.jupyter.widget-view+json": {
       "model_id": "549d58a264b344b997ce5d9360f0e8c4",
       "version_major": 2,
       "version_minor": 0
      },
      "text/plain": [
       "HBox(children=(IntProgress(value=0, max=2880), HTML(value='')))"
      ]
     },
     "metadata": {},
     "output_type": "display_data"
    },
    {
     "name": "stdout",
     "output_type": "stream",
     "text": [
      "\n"
     ]
    },
    {
     "data": {
      "application/vnd.jupyter.widget-view+json": {
       "model_id": "8c31ea8e424d4772a9d1e323d19459da",
       "version_major": 2,
       "version_minor": 0
      },
      "text/plain": [
       "HBox(children=(IntProgress(value=0, max=2880), HTML(value='')))"
      ]
     },
     "metadata": {},
     "output_type": "display_data"
    },
    {
     "name": "stdout",
     "output_type": "stream",
     "text": [
      "\n"
     ]
    }
   ],
   "source": [
    "delta_death_counter = DeltaDeathCounter()\n",
    "delta_case_counter = DeltaCaseCounter()\n",
    "delta_death_ratio_counter = RatioCounter(delta_death_counter)\n",
    "delta_case_ratio_counter = RatioCounter(delta_case_counter)"
   ]
  },
  {
   "cell_type": "code",
   "execution_count": 6,
   "metadata": {},
   "outputs": [],
   "source": [
    "cum_death_counter = CumDeathCounter()\n",
    "cum_case_counter = CumCaseCounter()"
   ]
  },
  {
   "cell_type": "code",
   "execution_count": 22,
   "metadata": {},
   "outputs": [],
   "source": [
    "delta_case_counter = DeltaCounter(cum_case_counter)"
   ]
  },
  {
   "cell_type": "code",
   "execution_count": 7,
   "metadata": {},
   "outputs": [
    {
     "name": "stderr",
     "output_type": "stream",
     "text": [
      "/home/sean/Dropbox/MyDocuments/Programming/CS156B/CS156B-Covid-Challenge/exploratory/Sean's Notebook/lib.py:158: SettingWithCopyWarning: \n",
      "A value is trying to be set on a copy of a slice from a DataFrame.\n",
      "Try using .loc[row_indexer,col_indexer] = value instead\n",
      "\n",
      "See the caveats in the documentation: http://pandas.pydata.org/pandas-docs/stable/indexing.html#indexing-view-versus-copy\n",
      "  counties['fips'] = counties['fips'].map(lambda f: int(f))\n"
     ]
    },
    {
     "data": {
      "application/vnd.jupyter.widget-view+json": {
       "model_id": "47083f5072364dc4ac33876fce39c261",
       "version_major": 2,
       "version_minor": 0
      },
      "text/plain": [
       "HBox(children=(IntProgress(value=0, max=2670), HTML(value='')))"
      ]
     },
     "metadata": {},
     "output_type": "display_data"
    },
    {
     "name": "stderr",
     "output_type": "stream",
     "text": [
      "/home/sean/Dropbox/MyDocuments/Programming/CS156B/CS156B-Covid-Challenge/exploratory/Sean's Notebook/lib.py:164: SettingWithCopyWarning: \n",
      "A value is trying to be set on a copy of a slice from a DataFrame.\n",
      "Try using .loc[row_indexer,col_indexer] = value instead\n",
      "\n",
      "See the caveats in the documentation: http://pandas.pydata.org/pandas-docs/stable/indexing.html#indexing-view-versus-copy\n",
      "  county_data['date'] = county_data['date'].map(lambda l: (get_date(l) - get_date('2020-01-01')).days)\n"
     ]
    },
    {
     "name": "stdout",
     "output_type": "stream",
     "text": [
      "\n"
     ]
    }
   ],
   "source": [
    "mobility_counter = MobilityCounter()"
   ]
  },
  {
   "cell_type": "code",
   "execution_count": 8,
   "metadata": {},
   "outputs": [],
   "source": [
    "def split_fips(counter, min_thresh=10):\n",
    "    fips_list = get_fips()\n",
    "    large_fips = []\n",
    "    small_fips = []\n",
    "    for fips in fips_list:\n",
    "        X,y = counter.getY(fips)\n",
    "        if y[-1] > min_thresh:\n",
    "            large_fips.append(fips)\n",
    "        else:\n",
    "            small_fips.append(fips)\n",
    "    return large_fips, small_fips\n",
    "df_jhu_states = df_jhu[df_jhu.fips % 1000 == 0]\n",
    " \n",
    "def state_to_fip(state_abr):\n",
    "    # Converts state abbreviation to FIPS code\n",
    "    return df_jhu_states.fips[df_jhu_states.State == state_abr].values[0]"
   ]
  },
  {
   "cell_type": "code",
   "execution_count": 24,
   "metadata": {},
   "outputs": [],
   "source": [
    "def get_XY(df, features, delta_y, look_back_y, y_generator, fips_list=get_fips(), \n",
    "           moving_window=True, start_date=90, offset=0):\n",
    "    df = df[features]\n",
    "    df = df[df.fips % 1000 != 0] # remove aggregate states\n",
    "    df = df[df.State != 'PR']   # peurto rico has some weird data...\n",
    "    \n",
    "    df['mobility'] = df['fips'].map(lambda fip: 0)\n",
    "    df['cases'] = df['fips'].map(lambda fip: 0)\n",
    "    \n",
    "    col_names = []\n",
    "    for i in range(look_back_y):\n",
    "        if i == 0:\n",
    "            col_name = \"deaths\"\n",
    "        else:\n",
    "            col_name = \"deaths %d days ago\" %i\n",
    "        col_names.append(col_name)\n",
    "        df[col_name] = df['fips'].map(lambda fip: 0)\n",
    "    X = []\n",
    "    Y = []\n",
    "    for fips in df.index:\n",
    "        if int(fips) not in fips_list:\n",
    "            continue\n",
    "        base = df.loc[fips].values\n",
    "        _, cum_cases = delta_case_counter.getY(int(fips))\n",
    "        try:\n",
    "            t, ys = y_generator.getY(int(fips))\n",
    "            ys = ys.values\n",
    "        except KeyError:\n",
    "            continue\n",
    "        if len(ys) == 0:\n",
    "            X.append(base)\n",
    "            Y.append(0)\n",
    "            continue\n",
    "        for j in range(-1-offset, -len(ys), -1):\n",
    "            base = df.loc[fips].values\n",
    "            if j - delta_y >= -len(cum_cases):\n",
    "                base[-look_back_y - 1] = cum_cases[j - delta_y]\n",
    "            try:\n",
    "                time = t[j-delta_y]\n",
    "                base[-look_back_y - 2] = mobility_counter.getYByDay(int(fips), time)\n",
    "                if time < start_date:\n",
    "                    break\n",
    "            except:\n",
    "                try:\n",
    "                    tmp1,tmp2 = mobility_counter.getY(int(fips))\n",
    "                    base[-look_back_y-2] = tmp2.values[-1]\n",
    "                except:\n",
    "                    pass\n",
    "            for i in range(look_back_y):\n",
    "                if j - delta_y - i >= -len(ys):\n",
    "                    base[-look_back_y + i] = ys[j - delta_y - i]\n",
    "            X.append(base)\n",
    "            Y.append(ys[j])\n",
    "            if not moving_window:\n",
    "                break\n",
    "    df_new = pd.DataFrame(X, columns = df.columns)\n",
    "    df_new['target'] = Y\n",
    "    return df_new\n",
    "\n",
    "def get_XY_with_neighs(df, features, delta_y, look_back_y, y_generator, fips_list=get_fips(), moving_window=True,offset=0):\n",
    "    df_new = get_XY(df, features, delta_y, look_back_y, y_generator, fips_list=fips_list, moving_window=moving_window,offset=offset)\n",
    "    df_new = df_new.loc[~np.isnan(df_new.pclon10)]\n",
    "    X = df_new.iloc[:,2:-1]\n",
    "    y = df_new['target'].values\n",
    "    X = add_radius_neighbors(add_neighbors(X))\n",
    "    return X, y\n",
    "\n",
    "def Rsquare(pred, actual):   \n",
    "    return np.corrcoef(pred, actual)[0,1]**2"
   ]
  },
  {
   "cell_type": "markdown",
   "metadata": {},
   "source": [
    "## Splitting"
   ]
  },
  {
   "cell_type": "code",
   "execution_count": 164,
   "metadata": {},
   "outputs": [],
   "source": [
    "large_fips, small_fips = split_fips(cum_death_counter,min_thresh=10)"
   ]
  },
  {
   "cell_type": "code",
   "execution_count": 165,
   "metadata": {},
   "outputs": [],
   "source": [
    "X,y = get_XY_with_neighs(df_jhu_merged, features, 1, 10, delta_death_counter, fips_list=large_fips,offset=0)\n",
    "X_train, X_test, y_train, y_test = train_test_split(X, y, test_size=0.33)"
   ]
  },
  {
   "cell_type": "code",
   "execution_count": 166,
   "metadata": {},
   "outputs": [
    {
     "data": {
      "application/vnd.jupyter.widget-view+json": {
       "model_id": "54923ba7b36f4c2682adb6c2360d9409",
       "version_major": 2,
       "version_minor": 0
      },
      "text/plain": [
       "HBox(children=(IntProgress(value=0, max=43), HTML(value='')))"
      ]
     },
     "metadata": {},
     "output_type": "display_data"
    },
    {
     "name": "stdout",
     "output_type": "stream",
     "text": [
      "\n",
      "Optimum number of features: 28\n",
      "Score with 28 features: 0.715240\n"
     ]
    },
    {
     "data": {
      "image/png": "[encoded data removed]",
      "text/plain": [
       "<Figure size 432x288 with 1 Axes>"
      ]
     },
     "metadata": {
      "needs_background": "light"
     },
     "output_type": "display_data"
    }
   ],
   "source": [
    "nof_list=np.arange(1,44)            \n",
    "high_score=0\n",
    "#Variable to store the optimum features\n",
    "nof=0           \n",
    "score_list =[]\n",
    "for n in tqdm(range(len(nof_list))):\n",
    "    model = LinearRegression()\n",
    "    rfe = RFE(model,nof_list[n])\n",
    "    X_train_rfe = rfe.fit_transform(X_train,y_train)\n",
    "    X_test_rfe = rfe.transform(X_test)\n",
    "    model.fit(X_train_rfe,y_train)\n",
    "    score = model.score(X_test_rfe,y_test)\n",
    "    score_list.append(score)\n",
    "    if(score>high_score):\n",
    "        high_score = score\n",
    "        nof = nof_list[n]\n",
    "plt.plot(nof_list, score_list)\n",
    "print(\"Optimum number of features: %d\" %nof)\n",
    "print(\"Score with %d features: %f\" % (nof, high_score))"
   ]
  },
  {
   "cell_type": "code",
   "execution_count": 187,
   "metadata": {},
   "outputs": [
    {
     "name": "stdout",
     "output_type": "stream",
     "text": [
      "0.6963780394181742\n"
     ]
    }
   ],
   "source": [
    "model = LinearRegression()\n",
    "rfe = RFE(model,19)\n",
    "X_train_rfe = rfe.fit_transform(X_train,y_train)\n",
    "X_test_rfe = rfe.transform(X_test)\n",
    "model.fit(X_train_rfe,y_train)\n",
    "print(model.score(X_test_rfe,y_test))\n",
    "support = rfe.support_"
   ]
  },
  {
   "cell_type": "code",
   "execution_count": 188,
   "metadata": {},
   "outputs": [
    {
     "data": {
      "text/plain": [
       "['Active General Surgeons per 100000 Population 2018 (AAMC)',\n",
       " 'Unemployment_rate_2018',\n",
       " 'Total hospital beds per 1000 people (2019)',\n",
       " 'Total Hospitals (2019)',\n",
       " 'cases',\n",
       " 'deaths',\n",
       " 'deaths 1 days ago',\n",
       " 'deaths 2 days ago',\n",
       " 'deaths 3 days ago',\n",
       " 'deaths 4 days ago',\n",
       " 'deaths 5 days ago',\n",
       " 'deaths 6 days ago',\n",
       " 'deaths 7 days ago',\n",
       " 'deaths 8 days ago',\n",
       " 'deaths 9 days ago',\n",
       " 'neighbor3_deaths',\n",
       " 'neighbor4_deaths',\n",
       " 'neighbor5_deaths',\n",
       " 'num_in_radius']"
      ]
     },
     "execution_count": 188,
     "metadata": {},
     "output_type": "execute_result"
    }
   ],
   "source": [
    "good_cols = []\n",
    "for i in range(len(support)):\n",
    "    if support[i]:\n",
    "        good_cols.append(X_train.columns[i])\n",
    "good_cols"
   ]
  },
  {
   "cell_type": "code",
   "execution_count": 189,
   "metadata": {},
   "outputs": [
    {
     "data": {
      "text/html": [
       "<div>\n",
       "<style scoped>\n",
       "    .dataframe tbody tr th:only-of-type {\n",
       "        vertical-align: middle;\n",
       "    }\n",
       "\n",
       "    .dataframe tbody tr th {\n",
       "        vertical-align: top;\n",
       "    }\n",
       "\n",
       "    .dataframe thead th {\n",
       "        text-align: right;\n",
       "    }\n",
       "</style>\n",
       "<table border=\"1\" class=\"dataframe\">\n",
       "  <thead>\n",
       "    <tr style=\"text-align: right;\">\n",
       "      <th></th>\n",
       "      <th>Active General Surgeons per 100000 Population 2018 (AAMC)</th>\n",
       "      <th>Unemployment_rate_2018</th>\n",
       "      <th>Total hospital beds per 1000 people (2019)</th>\n",
       "      <th>Total Hospitals (2019)</th>\n",
       "      <th>cases</th>\n",
       "      <th>deaths</th>\n",
       "      <th>deaths 1 days ago</th>\n",
       "      <th>deaths 2 days ago</th>\n",
       "      <th>deaths 3 days ago</th>\n",
       "      <th>deaths 4 days ago</th>\n",
       "      <th>deaths 5 days ago</th>\n",
       "      <th>deaths 6 days ago</th>\n",
       "      <th>deaths 7 days ago</th>\n",
       "      <th>deaths 8 days ago</th>\n",
       "      <th>deaths 9 days ago</th>\n",
       "      <th>neighbor3_deaths</th>\n",
       "      <th>neighbor4_deaths</th>\n",
       "      <th>neighbor5_deaths</th>\n",
       "      <th>num_in_radius</th>\n",
       "    </tr>\n",
       "  </thead>\n",
       "  <tbody>\n",
       "    <tr>\n",
       "      <th>10723</th>\n",
       "      <td>7.1</td>\n",
       "      <td>4.9</td>\n",
       "      <td>4.0</td>\n",
       "      <td>0.965460</td>\n",
       "      <td>8</td>\n",
       "      <td>0.0</td>\n",
       "      <td>0.0</td>\n",
       "      <td>0.0</td>\n",
       "      <td>1.0</td>\n",
       "      <td>0.0</td>\n",
       "      <td>0.0</td>\n",
       "      <td>0.0</td>\n",
       "      <td>0.0</td>\n",
       "      <td>1.0</td>\n",
       "      <td>0.0</td>\n",
       "      <td>1.0</td>\n",
       "      <td>6.0</td>\n",
       "      <td>0.0</td>\n",
       "      <td>30</td>\n",
       "    </tr>\n",
       "    <tr>\n",
       "      <th>4758</th>\n",
       "      <td>5.8</td>\n",
       "      <td>2.7</td>\n",
       "      <td>1.9</td>\n",
       "      <td>2.208202</td>\n",
       "      <td>4</td>\n",
       "      <td>0.0</td>\n",
       "      <td>0.0</td>\n",
       "      <td>0.0</td>\n",
       "      <td>0.0</td>\n",
       "      <td>0.0</td>\n",
       "      <td>1.0</td>\n",
       "      <td>0.0</td>\n",
       "      <td>1.0</td>\n",
       "      <td>0.0</td>\n",
       "      <td>1.0</td>\n",
       "      <td>0.0</td>\n",
       "      <td>0.0</td>\n",
       "      <td>0.0</td>\n",
       "      <td>30</td>\n",
       "    </tr>\n",
       "    <tr>\n",
       "      <th>8944</th>\n",
       "      <td>9.6</td>\n",
       "      <td>3.0</td>\n",
       "      <td>2.3</td>\n",
       "      <td>0.771097</td>\n",
       "      <td>5</td>\n",
       "      <td>0.0</td>\n",
       "      <td>1.0</td>\n",
       "      <td>1.0</td>\n",
       "      <td>1.0</td>\n",
       "      <td>0.0</td>\n",
       "      <td>1.0</td>\n",
       "      <td>3.0</td>\n",
       "      <td>0.0</td>\n",
       "      <td>1.0</td>\n",
       "      <td>0.0</td>\n",
       "      <td>0.0</td>\n",
       "      <td>0.0</td>\n",
       "      <td>1.0</td>\n",
       "      <td>30</td>\n",
       "    </tr>\n",
       "    <tr>\n",
       "      <th>8555</th>\n",
       "      <td>9.6</td>\n",
       "      <td>3.6</td>\n",
       "      <td>1.9</td>\n",
       "      <td>2.101339</td>\n",
       "      <td>33</td>\n",
       "      <td>2.0</td>\n",
       "      <td>3.0</td>\n",
       "      <td>0.0</td>\n",
       "      <td>0.0</td>\n",
       "      <td>1.0</td>\n",
       "      <td>2.0</td>\n",
       "      <td>0.0</td>\n",
       "      <td>0.0</td>\n",
       "      <td>2.0</td>\n",
       "      <td>0.0</td>\n",
       "      <td>0.0</td>\n",
       "      <td>2.0</td>\n",
       "      <td>1.0</td>\n",
       "      <td>30</td>\n",
       "    </tr>\n",
       "    <tr>\n",
       "      <th>15929</th>\n",
       "      <td>8.7</td>\n",
       "      <td>5.4</td>\n",
       "      <td>2.9</td>\n",
       "      <td>0.869104</td>\n",
       "      <td>10</td>\n",
       "      <td>0.0</td>\n",
       "      <td>0.0</td>\n",
       "      <td>0.0</td>\n",
       "      <td>0.0</td>\n",
       "      <td>0.0</td>\n",
       "      <td>0.0</td>\n",
       "      <td>0.0</td>\n",
       "      <td>3.0</td>\n",
       "      <td>1.0</td>\n",
       "      <td>0.0</td>\n",
       "      <td>2.0</td>\n",
       "      <td>0.0</td>\n",
       "      <td>1.0</td>\n",
       "      <td>30</td>\n",
       "    </tr>\n",
       "  </tbody>\n",
       "</table>\n",
       "</div>"
      ],
      "text/plain": [
       "       Active General Surgeons per 100000 Population 2018 (AAMC)  \\\n",
       "10723                                                7.1           \n",
       "4758                                                 5.8           \n",
       "8944                                                 9.6           \n",
       "8555                                                 9.6           \n",
       "15929                                                8.7           \n",
       "\n",
       "       Unemployment_rate_2018  Total hospital beds per 1000 people (2019)  \\\n",
       "10723                     4.9                                         4.0   \n",
       "4758                      2.7                                         1.9   \n",
       "8944                      3.0                                         2.3   \n",
       "8555                      3.6                                         1.9   \n",
       "15929                     5.4                                         2.9   \n",
       "\n",
       "       Total Hospitals (2019)  cases  deaths  deaths 1 days ago  \\\n",
       "10723                0.965460      8     0.0                0.0   \n",
       "4758                 2.208202      4     0.0                0.0   \n",
       "8944                 0.771097      5     0.0                1.0   \n",
       "8555                 2.101339     33     2.0                3.0   \n",
       "15929                0.869104     10     0.0                0.0   \n",
       "\n",
       "       deaths 2 days ago  deaths 3 days ago  deaths 4 days ago  \\\n",
       "10723                0.0                1.0                0.0   \n",
       "4758                 0.0                0.0                0.0   \n",
       "8944                 1.0                1.0                0.0   \n",
       "8555                 0.0                0.0                1.0   \n",
       "15929                0.0                0.0                0.0   \n",
       "\n",
       "       deaths 5 days ago  deaths 6 days ago  deaths 7 days ago  \\\n",
       "10723                0.0                0.0                0.0   \n",
       "4758                 1.0                0.0                1.0   \n",
       "8944                 1.0                3.0                0.0   \n",
       "8555                 2.0                0.0                0.0   \n",
       "15929                0.0                0.0                3.0   \n",
       "\n",
       "       deaths 8 days ago  deaths 9 days ago  neighbor3_deaths  \\\n",
       "10723                1.0                0.0               1.0   \n",
       "4758                 0.0                1.0               0.0   \n",
       "8944                 1.0                0.0               0.0   \n",
       "8555                 2.0                0.0               0.0   \n",
       "15929                1.0                0.0               2.0   \n",
       "\n",
       "       neighbor4_deaths  neighbor5_deaths  num_in_radius  \n",
       "10723               6.0               0.0             30  \n",
       "4758                0.0               0.0             30  \n",
       "8944                0.0               1.0             30  \n",
       "8555                2.0               1.0             30  \n",
       "15929               0.0               1.0             30  "
      ]
     },
     "execution_count": 189,
     "metadata": {},
     "output_type": "execute_result"
    }
   ],
   "source": [
    "X_test_filtered = X_test[good_cols]\n",
    "X_train_filtered = X_train[good_cols]\n",
    "X_train_filtered.head()"
   ]
  },
  {
   "cell_type": "code",
   "execution_count": 195,
   "metadata": {},
   "outputs": [
    {
     "name": "stdout",
     "output_type": "stream",
     "text": [
      "Ordinary Least Squares\n",
      "R^2 (in sample): 0.828668\n",
      "R^2 (out sample): 0.696378\n",
      "Ridge Model\n",
      "R^2 (in sample): 0.828653\n",
      "R^2 (out sample): 0.694825\n",
      "Lasso Model\n",
      "R^2 (in sample): 0.800304\n",
      "R^2 (out sample): 0.619887\n"
     ]
    },
    {
     "data": {
      "text/plain": [
       "<matplotlib.collections.PathCollection at 0x7f2ac80608d0>"
      ]
     },
     "execution_count": 195,
     "metadata": {},
     "output_type": "execute_result"
    },
    {
     "data": {
      "image/png": "[encoded data removed]",
      "text/plain": [
       "<Figure size 432x288 with 1 Axes>"
      ]
     },
     "metadata": {
      "needs_background": "light"
     },
     "output_type": "display_data"
    }
   ],
   "source": [
    "normal_model = LinearRegression().fit(X_train_filtered.values, y_train)\n",
    "print(\"Ordinary Least Squares\")\n",
    "print(\"R^2 (in sample): %f\" % normal_model.score(X_train_filtered,y_train))\n",
    "print(\"R^2 (out sample): %f\" % normal_model.score(X_test_filtered,y_test))\n",
    "ridge_model = Ridge(alpha=50000)\n",
    "ridge_model.fit(X_train_filtered.values, y_train)\n",
    "print(\"Ridge Model\")\n",
    "print(\"R^2 (in sample): %f\" % ridge_model.score(X_train_filtered,y_train))\n",
    "print(\"R^2 (out sample): %f\" % ridge_model.score(X_test_filtered,y_test))\n",
    "lasso_model = Lasso(alpha=100)\n",
    "lasso_model.fit(X_train_filtered.values, y_train)\n",
    "print(\"Lasso Model\")\n",
    "print(\"R^2 (in sample): %f\" % lasso_model.score(X_train_filtered,y_train))\n",
    "print(\"R^2 (out sample): %f\" % lasso_model.score(X_test_filtered,y_test))\n",
    "plt.scatter(normal_model.predict(X_test_filtered), y_test)"
   ]
  },
  {
   "cell_type": "code",
   "execution_count": 159,
   "metadata": {},
   "outputs": [
    {
     "name": "stdout",
     "output_type": "stream",
     "text": [
      "R squared (in sample) is 0.822650\n",
      "R squared (out sample) is 0.604972\n"
     ]
    },
    {
     "data": {
      "text/plain": [
       "<matplotlib.collections.PathCollection at 0x7f2ac84d9940>"
      ]
     },
     "execution_count": 159,
     "metadata": {},
     "output_type": "execute_result"
    },
    {
     "data": {
      "image/png": "[encoded data removed]",
      "text/plain": [
       "<Figure size 432x288 with 1 Axes>"
      ]
     },
     "metadata": {
      "needs_background": "light"
     },
     "output_type": "display_data"
    }
   ],
   "source": [
    "gbm = lgb.LGBMRegressor(n_estimators=50);\n",
    "gbm.fit(X_train_filtered, y_train,\n",
    "        eval_set=[(X_test_filtered, y_test)],\n",
    "        eval_metric='l2',\n",
    "        early_stopping_rounds=10,\n",
    "        verbose=False);\n",
    "pred_train = gbm.predict(X_train_filtered, num_iteration=gbm.best_iteration_)\n",
    "print(\"R squared (in sample) is %f\" % Rsquare(pred_train, y_train))\n",
    "pred_test = gbm.predict(X_test_filtered, num_iteration=gbm.best_iteration_)\n",
    "print(\"R squared (out sample) is %f\" % Rsquare(pred_test, y_test))\n",
    "plt.scatter(pred_test, y_test)"
   ]
  },
  {
   "cell_type": "markdown",
   "metadata": {},
   "source": [
    "## Submission 3?"
   ]
  },
  {
   "cell_type": "code",
   "execution_count": 271,
   "metadata": {},
   "outputs": [],
   "source": [
    "df_true,_ =get_XY_with_neighs(df_jhu_merged, features, 0, 10, delta_death_counter, fips_list=large_fips, moving_window=False, offset=0)\n",
    "X_true = df_true[good_cols +['fips']]\n",
    "X_true = X_true.set_index('fips')\n",
    "pred = ridge_model.predict(X_true.values)\n",
    "from math import sqrt\n",
    "def get_std(val):\n",
    "    if val < 0:\n",
    "        val = 0\n",
    "    return 2*sqrt(val)\n",
    "std_dev_vec = np.vectorize(get_std)\n",
    "std = std_dev_vec(pred)\n",
    "percentile_to_zscore = {10:-1.282, 20:-0.842,30:-0.524,40:-0.253,50:0,60:0.253,70:0.524,80:0.842,90:1.282}"
   ]
  },
  {
   "cell_type": "code",
   "execution_count": 261,
   "metadata": {},
   "outputs": [],
   "source": [
    "def get_percentile_obj(model, X, min_look_ahead=1, max_look_ahead=14):\n",
    "    output = {}\n",
    "    df = X.copy()\n",
    "    for i in range(min_look_ahead, max_look_ahead + 1):\n",
    "        pred = model.predict(df.values)\n",
    "        std_prev = std_dev_vec(pred)\n",
    "        pred = np.random.normal(pred,std_prev)\n",
    "        fips_to_pred = {}\n",
    "        for j in range(len(X.index)):\n",
    "            fips = X.index[j]\n",
    "            if pred[j] < 0:\n",
    "                fips_to_pred[fips] = 0\n",
    "            else:\n",
    "                fips_to_pred[fips] = pred[j]\n",
    "        for j in range(9,0,-1):\n",
    "            col_name = 'deaths %d days ago' % j\n",
    "            if j > 1:\n",
    "                copy_col = 'deaths %d days ago' % (j-1)\n",
    "            else:\n",
    "                copy_col = 'deaths'\n",
    "            df[col_name] = df[copy_col]\n",
    "        df['deaths'] = pred\n",
    "        output[i] = fips_to_pred\n",
    "    return output\n",
    "def get_percentile_obj_rand(model, X, min_look_ahead=1, max_look_ahead=14):\n",
    "    num_samples = 200\n",
    "    dummy = get_percentile_obj(model, X, min_look_ahead=min_look_ahead, max_look_ahead=max_look_ahead)\n",
    "    freq = {}\n",
    "    output = {}\n",
    "    for key in dummy.keys():\n",
    "        freq[key] = {}\n",
    "        output[key] = {}\n",
    "        for fip in dummy[key].keys():\n",
    "            freq[key][fip] = [dummy[key][fip]]\n",
    "            output[key][fip] = {}\n",
    "    for i in tqdm(range(num_samples)):\n",
    "        dummy = get_percentile_obj(model, X, min_look_ahead=min_look_ahead, max_look_ahead=max_look_ahead)\n",
    "        for key in dummy.keys():\n",
    "            for fip in dummy[key].keys():\n",
    "                freq[key][fip].append(dummy[key][fip])\n",
    "    for key in dummy.keys():\n",
    "        for fip in dummy[key].keys():\n",
    "            for percentile in range(10, 100, 10):\n",
    "                output[key][fip][percentile] = np.percentile(freq[key][fip], percentile, axis=0)\n",
    "    return output"
   ]
  },
  {
   "cell_type": "code",
   "execution_count": 272,
   "metadata": {},
   "outputs": [
    {
     "data": {
      "application/vnd.jupyter.widget-view+json": {
       "model_id": "3ed6eb07192c4a38afe88bc52a760e32",
       "version_major": 2,
       "version_minor": 0
      },
      "text/plain": [
       "HBox(children=(IntProgress(value=0, max=200), HTML(value='')))"
      ]
     },
     "metadata": {},
     "output_type": "display_data"
    },
    {
     "name": "stdout",
     "output_type": "stream",
     "text": [
      "\n"
     ]
    }
   ],
   "source": [
    "output = get_percentile_obj(ridge_model, X_true,max_look_ahead=14)\n",
    "output_rand = get_percentile_obj_rand(ridge_model, X_true,max_look_ahead=14)"
   ]
  },
  {
   "cell_type": "code",
   "execution_count": 274,
   "metadata": {},
   "outputs": [
    {
     "data": {
      "text/plain": [
       "[<matplotlib.lines.Line2D at 0x7f2ab9dd5d30>]"
      ]
     },
     "execution_count": 274,
     "metadata": {},
     "output_type": "execute_result"
    },
    {
     "data": {
      "image/png": "[encoded data removed]",
      "text/plain": [
       "<Figure size 432x288 with 1 Axes>"
      ]
     },
     "metadata": {
      "needs_background": "light"
     },
     "output_type": "display_data"
    }
   ],
   "source": [
    "fips =  42101\n",
    "y_50 = []\n",
    "y_10 = []\n",
    "y_90 = []\n",
    "for i in range(1,7):\n",
    "    y_50.append(output_rand[i][fips][50])\n",
    "    y_10.append(output_rand[i][fips][10])\n",
    "    y_90.append(output_rand[i][fips][90])\n",
    "\n",
    "t, ys = delta_death_counter.getY(fips)\n",
    "plt.plot(t,ys)\n",
    "plt.plot(t[-1] +  range(1,7),y_50)\n",
    "plt.plot(t[-1] +  range(1,7),y_90)\n",
    "plt.plot(t[-1] +  range(1,7),y_10)"
   ]
  },
  {
   "cell_type": "code",
   "execution_count": 275,
   "metadata": {},
   "outputs": [],
   "source": [
    "df_sample_sub = pd.read_csv(f\"{homedir}/sample_submission.csv\")\n",
    "df_sample_sub['fips'] = df_sample_sub['id'].map(lambda i : int(i[11:]))\n",
    "output_fips = df_sample_sub.fips.unique()\n",
    "def truncate(dec):\n",
    "    return int(100*dec)/100\n",
    "def write_percentiles(percentile_obj, file_name, look_back_time, look_ahead_time, prediction_limit, offset=0):\n",
    "    with open(file_name, mode='w') as file:\n",
    "        writer = csv.writer(file, delimiter=',', quotechar='\"', quoting=csv.QUOTE_MINIMAL)\n",
    "        writer.writerow(['id', '10', '20', '30', '40', '50', '60', '70', '80', '90'])\n",
    "\n",
    "        today = datetime.date.today() + datetime.timedelta(days=-offset);   \n",
    "        for i in range(-look_back_time, 0):\n",
    "            target_day = today + datetime.timedelta(days=i)\n",
    "            string_pre = target_day.strftime('%Y-%m-%d-')\n",
    "            for fips in output_fips:\n",
    "                print_lst = [string_pre + str(fips)]\n",
    "                try:\n",
    "                    X, y = delta_death_counter.getY(fips)\n",
    "                    y = y.values\n",
    "                    for j in range(9):\n",
    "                        print_lst.append(y[i])\n",
    "                except:\n",
    "                    for j in range(9):\n",
    "                        print_lst.append(0)\n",
    "                writer.writerow(print_lst)\n",
    "        for delta_y in range(1, look_ahead_time):\n",
    "            target_day = today + datetime.timedelta(days=delta_y-1)\n",
    "            string_pre = target_day.strftime('%Y-%m-%d-')\n",
    "            if delta_y > prediction_limit:\n",
    "                for fips in output_fips:\n",
    "                    l = [string_pre + str(fips)]\n",
    "                    writer.writerow(l + [0] * 9)\n",
    "                continue\n",
    "            for fips in output_fips:\n",
    "                print_lst = [string_pre + str(fips)]\n",
    "                if fips in percentile_obj[delta_y].keys():\n",
    "                    for percentiles in range(10,100,10):\n",
    "                        datum = percentile_obj[delta_y][fips][percentiles]\n",
    "                        if datum < 0:\n",
    "                            datum = 0\n",
    "                        print_lst.append(truncate(datum))\n",
    "                else:\n",
    "                    for i in range(9):\n",
    "                        print_lst.append(0)\n",
    "                writer.writerow(print_lst)"
   ]
  },
  {
   "cell_type": "code",
   "execution_count": 278,
   "metadata": {},
   "outputs": [],
   "source": [
    "write_percentiles(output_rand, 'submission.csv', 38, 54, 14, offset=1)\n",
    "your_submission = pd.read_csv('submission.csv').set_index('id').sort_index()\n",
    "sample_submission = pd.read_csv(f\"{homedir}/sample_submission.csv\").set_index('id').sort_index()\n",
    "assert(your_submission.index.equals(sample_submission.index))"
   ]
  },
  {
   "cell_type": "markdown",
   "metadata": {},
   "source": [
    "# Submission 2"
   ]
  },
  {
   "cell_type": "code",
   "execution_count": null,
   "metadata": {},
   "outputs": [],
   "source": [
    "# Get a list of OLS trained models\n",
    "def train_models(fips_set, good_cols, min_look_ahead=1, max_look_ahead=14,offset=0):\n",
    "    models = []\n",
    "    for delta_y in range(min_look_ahead, max_look_ahead + 1):\n",
    "        X,y = get_XY_with_neighs(df_jhu_merged, features, delta_y, 5, delta_death_counter, fips_list=fips_set, moving_window=True,offset=offset)\n",
    "        X_train, X_test, y_train, y_test = train_test_split(X, y, test_size=0.33)\n",
    "        X_test = X_test[good_cols]\n",
    "        X_train = X_train[good_cols]\n",
    "        model = sm.OLS(y_train,X_train)\n",
    "        print(\"Training model to predict %d days in the future\" % delta_y)\n",
    "        result = model.fit()\n",
    "        print(\"R squared (out sample) is %f\" % (Rsquare(result.predict(X_test), y_test)))\n",
    "        models.append(result)\n",
    "    return  models"
   ]
  },
  {
   "cell_type": "code",
   "execution_count": null,
   "metadata": {},
   "outputs": [],
   "source": [
    "model_list = train_models(large_fips, good_cols,offset=0)"
   ]
  },
  {
   "cell_type": "code",
   "execution_count": null,
   "metadata": {},
   "outputs": [],
   "source": [
    "def get_param_info(models, min_look_ahead=1, max_look_ahead=14):\n",
    "    params_mu = {}\n",
    "    params_stderr = {}\n",
    "    for i in range(len(models)):\n",
    "        model = models[i]\n",
    "        params_mu[i + min_look_ahead] = model.params\n",
    "        params_stderr[i + min_look_ahead] = model.bse\n",
    "    return params_mu, params_stderr"
   ]
  },
  {
   "cell_type": "code",
   "execution_count": null,
   "metadata": {},
   "outputs": [],
   "source": [
    "param_mu, param_stderr = get_param_info(model_list)"
   ]
  },
  {
   "cell_type": "code",
   "execution_count": null,
   "metadata": {},
   "outputs": [],
   "source": [
    "df_true,_ =get_XY_with_neighs(df_jhu_merged, features, 0, 5, delta_death_counter, fips_list=large_fips, moving_window=False)\n",
    "X_true = df_true[good_cols +['fips']]\n",
    "X_true = X_true.set_index('fips')\n",
    "X_true.head()"
   ]
  },
  {
   "cell_type": "code",
   "execution_count": null,
   "metadata": {},
   "outputs": [],
   "source": [
    "def gen_percentiles(X, param_mu, param_stderr, fips_list, min_look_ahead=1, max_look_ahead=14):\n",
    "    output = {}\n",
    "    for i in range(min_look_ahead, max_look_ahead + 1):\n",
    "        n_samples = 400\n",
    "        fips_to_samples = {}\n",
    "        fips_to_percentiles = {}\n",
    "        for fips in X.index:\n",
    "            fips_to_samples[fips] = []\n",
    "            fips_to_percentiles[fips] = {}\n",
    "        for j in range(n_samples):\n",
    "            param_sample = np.random.normal(param_mu[i], param_stderr[i])\n",
    "            res = np.matmul(X.values, param_sample)\n",
    "            for k in range(len(X.index)):\n",
    "                fip = X.index[k]\n",
    "                fips_to_samples[fip].append(res[k])\n",
    "        for fips in X.index:\n",
    "            for percentile in range(10, 100, 10):\n",
    "                fips_to_percentiles[fips][percentile] = np.percentile(fips_to_samples[fips], percentile, axis=0)\n",
    "        output[i] = fips_to_percentiles\n",
    "    return output"
   ]
  },
  {
   "cell_type": "code",
   "execution_count": null,
   "metadata": {},
   "outputs": [],
   "source": [
    "percentiles = gen_percentiles(X_true, param_mu, param_stderr, large_fips, 1, 14)\n",
    "df_sample_sub = pd.read_csv(f\"{homedir}/sample_submission.csv\")\n",
    "df_sample_sub['fips'] = df_sample_sub['id'].map(lambda i : int(i[11:]))\n",
    "output_fips = df_sample_sub.fips.unique()"
   ]
  },
  {
   "cell_type": "code",
   "execution_count": null,
   "metadata": {},
   "outputs": [],
   "source": [
    "import datetime\n",
    "with open('submission.csv', mode='w') as file:\n",
    "    writer = csv.writer(file, delimiter=',', quotechar='\"', quoting=csv.QUOTE_MINIMAL)\n",
    "    writer.writerow(['id', '10', '20', '30', '40', '50', '60', '70', '80', '90'])\n",
    "\n",
    "    today = datetime.date.today();   \n",
    "    for i in range(-38, 0):\n",
    "        target_day = today + datetime.timedelta(days=i)\n",
    "        string_pre = target_day.strftime('%Y-%m-%d-')\n",
    "        for fips in output_fips:\n",
    "            print_lst = [string_pre + str(fips)]\n",
    "            try:\n",
    "                X, y = delta_death_counter.getY(fips)\n",
    "                y = y.values\n",
    "                for j in range(9):\n",
    "                    print_lst.append(y[i])\n",
    "            except:\n",
    "                for j in range(9):\n",
    "                    print_lst.append(0)\n",
    "            writer.writerow(print_lst)\n",
    "    for delta_y in range(1, 54):\n",
    "        target_day = today + datetime.timedelta(days=delta_y-1)\n",
    "        string_pre = target_day.strftime('%Y-%m-%d-')\n",
    "        if delta_y > 14:\n",
    "            for fips in output_fips:\n",
    "                l = [string_pre + str(fips)]\n",
    "                writer.writerow(l + [0] * 9)\n",
    "            continue\n",
    "        for fips in output_fips:\n",
    "            print_lst = [string_pre + str(fips)]\n",
    "            if fips in percentiles[delta_y].keys():\n",
    "                for percentile in range(10,100,10):\n",
    "                    datum = percentiles[delta_y][fips][percentile]\n",
    "                    if datum < 0:\n",
    "                        datum = 0\n",
    "                    print_lst.append(truncate(datum))\n",
    "            else:\n",
    "                for i in range(9):\n",
    "                    print_lst.append(0)\n",
    "            writer.writerow(print_lst)"
   ]
  },
  {
   "cell_type": "code",
   "execution_count": null,
   "metadata": {},
   "outputs": [],
   "source": [
    "your_submission = pd.read_csv('submission.csv').set_index('id').sort_index()\n",
    "sample_submission = pd.read_csv(f\"{homedir}/sample_submission.csv\").set_index('id').sort_index()\n",
    "assert(your_submission.index.equals(sample_submission.index))"
   ]
  },
  {
   "cell_type": "markdown",
   "metadata": {},
   "source": [
    "## Some Sanity?"
   ]
  },
  {
   "cell_type": "code",
   "execution_count": null,
   "metadata": {},
   "outputs": [],
   "source": [
    "model_list_offset = train_models(large_fips, good_cols,offset=7)"
   ]
  },
  {
   "cell_type": "code",
   "execution_count": null,
   "metadata": {},
   "outputs": [],
   "source": [
    "param_mu, param_stderr = get_param_info(model_list_offset)"
   ]
  },
  {
   "cell_type": "code",
   "execution_count": null,
   "metadata": {},
   "outputs": [],
   "source": [
    "df_true,_ =get_XY_with_neighs(df_jhu_merged, features, 0, 5, delta_death_counter, fips_list=large_fips, moving_window=False,offset=7)\n",
    "X_true = df_true[good_cols+['fips']]\n",
    "X_true = X_true.set_index('fips')\n",
    "X_true.head()"
   ]
  },
  {
   "cell_type": "code",
   "execution_count": null,
   "metadata": {},
   "outputs": [],
   "source": [
    "percentiles_offset = gen_percentiles(X_true, param_mu, param_stderr, large_fips, 1, 14)"
   ]
  },
  {
   "cell_type": "code",
   "execution_count": null,
   "metadata": {},
   "outputs": [],
   "source": [
    "with open('submission_offset.csv', mode='w') as file:\n",
    "    writer = csv.writer(file, delimiter=',', quotechar='\"', quoting=csv.QUOTE_MINIMAL)\n",
    "    writer.writerow(['id', '10', '20', '30', '40', '50', '60', '70', '80', '90'])\n",
    "\n",
    "    today = datetime.date.today() + datetime.timedelta(days=-14);   \n",
    "    for i in range(-24, 0):\n",
    "        target_day = today + datetime.timedelta(days=i)\n",
    "        string_pre = target_day.strftime('%Y-%m-%d-')\n",
    "        for fips in output_fips:\n",
    "            print_lst = [string_pre + str(fips)]\n",
    "            try:\n",
    "                X, y = delta_death_counter.getY(fips)\n",
    "                y = y.values\n",
    "                for j in range(9):\n",
    "                    print_lst.append(y[i])\n",
    "            except:\n",
    "                for j in range(9):\n",
    "                    print_lst.append(0)\n",
    "            writer.writerow(print_lst)\n",
    "    for delta_y in range(1, 68):\n",
    "        target_day = today + datetime.timedelta(days=delta_y-1)\n",
    "        string_pre = target_day.strftime('%Y-%m-%d-')\n",
    "        if delta_y > 14:\n",
    "            for fips in output_fips:\n",
    "                l = [string_pre + str(fips)]\n",
    "                writer.writerow(l + [0] * 9)\n",
    "            continue\n",
    "        for fips in output_fips:\n",
    "            print_lst = [string_pre + str(fips)]\n",
    "            if fips in percentiles_offset[delta_y].keys():\n",
    "                for percentiles in range(10,100,10):\n",
    "                    datum = percentiles_offset[delta_y][fips][percentiles]\n",
    "                    if datum < 0:\n",
    "                        datum = 0\n",
    "                    print_lst.append(truncate(datum))\n",
    "            else:\n",
    "                for i in range(9):\n",
    "                    print_lst.append(0)\n",
    "            writer.writerow(print_lst)"
   ]
  },
  {
   "cell_type": "code",
   "execution_count": null,
   "metadata": {},
   "outputs": [],
   "source": [
    "your_submission = pd.read_csv('submission_offset.csv').set_index('id').sort_index()\n",
    "sample_submission = pd.read_csv(f\"{homedir}/sample_submission.csv\").set_index('id').sort_index()\n",
    "assert(your_submission.index.equals(sample_submission.index))"
   ]
  },
  {
   "cell_type": "code",
   "execution_count": null,
   "metadata": {},
   "outputs": [],
   "source": [
    "percentiles_offset[14][36061][90]"
   ]
  },
  {
   "cell_type": "markdown",
   "metadata": {},
   "source": [
    "## Submission Using LGBM"
   ]
  },
  {
   "cell_type": "code",
   "execution_count": null,
   "metadata": {},
   "outputs": [],
   "source": [
    "print(good_cols)"
   ]
  },
  {
   "cell_type": "code",
   "execution_count": null,
   "metadata": {},
   "outputs": [],
   "source": [
    "# Get a list of OLS trained models\n",
    "def train_models(fips_set, good_cols, min_look_ahead=1, max_look_ahead=14,offset=0):\n",
    "    models = []\n",
    "    for delta_y in range(min_look_ahead, max_look_ahead + 1):\n",
    "        X,y = get_XY_with_neighs(df_jhu_merged, features, delta_y, 5, delta_death_counter, fips_list=large_fips, moving_window=False,offset=offset)\n",
    "        X_train, X_test, y_train, y_test = train_test_split(X, y, test_size=0.33)\n",
    "        X_test = X_test[good_cols]\n",
    "        X_train = X_train[good_cols]\n",
    "        gbm = lgb.LGBMRegressor(num_leaves=10,\n",
    "                        learning_rate=0.05,\n",
    "                        n_estimators=100);\n",
    "        print(\"Training model to predict %d days in the future\" % delta_y)\n",
    "        gbm.fit(X_train, y_train, verbose=False);\n",
    "        print(\"R squared (out sample) is %f\" % (gbm.score(X_test, y_test)))\n",
    "        models.append(gbm)\n",
    "    return  models"
   ]
  },
  {
   "cell_type": "code",
   "execution_count": null,
   "metadata": {},
   "outputs": [],
   "source": [
    "models = train_models(large_fips, good_cols, offset=5)"
   ]
  },
  {
   "cell_type": "code",
   "execution_count": null,
   "metadata": {},
   "outputs": [],
   "source": []
  },
  {
   "cell_type": "code",
   "execution_count": null,
   "metadata": {},
   "outputs": [],
   "source": []
  },
  {
   "cell_type": "code",
   "execution_count": null,
   "metadata": {},
   "outputs": [],
   "source": []
  },
  {
   "cell_type": "code",
   "execution_count": null,
   "metadata": {},
   "outputs": [],
   "source": []
  },
  {
   "cell_type": "code",
   "execution_count": null,
   "metadata": {},
   "outputs": [],
   "source": []
  }
 ],
 "metadata": {
  "kernelspec": {
   "display_name": "Python 3",
   "language": "python",
   "name": "python3"
  },
  "language_info": {
   "codemirror_mode": {
    "name": "ipython",
    "version": 3
   },
   "file_extension": ".py",
   "mimetype": "text/x-python",
   "name": "python",
   "nbconvert_exporter": "python",
   "pygments_lexer": "ipython3",
   "version": "3.7.3"
  }
 },
 "nbformat": 4,
 "nbformat_minor": 2
}
